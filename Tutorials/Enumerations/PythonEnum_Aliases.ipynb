{
 "cells": [
  {
   "cell_type": "markdown",
   "id": "36e13798-8d17-46f6-b820-395ae144a3a6",
   "metadata": {},
   "source": [
    "### Introduction to the Enum Aliases"
   ]
  },
  {
   "cell_type": "code",
   "execution_count": 1,
   "id": "813bd0b0-2053-4a5d-a333-e8231cb71cc8",
   "metadata": {},
   "outputs": [],
   "source": [
    "from enum import Enum\n",
    "\n",
    "class Color(Enum):\n",
    "    \n",
    "    RED = 1\n",
    "    CRIMSON = 1\n",
    "    SALMON = 1\n",
    "    GREEN = 2\n",
    "    BLUE = 3"
   ]
  },
  {
   "cell_type": "code",
   "execution_count": 2,
   "id": "c75e1692-1a34-453a-97e2-4fc22422959d",
   "metadata": {},
   "outputs": [
    {
     "name": "stdout",
     "output_type": "stream",
     "text": [
      "True\n",
      "True\n"
     ]
    }
   ],
   "source": [
    "print(Color.RED is Color.CRIMSON)\n",
    "print(Color.RED is Color.SALMON)"
   ]
  },
  {
   "cell_type": "code",
   "execution_count": 3,
   "id": "05eacfa0-d290-4f00-ab8d-527ae60e72d6",
   "metadata": {},
   "outputs": [
    {
     "name": "stdout",
     "output_type": "stream",
     "text": [
      "Color.RED\n"
     ]
    }
   ],
   "source": [
    "print(Color(1))"
   ]
  },
  {
   "cell_type": "code",
   "execution_count": 4,
   "id": "c5941315-7f2e-41db-9320-56926c5b47f2",
   "metadata": {},
   "outputs": [
    {
     "name": "stdout",
     "output_type": "stream",
     "text": [
      "Color.RED\n",
      "Color.GREEN\n",
      "Color.BLUE\n"
     ]
    }
   ],
   "source": [
    "for color in Color:\n",
    "    print(color)"
   ]
  },
  {
   "cell_type": "code",
   "execution_count": 5,
   "id": "7266f9a3-53a1-411e-8486-96f2eefbc8ae",
   "metadata": {},
   "outputs": [
    {
     "name": "stdout",
     "output_type": "stream",
     "text": [
      "mappingproxy({'BLUE': <Color.BLUE: 3>,\n",
      "              'CRIMSON': <Color.RED: 1>,\n",
      "              'GREEN': <Color.GREEN: 2>,\n",
      "              'RED': <Color.RED: 1>,\n",
      "              'SALMON': <Color.RED: 1>})\n"
     ]
    }
   ],
   "source": [
    "from enum import Enum\n",
    "from pprint import pprint\n",
    "\n",
    "class Color(Enum):\n",
    "    \n",
    "    RED = 1\n",
    "    CRIMSON = 1\n",
    "    SALMON = 1\n",
    "    GREEN = 2\n",
    "    BLUE = 3\n",
    "    \n",
    "pprint(Color.__members__)"
   ]
  },
  {
   "cell_type": "markdown",
   "id": "1c9cb0ed-4768-4ee8-a2b9-d186119d4387",
   "metadata": {},
   "source": [
    "### When to use enum aliases"
   ]
  },
  {
   "cell_type": "code",
   "execution_count": 6,
   "id": "51281458-60ef-4f06-9f82-21b593e711ea",
   "metadata": {},
   "outputs": [
    {
     "data": {
      "text/html": [
       "<div>\n",
       "<style scoped>\n",
       "    .dataframe tbody tr th:only-of-type {\n",
       "        vertical-align: middle;\n",
       "    }\n",
       "\n",
       "    .dataframe tbody tr th {\n",
       "        vertical-align: top;\n",
       "    }\n",
       "\n",
       "    .dataframe thead th {\n",
       "        text-align: right;\n",
       "    }\n",
       "</style>\n",
       "<table border=\"1\" class=\"dataframe\">\n",
       "  <thead>\n",
       "    <tr style=\"text-align: right;\">\n",
       "      <th></th>\n",
       "      <th>System 1</th>\n",
       "      <th>System 2</th>\n",
       "      <th>Meaning</th>\n",
       "    </tr>\n",
       "  </thead>\n",
       "  <tbody>\n",
       "    <tr>\n",
       "      <th>0</th>\n",
       "      <td>REQUESTING</td>\n",
       "      <td>PENDING</td>\n",
       "      <td>The request is in progress</td>\n",
       "    </tr>\n",
       "    <tr>\n",
       "      <th>1</th>\n",
       "      <td>OK</td>\n",
       "      <td>FULFILLED</td>\n",
       "      <td>The request was completed successfully</td>\n",
       "    </tr>\n",
       "    <tr>\n",
       "      <th>2</th>\n",
       "      <td>NOT_OK</td>\n",
       "      <td>REJECTED</td>\n",
       "      <td>The request was failed</td>\n",
       "    </tr>\n",
       "  </tbody>\n",
       "</table>\n",
       "</div>"
      ],
      "text/plain": [
       "     System 1   System 2                                 Meaning\n",
       "0  REQUESTING    PENDING              The request is in progress\n",
       "1          OK  FULFILLED  The request was completed successfully\n",
       "2      NOT_OK   REJECTED                  The request was failed"
      ]
     },
     "execution_count": 6,
     "metadata": {},
     "output_type": "execute_result"
    }
   ],
   "source": [
    "import pandas as pd\n",
    "\n",
    "data = [['REQUESTING', 'PENDING', 'The request is in progress'],\n",
    "        ['OK', 'FULFILLED', 'The request was completed successfully'],\n",
    "        ['NOT_OK', 'REJECTED', 'The request was failed']\n",
    "       ]\n",
    "\n",
    "df = pd.DataFrame(data, columns = ['System 1', 'System 2', 'Meaning'])\n",
    "\n",
    "df"
   ]
  },
  {
   "cell_type": "markdown",
   "id": "1a91bf20-16a2-4090-8dcf-bb72c797ddbc",
   "metadata": {},
   "source": [
    "To standardize the status codes from these systems, you can use enumeration aliases as follows:"
   ]
  },
  {
   "cell_type": "code",
   "execution_count": 8,
   "id": "9bcba92e-cbb1-401f-ac2c-58cb1b85dc5a",
   "metadata": {},
   "outputs": [
    {
     "data": {
      "text/html": [
       "<div>\n",
       "<style scoped>\n",
       "    .dataframe tbody tr th:only-of-type {\n",
       "        vertical-align: middle;\n",
       "    }\n",
       "\n",
       "    .dataframe tbody tr th {\n",
       "        vertical-align: top;\n",
       "    }\n",
       "\n",
       "    .dataframe thead th {\n",
       "        text-align: right;\n",
       "    }\n",
       "</style>\n",
       "<table border=\"1\" class=\"dataframe\">\n",
       "  <thead>\n",
       "    <tr style=\"text-align: right;\">\n",
       "      <th></th>\n",
       "      <th>Your System</th>\n",
       "      <th>System 1</th>\n",
       "      <th>System 2</th>\n",
       "      <th>Meaning</th>\n",
       "    </tr>\n",
       "  </thead>\n",
       "  <tbody>\n",
       "    <tr>\n",
       "      <th>0</th>\n",
       "      <td>IN_PROGRESS</td>\n",
       "      <td>REQUESTING</td>\n",
       "      <td>PENDING</td>\n",
       "      <td>The request is in progress</td>\n",
       "    </tr>\n",
       "    <tr>\n",
       "      <th>1</th>\n",
       "      <td>SUCCESS</td>\n",
       "      <td>OK</td>\n",
       "      <td>FULFILLED</td>\n",
       "      <td>The request was completed successfully</td>\n",
       "    </tr>\n",
       "    <tr>\n",
       "      <th>2</th>\n",
       "      <td>ERROR</td>\n",
       "      <td>NOT_OK</td>\n",
       "      <td>REJECTED</td>\n",
       "      <td>The request was failed</td>\n",
       "    </tr>\n",
       "  </tbody>\n",
       "</table>\n",
       "</div>"
      ],
      "text/plain": [
       "   Your System    System 1   System 2                                 Meaning\n",
       "0  IN_PROGRESS  REQUESTING    PENDING              The request is in progress\n",
       "1      SUCCESS          OK  FULFILLED  The request was completed successfully\n",
       "2        ERROR      NOT_OK   REJECTED                  The request was failed"
      ]
     },
     "execution_count": 8,
     "metadata": {},
     "output_type": "execute_result"
    }
   ],
   "source": [
    "data = [['IN_PROGRESS', 'REQUESTING', 'PENDING', 'The request is in progress'],\n",
    "        ['SUCCESS', 'OK', 'FULFILLED', 'The request was completed successfully'],\n",
    "        ['ERROR', 'NOT_OK', 'REJECTED', 'The request was failed']\n",
    "       ]\n",
    "\n",
    "df = pd.DataFrame(data, columns = ['Your System', 'System 1', 'System 2', 'Meaning'])\n",
    "\n",
    "df"
   ]
  },
  {
   "cell_type": "code",
   "execution_count": 9,
   "id": "6fc09b66-1f82-4ad6-be44-f26109431bfc",
   "metadata": {},
   "outputs": [],
   "source": [
    "from enum import Enum\n",
    "\n",
    "class ResponseStatus(Enum):\n",
    "    \n",
    "    # In progress\n",
    "    IN_PROGRESS = 1\n",
    "    REQUESTING = 1\n",
    "    PENDING = 1\n",
    "    \n",
    "    # Success\n",
    "    SUCCESS = 2\n",
    "    OK = 2\n",
    "    FULFILLED = 2\n",
    "    \n",
    "    # Error\n",
    "    Error = 3\n",
    "    NOT_OK = 3\n",
    "    REJECTED = 3"
   ]
  },
  {
   "cell_type": "code",
   "execution_count": 10,
   "id": "be6a7f84-3548-46b7-91f4-3620715c6810",
   "metadata": {},
   "outputs": [
    {
     "name": "stdout",
     "output_type": "stream",
     "text": [
      "The request completed successfully\n"
     ]
    }
   ],
   "source": [
    "code = 'OK'\n",
    "if ResponseStatus[code] is ResponseStatus.SUCCESS:\n",
    "    print('The request completed successfully')"
   ]
  },
  {
   "cell_type": "code",
   "execution_count": 11,
   "id": "65da1dbe-bae5-4c25-8e88-7c874da0e6ed",
   "metadata": {},
   "outputs": [
    {
     "name": "stdout",
     "output_type": "stream",
     "text": [
      "The request completed successfully\n"
     ]
    }
   ],
   "source": [
    "code = 'FULFILLED'\n",
    "if ResponseStatus[code] is ResponseStatus.SUCCESS:\n",
    "    print('The request completed successfully')"
   ]
  },
  {
   "cell_type": "markdown",
   "id": "b6915353-4752-408f-b051-4784631a9468",
   "metadata": {},
   "source": [
    "### @enum.unique decorator\n"
   ]
  },
  {
   "cell_type": "code",
   "execution_count": 13,
   "id": "5db193f9-ce4b-4eba-a3be-72eff6fd09af",
   "metadata": {},
   "outputs": [],
   "source": [
    "from enum import Enum\n",
    "\n",
    "\n",
    "class Day(Enum):\n",
    "    \n",
    "    MON = 'Monday'\n",
    "    TUE = 'Tuesday'\n",
    "    WED = 'Wednesday'\n",
    "    THU = 'Thursday'\n",
    "    FRI = 'Friday'\n",
    "    SAT = 'Saturday'\n",
    "    SUN = 'Sunday'"
   ]
  },
  {
   "cell_type": "code",
   "execution_count": 14,
   "id": "8b6c8eae-bd81-4e2d-9f6d-368756962d7e",
   "metadata": {},
   "outputs": [
    {
     "ename": "ValueError",
     "evalue": "duplicate values found in <enum 'Day'>: TUE -> MON",
     "output_type": "error",
     "traceback": [
      "\u001b[0;31m---------------------------------------------------------------------------\u001b[0m",
      "\u001b[0;31mValueError\u001b[0m                                Traceback (most recent call last)",
      "Input \u001b[0;32mIn [14]\u001b[0m, in \u001b[0;36m<cell line: 6>\u001b[0;34m()\u001b[0m\n\u001b[1;32m      1\u001b[0m \u001b[38;5;28;01mimport\u001b[39;00m \u001b[38;5;21;01menum\u001b[39;00m\n\u001b[1;32m      3\u001b[0m \u001b[38;5;28;01mfrom\u001b[39;00m \u001b[38;5;21;01menum\u001b[39;00m \u001b[38;5;28;01mimport\u001b[39;00m Enum\n\u001b[1;32m      6\u001b[0m \u001b[38;5;129;43m@enum\u001b[39;49m\u001b[38;5;241;43m.\u001b[39;49m\u001b[43munique\u001b[49m\n\u001b[0;32m----> 7\u001b[0m \u001b[38;5;28;43;01mclass\u001b[39;49;00m\u001b[43m \u001b[49m\u001b[38;5;21;43;01mDay\u001b[39;49;00m\u001b[43m(\u001b[49m\u001b[43mEnum\u001b[49m\u001b[43m)\u001b[49m\u001b[43m:\u001b[49m\n\u001b[1;32m      8\u001b[0m \u001b[43m    \u001b[49m\u001b[43mMON\u001b[49m\u001b[43m \u001b[49m\u001b[38;5;241;43m=\u001b[39;49m\u001b[43m \u001b[49m\u001b[38;5;124;43m'\u001b[39;49m\u001b[38;5;124;43mMonday\u001b[39;49m\u001b[38;5;124;43m'\u001b[39;49m\n\u001b[1;32m      9\u001b[0m \u001b[43m    \u001b[49m\u001b[43mTUE\u001b[49m\u001b[43m \u001b[49m\u001b[38;5;241;43m=\u001b[39;49m\u001b[43m \u001b[49m\u001b[38;5;124;43m'\u001b[39;49m\u001b[38;5;124;43mMonday\u001b[39;49m\u001b[38;5;124;43m'\u001b[39;49m\n",
      "File \u001b[0;32m~/opt/anaconda3/lib/python3.9/enum.py:1013\u001b[0m, in \u001b[0;36munique\u001b[0;34m(enumeration)\u001b[0m\n\u001b[1;32m   1010\u001b[0m \u001b[38;5;28;01mif\u001b[39;00m duplicates:\n\u001b[1;32m   1011\u001b[0m     alias_details \u001b[38;5;241m=\u001b[39m \u001b[38;5;124m'\u001b[39m\u001b[38;5;124m, \u001b[39m\u001b[38;5;124m'\u001b[39m\u001b[38;5;241m.\u001b[39mjoin(\n\u001b[1;32m   1012\u001b[0m             [\u001b[38;5;124m\"\u001b[39m\u001b[38;5;132;01m%s\u001b[39;00m\u001b[38;5;124m -> \u001b[39m\u001b[38;5;132;01m%s\u001b[39;00m\u001b[38;5;124m\"\u001b[39m \u001b[38;5;241m%\u001b[39m (alias, name) \u001b[38;5;28;01mfor\u001b[39;00m (alias, name) \u001b[38;5;129;01min\u001b[39;00m duplicates])\n\u001b[0;32m-> 1013\u001b[0m     \u001b[38;5;28;01mraise\u001b[39;00m \u001b[38;5;167;01mValueError\u001b[39;00m(\u001b[38;5;124m'\u001b[39m\u001b[38;5;124mduplicate values found in \u001b[39m\u001b[38;5;132;01m%r\u001b[39;00m\u001b[38;5;124m: \u001b[39m\u001b[38;5;132;01m%s\u001b[39;00m\u001b[38;5;124m'\u001b[39m \u001b[38;5;241m%\u001b[39m\n\u001b[1;32m   1014\u001b[0m             (enumeration, alias_details))\n\u001b[1;32m   1015\u001b[0m \u001b[38;5;28;01mreturn\u001b[39;00m enumeration\n",
      "\u001b[0;31mValueError\u001b[0m: duplicate values found in <enum 'Day'>: TUE -> MON"
     ]
    }
   ],
   "source": [
    "import enum\n",
    "\n",
    "from enum import Enum\n",
    "\n",
    "\n",
    "@enum.unique\n",
    "class Day(Enum):\n",
    "    MON = 'Monday'\n",
    "    TUE = 'Monday'\n",
    "    WED = 'Wednesday'\n",
    "    THU = 'Thursday'\n",
    "    FRI = 'Friday'\n",
    "    SAT = 'Saturday'\n",
    "    SUN = 'Sunday'"
   ]
  },
  {
   "cell_type": "markdown",
   "id": "75937429-0186-4b76-bbef-3feb41929fab",
   "metadata": {},
   "source": [
    "### Summary\n",
    "- When an enumeration has different members with the same values, the first member is the main member while others are aliases of the main member.\n",
    "- Use the @enum.unique decorator from the enum module to enforce the uniqueness of the values of the members."
   ]
  },
  {
   "cell_type": "code",
   "execution_count": null,
   "id": "66d1b099-45ed-46e1-a61d-709934b66f66",
   "metadata": {},
   "outputs": [],
   "source": []
  }
 ],
 "metadata": {
  "kernelspec": {
   "display_name": "Python 3 (ipykernel)",
   "language": "python",
   "name": "python3"
  },
  "language_info": {
   "codemirror_mode": {
    "name": "ipython",
    "version": 3
   },
   "file_extension": ".py",
   "mimetype": "text/x-python",
   "name": "python",
   "nbconvert_exporter": "python",
   "pygments_lexer": "ipython3",
   "version": "3.9.12"
  }
 },
 "nbformat": 4,
 "nbformat_minor": 5
}
