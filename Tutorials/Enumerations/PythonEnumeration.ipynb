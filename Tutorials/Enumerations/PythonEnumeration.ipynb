{
 "cells": [
  {
   "cell_type": "markdown",
   "id": "af5cf98e-83f8-418e-89cd-edcb9adf860c",
   "metadata": {},
   "source": [
    "### Introduction to Python Enumeration"
   ]
  },
  {
   "cell_type": "code",
   "execution_count": 3,
   "id": "ec4c7ac9-bf09-41de-ad02-885d59aa3e55",
   "metadata": {},
   "outputs": [],
   "source": [
    "from enum import Enum\n",
    "\n",
    "class Color(Enum):\n",
    "    \n",
    "    RED = 1\n",
    "    GREEN = 2\n",
    "    BLUE = 3"
   ]
  },
  {
   "cell_type": "code",
   "execution_count": 4,
   "id": "9f886a60-e16b-4237-ab3e-271ae27f70c6",
   "metadata": {},
   "outputs": [
    {
     "name": "stdout",
     "output_type": "stream",
     "text": [
      "<enum 'Color'>\n"
     ]
    }
   ],
   "source": [
    "print(type(Color.RED))"
   ]
  },
  {
   "cell_type": "code",
   "execution_count": 5,
   "id": "416fda8f-a534-43d7-8a86-30d7eaa4b6e3",
   "metadata": {},
   "outputs": [
    {
     "name": "stdout",
     "output_type": "stream",
     "text": [
      "True\n"
     ]
    }
   ],
   "source": [
    "print(isinstance(Color.RED, Color))"
   ]
  },
  {
   "cell_type": "code",
   "execution_count": 6,
   "id": "b776e8d3-87f1-4d8c-84a3-593f0d6c24a0",
   "metadata": {},
   "outputs": [
    {
     "name": "stdout",
     "output_type": "stream",
     "text": [
      "RED\n",
      "1\n"
     ]
    }
   ],
   "source": [
    "print(Color.RED.name)\n",
    "print(Color.RED.value)"
   ]
  },
  {
   "cell_type": "markdown",
   "id": "c5ba3a92-a83c-4d23-8640-601db7c24383",
   "metadata": {},
   "source": [
    "### Membership and Equality"
   ]
  },
  {
   "cell_type": "code",
   "execution_count": 7,
   "id": "5f33e95c-6a58-44b3-8324-afee87e3edd4",
   "metadata": {},
   "outputs": [
    {
     "name": "stdout",
     "output_type": "stream",
     "text": [
      "Yes\n"
     ]
    }
   ],
   "source": [
    "if Color.RED in Color:\n",
    "    print('Yes')"
   ]
  },
  {
   "cell_type": "code",
   "execution_count": 8,
   "id": "f054f1cc-d8af-472e-8248-c45bc312a320",
   "metadata": {},
   "outputs": [
    {
     "name": "stdout",
     "output_type": "stream",
     "text": [
      "Red is not blue\n"
     ]
    }
   ],
   "source": [
    "if Color.RED is Color.BLUE:\n",
    "    print('Red is blue')\n",
    "else:\n",
    "    print('Red is not blue')"
   ]
  },
  {
   "cell_type": "code",
   "execution_count": 9,
   "id": "e13cef62-3600-42a3-907e-23d91c7a60de",
   "metadata": {},
   "outputs": [
    {
     "name": "stdout",
     "output_type": "stream",
     "text": [
      "RED != 1\n"
     ]
    }
   ],
   "source": [
    "if Color.RED == 1:\n",
    "    print('RED == 1')\n",
    "else:\n",
    "    print('RED != 1')"
   ]
  },
  {
   "cell_type": "markdown",
   "id": "d3939bf7-9b2f-4f79-a4fe-982909007bd5",
   "metadata": {},
   "source": [
    "### Enumeration Members are Hashable"
   ]
  },
  {
   "cell_type": "code",
   "execution_count": 10,
   "id": "3d8ee3a8-6cf9-4978-b253-1c36359abd69",
   "metadata": {},
   "outputs": [],
   "source": [
    "rgb = {\n",
    "    Color.RED: '#ff0000',\n",
    "    Color.GREEN: '#00ff00',\n",
    "    Color.BLUE: '#0000ff'\n",
    "}"
   ]
  },
  {
   "cell_type": "markdown",
   "id": "7008157d-7d3b-4b45-9053-9b4f2eedf1e3",
   "metadata": {},
   "source": [
    "### Access an Enumeration by Name and Value"
   ]
  },
  {
   "cell_type": "code",
   "execution_count": 11,
   "id": "69f63ce0-a576-4f32-9e32-4ca0f2bb34f6",
   "metadata": {},
   "outputs": [
    {
     "name": "stdout",
     "output_type": "stream",
     "text": [
      "Color.RED\n"
     ]
    }
   ],
   "source": [
    "print(Color['RED'])"
   ]
  },
  {
   "cell_type": "code",
   "execution_count": 12,
   "id": "5babe9c3-4056-404f-9fa7-9bafb5f3595a",
   "metadata": {},
   "outputs": [
    {
     "name": "stdout",
     "output_type": "stream",
     "text": [
      "Color.RED\n"
     ]
    }
   ],
   "source": [
    "print(Color(1))"
   ]
  },
  {
   "cell_type": "code",
   "execution_count": 13,
   "id": "c139ff68-f2af-41c3-b402-eb5ff9b12e60",
   "metadata": {},
   "outputs": [
    {
     "name": "stdout",
     "output_type": "stream",
     "text": [
      "True\n"
     ]
    }
   ],
   "source": [
    "print(Color['RED'] == Color(1))"
   ]
  },
  {
   "cell_type": "markdown",
   "id": "66cb1d10-919b-4692-acf8-94a7dfc0c8a3",
   "metadata": {},
   "source": [
    "### Iterate Enumeration Members"
   ]
  },
  {
   "cell_type": "code",
   "execution_count": 14,
   "id": "5a345b34-542c-4966-8863-be65c98eba8e",
   "metadata": {},
   "outputs": [
    {
     "name": "stdout",
     "output_type": "stream",
     "text": [
      "Color.RED\n",
      "Color.GREEN\n",
      "Color.BLUE\n"
     ]
    }
   ],
   "source": [
    "for color in Color:\n",
    "    print(color)"
   ]
  },
  {
   "cell_type": "code",
   "execution_count": 15,
   "id": "7b71dee5-7786-4744-984f-6c95cdc28889",
   "metadata": {},
   "outputs": [
    {
     "name": "stdout",
     "output_type": "stream",
     "text": [
      "[<Color.RED: 1>, <Color.GREEN: 2>, <Color.BLUE: 3>]\n"
     ]
    }
   ],
   "source": [
    "print(list(Color))"
   ]
  },
  {
   "cell_type": "markdown",
   "id": "58ec7245-91a9-4e57-8b5d-cb5867b993e8",
   "metadata": {},
   "source": [
    "### Enumerations are Immutable"
   ]
  },
  {
   "cell_type": "code",
   "execution_count": 16,
   "id": "84bd28e1-5f22-4e34-acc5-1fdaaf535683",
   "metadata": {},
   "outputs": [
    {
     "ename": "TypeError",
     "evalue": "'EnumMeta' object does not support item assignment",
     "output_type": "error",
     "traceback": [
      "\u001b[0;31m---------------------------------------------------------------------------\u001b[0m",
      "\u001b[0;31mTypeError\u001b[0m                                 Traceback (most recent call last)",
      "Input \u001b[0;32mIn [16]\u001b[0m, in \u001b[0;36m<cell line: 1>\u001b[0;34m()\u001b[0m\n\u001b[0;32m----> 1\u001b[0m Color[\u001b[38;5;124m'\u001b[39m\u001b[38;5;124mYellow\u001b[39m\u001b[38;5;124m'\u001b[39m] \u001b[38;5;241m=\u001b[39m \u001b[38;5;241m4\u001b[39m\n",
      "\u001b[0;31mTypeError\u001b[0m: 'EnumMeta' object does not support item assignment"
     ]
    }
   ],
   "source": [
    "Color['Yellow'] = 4"
   ]
  },
  {
   "cell_type": "code",
   "execution_count": 17,
   "id": "e0215776-417b-4327-90d8-c163b35f2c7f",
   "metadata": {},
   "outputs": [
    {
     "ename": "AttributeError",
     "evalue": "can't set attribute",
     "output_type": "error",
     "traceback": [
      "\u001b[0;31m---------------------------------------------------------------------------\u001b[0m",
      "\u001b[0;31mAttributeError\u001b[0m                            Traceback (most recent call last)",
      "Input \u001b[0;32mIn [17]\u001b[0m, in \u001b[0;36m<cell line: 1>\u001b[0;34m()\u001b[0m\n\u001b[0;32m----> 1\u001b[0m Color\u001b[38;5;241m.\u001b[39mRED\u001b[38;5;241m.\u001b[39mvalue \u001b[38;5;241m=\u001b[39m \u001b[38;5;241m100\u001b[39m\n",
      "File \u001b[0;32m~/opt/anaconda3/lib/python3.9/types.py:182\u001b[0m, in \u001b[0;36mDynamicClassAttribute.__set__\u001b[0;34m(self, instance, value)\u001b[0m\n\u001b[1;32m    180\u001b[0m \u001b[38;5;28;01mdef\u001b[39;00m \u001b[38;5;21m__set__\u001b[39m(\u001b[38;5;28mself\u001b[39m, instance, value):\n\u001b[1;32m    181\u001b[0m     \u001b[38;5;28;01mif\u001b[39;00m \u001b[38;5;28mself\u001b[39m\u001b[38;5;241m.\u001b[39mfset \u001b[38;5;129;01mis\u001b[39;00m \u001b[38;5;28;01mNone\u001b[39;00m:\n\u001b[0;32m--> 182\u001b[0m         \u001b[38;5;28;01mraise\u001b[39;00m \u001b[38;5;167;01mAttributeError\u001b[39;00m(\u001b[38;5;124m\"\u001b[39m\u001b[38;5;124mcan\u001b[39m\u001b[38;5;124m'\u001b[39m\u001b[38;5;124mt set attribute\u001b[39m\u001b[38;5;124m\"\u001b[39m)\n\u001b[1;32m    183\u001b[0m     \u001b[38;5;28mself\u001b[39m\u001b[38;5;241m.\u001b[39mfset(instance, value)\n",
      "\u001b[0;31mAttributeError\u001b[0m: can't set attribute"
     ]
    }
   ],
   "source": [
    "Color.RED.value = 100"
   ]
  },
  {
   "cell_type": "markdown",
   "id": "d4e23da9-fd7a-4ea2-a097-7bec6f30adeb",
   "metadata": {},
   "source": [
    "### Inherits from an Enumeration"
   ]
  },
  {
   "cell_type": "markdown",
   "id": "0a6f98ff-eb15-4110-9d59-01890aacb295",
   "metadata": {},
   "source": [
    "An enumeration cannot be inherited unless it contains no members. The following example works fine because the Color enumeration contains no members:"
   ]
  },
  {
   "cell_type": "code",
   "execution_count": 18,
   "id": "8a77e08b-7730-49db-9c59-e36864958c7e",
   "metadata": {},
   "outputs": [],
   "source": [
    "class Color(Enum):\n",
    "    pass\n",
    "\n",
    "class RGB(Color):\n",
    "    \n",
    "    RED = 1\n",
    "    GREEN = 2\n",
    "    BLUE = 3"
   ]
  },
  {
   "cell_type": "code",
   "execution_count": 19,
   "id": "a1161f66-f908-40f0-b30c-b1065196c4ad",
   "metadata": {},
   "outputs": [
    {
     "ename": "TypeError",
     "evalue": "RGBA: cannot extend enumeration 'RGB'",
     "output_type": "error",
     "traceback": [
      "\u001b[0;31m---------------------------------------------------------------------------\u001b[0m",
      "\u001b[0;31mTypeError\u001b[0m                                 Traceback (most recent call last)",
      "Input \u001b[0;32mIn [19]\u001b[0m, in \u001b[0;36m<cell line: 1>\u001b[0;34m()\u001b[0m\n\u001b[0;32m----> 1\u001b[0m \u001b[38;5;28;01mclass\u001b[39;00m \u001b[38;5;21;01mRGBA\u001b[39;00m(RGB):\n\u001b[1;32m      2\u001b[0m     ALPHA \u001b[38;5;241m=\u001b[39m \u001b[38;5;241m4\u001b[39m\n",
      "File \u001b[0;32m~/opt/anaconda3/lib/python3.9/enum.py:167\u001b[0m, in \u001b[0;36mEnumMeta.__prepare__\u001b[0;34m(metacls, cls, bases, **kwds)\u001b[0m\n\u001b[1;32m    164\u001b[0m \u001b[38;5;129m@classmethod\u001b[39m\n\u001b[1;32m    165\u001b[0m \u001b[38;5;28;01mdef\u001b[39;00m \u001b[38;5;21m__prepare__\u001b[39m(metacls, \u001b[38;5;28mcls\u001b[39m, bases, \u001b[38;5;241m*\u001b[39m\u001b[38;5;241m*\u001b[39mkwds):\n\u001b[1;32m    166\u001b[0m     \u001b[38;5;66;03m# check that previous enum members do not exist\u001b[39;00m\n\u001b[0;32m--> 167\u001b[0m     \u001b[43mmetacls\u001b[49m\u001b[38;5;241;43m.\u001b[39;49m\u001b[43m_check_for_existing_members\u001b[49m\u001b[43m(\u001b[49m\u001b[38;5;28;43mcls\u001b[39;49m\u001b[43m,\u001b[49m\u001b[43m \u001b[49m\u001b[43mbases\u001b[49m\u001b[43m)\u001b[49m\n\u001b[1;32m    168\u001b[0m     \u001b[38;5;66;03m# create the namespace dict\u001b[39;00m\n\u001b[1;32m    169\u001b[0m     enum_dict \u001b[38;5;241m=\u001b[39m _EnumDict()\n",
      "File \u001b[0;32m~/opt/anaconda3/lib/python3.9/enum.py:566\u001b[0m, in \u001b[0;36mEnumMeta._check_for_existing_members\u001b[0;34m(class_name, bases)\u001b[0m\n\u001b[1;32m    564\u001b[0m \u001b[38;5;28;01mfor\u001b[39;00m base \u001b[38;5;129;01min\u001b[39;00m chain\u001b[38;5;241m.\u001b[39m\u001b[38;5;18m__mro__\u001b[39m:\n\u001b[1;32m    565\u001b[0m     \u001b[38;5;28;01mif\u001b[39;00m \u001b[38;5;28missubclass\u001b[39m(base, Enum) \u001b[38;5;129;01mand\u001b[39;00m base\u001b[38;5;241m.\u001b[39m_member_names_:\n\u001b[0;32m--> 566\u001b[0m         \u001b[38;5;28;01mraise\u001b[39;00m \u001b[38;5;167;01mTypeError\u001b[39;00m(\n\u001b[1;32m    567\u001b[0m                 \u001b[38;5;124m\"\u001b[39m\u001b[38;5;132;01m%s\u001b[39;00m\u001b[38;5;124m: cannot extend enumeration \u001b[39m\u001b[38;5;132;01m%r\u001b[39;00m\u001b[38;5;124m\"\u001b[39m\n\u001b[1;32m    568\u001b[0m                 \u001b[38;5;241m%\u001b[39m (class_name, base\u001b[38;5;241m.\u001b[39m\u001b[38;5;18m__name__\u001b[39m)\n\u001b[1;32m    569\u001b[0m                 )\n",
      "\u001b[0;31mTypeError\u001b[0m: RGBA: cannot extend enumeration 'RGB'"
     ]
    }
   ],
   "source": [
    "class RGBA(RGB):\n",
    "    ALPHA = 4"
   ]
  },
  {
   "cell_type": "markdown",
   "id": "3862a942-2cfa-4240-a3f3-ae84f20d9408",
   "metadata": {},
   "source": [
    "### Python Enumeration Example"
   ]
  },
  {
   "cell_type": "code",
   "execution_count": 24,
   "id": "8d0ac82a-d60c-407f-a30d-ab2a550fb84f",
   "metadata": {},
   "outputs": [],
   "source": [
    "class ResponseStatus(Enum):\n",
    "    \n",
    "    PENDING = 'pending'\n",
    "    FULFILLED = 'fulfilled'\n",
    "    REJECTED = 'rejected'"
   ]
  },
  {
   "cell_type": "code",
   "execution_count": 25,
   "id": "3bebc73b-b351-490f-a2f5-e9a32a4b082d",
   "metadata": {},
   "outputs": [],
   "source": [
    "response = '''{\n",
    "    \"status\":\"fulfilled\"\n",
    "}'''"
   ]
  },
  {
   "cell_type": "code",
   "execution_count": 26,
   "id": "dbc04fcd-3d2c-45b3-b6b5-83e4aa58c385",
   "metadata": {},
   "outputs": [],
   "source": [
    "import json\n",
    "\n",
    "data = json.loads(response)\n",
    "status = data['status']"
   ]
  },
  {
   "cell_type": "code",
   "execution_count": 27,
   "id": "b05fe825-6d0e-4ef7-92e5-99f6da25c598",
   "metadata": {},
   "outputs": [
    {
     "name": "stdout",
     "output_type": "stream",
     "text": [
      "ResponseStatus.FULFILLED\n"
     ]
    }
   ],
   "source": [
    "print(ResponseStatus(status))"
   ]
  },
  {
   "cell_type": "code",
   "execution_count": 28,
   "id": "b7fa86b4-b25a-4f6f-8ded-e97ee7143df9",
   "metadata": {},
   "outputs": [
    {
     "name": "stdout",
     "output_type": "stream",
     "text": [
      "ResponseStatus.FULFILLED\n"
     ]
    }
   ],
   "source": [
    "from enum import Enum\n",
    "import json\n",
    "\n",
    "\n",
    "class ResponseStatus(Enum):\n",
    "    PENDING = 'pending'\n",
    "    FULFILLED = 'fulfilled'\n",
    "    REJECTED = 'rejected'\n",
    "\n",
    "\n",
    "response = '''{\n",
    "    \"status\":\"fulfilled\"\n",
    "}'''\n",
    "\n",
    "data = json.loads(response)\n",
    "status = data['status']\n",
    "\n",
    "print(ResponseStatus(status))"
   ]
  },
  {
   "cell_type": "markdown",
   "id": "f3d6a702-1a5b-4e5e-9144-e5a4d0012da1",
   "metadata": {},
   "source": [
    "To catch the exception, you can use the try…except statement like the following:"
   ]
  },
  {
   "cell_type": "code",
   "execution_count": 31,
   "id": "6e76fb06-b603-42c7-a2ab-a9ba45650431",
   "metadata": {},
   "outputs": [
    {
     "name": "stdout",
     "output_type": "stream",
     "text": [
      "'ok' is not a valid ResponseStatus\n"
     ]
    }
   ],
   "source": [
    "from enum import Enum\n",
    "import json\n",
    "\n",
    "\n",
    "class ResponseStatus(Enum):\n",
    "    PENDING = 'pending'\n",
    "    FULFILLED = 'fulfilled'\n",
    "    REJECTED = 'rejected'\n",
    "\n",
    "\n",
    "response = '''{\n",
    "    \"status\":\"ok\"\n",
    "}'''\n",
    "\n",
    "data = json.loads(response)\n",
    "status = data['status']\n",
    "\n",
    "try:\n",
    "    if ResponseStatus(status) is ResponseStatus.FULFILLED:\n",
    "        print('The request completed successfully')\n",
    "except ValueError as error:\n",
    "    print(error)"
   ]
  },
  {
   "cell_type": "markdown",
   "id": "449f21c4-a004-41f0-9401-3e3604a69768",
   "metadata": {},
   "source": [
    "### Summary\n",
    "- An enumeration is a set of members that have associated unique constant values.\n",
    "- Create a new enumeration by defining a class that inherits from the Enum type of the enum module.\n",
    "- The members have the same types as the enumeration to which they belong.\n",
    "- Use the enumeration[member_name] to access a member by its name and enumeration(member_value) to access a member by its value.\n",
    "- Enumerations are iterable.\n",
    "- Enumeration members are hashable.\n",
    "- Enumeration are immutable.\n",
    "- Cannot inherits from an enumeration unless it has no members."
   ]
  },
  {
   "cell_type": "code",
   "execution_count": null,
   "id": "88bdcfed-f265-4bf2-ac18-3bce4be6c44f",
   "metadata": {},
   "outputs": [],
   "source": []
  }
 ],
 "metadata": {
  "kernelspec": {
   "display_name": "Python 3 (ipykernel)",
   "language": "python",
   "name": "python3"
  },
  "language_info": {
   "codemirror_mode": {
    "name": "ipython",
    "version": 3
   },
   "file_extension": ".py",
   "mimetype": "text/x-python",
   "name": "python",
   "nbconvert_exporter": "python",
   "pygments_lexer": "ipython3",
   "version": "3.9.12"
  }
 },
 "nbformat": 4,
 "nbformat_minor": 5
}
