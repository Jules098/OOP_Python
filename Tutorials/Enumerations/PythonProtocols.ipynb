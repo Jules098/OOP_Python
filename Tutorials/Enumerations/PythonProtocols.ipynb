{
 "cells": [
  {
   "cell_type": "markdown",
   "id": "512548e0-bf94-4648-a301-f64318bc6015",
   "metadata": {},
   "source": [
    "### Introduction to the Python Protocol"
   ]
  },
  {
   "cell_type": "code",
   "execution_count": 1,
   "id": "3b723cf7-0244-41eb-82ad-8731f7c810b8",
   "metadata": {},
   "outputs": [],
   "source": [
    "from typing import List\n",
    "\n",
    "\n",
    "class Product:\n",
    "    def __init__(self, name: str, quantity: float, price: float):\n",
    "        self.name = name\n",
    "        self.quantity = quantity\n",
    "        self.price = price\n",
    "\n",
    "\n",
    "def calculate_total(items: List[Product]) -> float:\n",
    "    return sum([item.quantity * item.price for item in items])"
   ]
  },
  {
   "cell_type": "code",
   "execution_count": 8,
   "id": "0a859cd5-c5a0-4f1c-ad89-08844aa57b8a",
   "metadata": {},
   "outputs": [],
   "source": [
    "from typing import Protocol\n",
    "\n",
    "class Item(Protocol):\n",
    "    quantity: float\n",
    "    price: float"
   ]
  },
  {
   "cell_type": "code",
   "execution_count": 9,
   "id": "c9e75a7a-d9dd-45c4-95e2-f55bfdb0b5e9",
   "metadata": {},
   "outputs": [],
   "source": [
    "from typing import List, Protocol\n",
    "\n",
    "def calculate_total(items: List[Item]) -> float:\n",
    "    return sum([item.quantity * item.price for item in items])"
   ]
  },
  {
   "cell_type": "code",
   "execution_count": 10,
   "id": "1ebc66ca-b4b9-4951-9b05-d39b69ee436b",
   "metadata": {},
   "outputs": [
    {
     "name": "stdout",
     "output_type": "stream",
     "text": [
      "2750\n"
     ]
    }
   ],
   "source": [
    "from typing import List, Protocol\n",
    "\n",
    "\n",
    "class Item(Protocol):\n",
    "    quantity: float\n",
    "    price: float\n",
    "\n",
    "\n",
    "class Product:\n",
    "    def __init__(self, name: str, quantity: float, price: float):\n",
    "        self.name = name\n",
    "        self.quantity = quantity\n",
    "        self.price = price\n",
    "\n",
    "\n",
    "def calculate_total(items: List[Item]) -> float:\n",
    "    return sum([item.quantity * item.price for item in items])\n",
    "\n",
    "\n",
    "# calculate total a product list\n",
    "total = calculate_total([\n",
    "    Product('A', 10, 150),\n",
    "    Product('B', 5, 250)\n",
    "])\n",
    "\n",
    "print(total)"
   ]
  },
  {
   "cell_type": "code",
   "execution_count": 11,
   "id": "effe21f7-28a5-452e-8fbc-9b733214397f",
   "metadata": {},
   "outputs": [
    {
     "name": "stdout",
     "output_type": "stream",
     "text": [
      "13250\n"
     ]
    }
   ],
   "source": [
    "class Stock:\n",
    "    \n",
    "    def __init__(self, product_name, quantity, price):\n",
    "        self.product_name = product_name\n",
    "        self.quantity = quantity\n",
    "        self.price = price\n",
    "        \n",
    "# calculate total an inventory list\n",
    "total = calculate_total([\n",
    "    Stock('Tablet', 5, 950),\n",
    "    Stock('Laptop', 10, 850)\n",
    "])\n",
    "\n",
    "print(total)"
   ]
  },
  {
   "cell_type": "markdown",
   "id": "f6781975-4fea-477d-8be1-3fca064975d6",
   "metadata": {},
   "source": [
    "### Summary\n",
    "- Use Python Protocol to define implicit interfaces."
   ]
  },
  {
   "cell_type": "code",
   "execution_count": null,
   "id": "c014a6fc-6bba-4994-ab4f-b08f13d2f69f",
   "metadata": {},
   "outputs": [],
   "source": []
  }
 ],
 "metadata": {
  "kernelspec": {
   "display_name": "Python 3 (ipykernel)",
   "language": "python",
   "name": "python3"
  },
  "language_info": {
   "codemirror_mode": {
    "name": "ipython",
    "version": 3
   },
   "file_extension": ".py",
   "mimetype": "text/x-python",
   "name": "python",
   "nbconvert_exporter": "python",
   "pygments_lexer": "ipython3",
   "version": "3.9.12"
  }
 },
 "nbformat": 4,
 "nbformat_minor": 5
}
