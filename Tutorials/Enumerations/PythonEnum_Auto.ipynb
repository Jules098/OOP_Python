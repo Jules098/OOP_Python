{
 "cells": [
  {
   "cell_type": "markdown",
   "id": "7b63ed3c-20ad-43db-adb0-bc975292e327",
   "metadata": {},
   "source": [
    "### Introduction to Enum auto() function"
   ]
  },
  {
   "cell_type": "code",
   "execution_count": 2,
   "id": "6dfc118f-0f5d-4a30-a321-a6b212ac3b18",
   "metadata": {},
   "outputs": [],
   "source": [
    "from enum import Enum\n",
    "\n",
    "class State(Enum):\n",
    "    \n",
    "    PENDING = 1\n",
    "    FULFILLED = 2\n",
    "    REJECTED = 3"
   ]
  },
  {
   "cell_type": "code",
   "execution_count": 4,
   "id": "1590887b-a02e-4a24-bccc-33b276d695f8",
   "metadata": {},
   "outputs": [],
   "source": [
    "from enum import Enum, auto\n",
    "\n",
    "class State(Enum):\n",
    "    \n",
    "    PENDING = auto()\n",
    "    FULFILLED = auto()\n",
    "    REJECTED = auto()\n",
    "    \n",
    "    def __str__(self):\n",
    "        return f'{self.name(self.value)}'"
   ]
  },
  {
   "cell_type": "markdown",
   "id": "4568faa0-bad2-42e6-8eda-201400f6a090",
   "metadata": {},
   "source": [
    "How it works.\n",
    "\n",
    "- First, import the Enum and auto classes from the enum module.\n",
    "- Second, call the auto() to generate a unique value for each member of the State enumeration."
   ]
  },
  {
   "cell_type": "code",
   "execution_count": 5,
   "id": "3e6d8b85-0c0a-4cdf-8aea-44d3a965fc66",
   "metadata": {},
   "outputs": [
    {
     "name": "stdout",
     "output_type": "stream",
     "text": [
      "PENDING 1\n",
      "FULFILLED 2\n",
      "REJECTED 3\n"
     ]
    }
   ],
   "source": [
    "for state in State:\n",
    "    print(state.name, state.value)"
   ]
  },
  {
   "cell_type": "markdown",
   "id": "c7b89ba2-e02e-4337-8c67-db04d04f9e4c",
   "metadata": {},
   "source": [
    "### How Enum auto() works"
   ]
  },
  {
   "cell_type": "code",
   "execution_count": 6,
   "id": "7d918d21-0797-4176-b13d-d68b9a8dc7fa",
   "metadata": {},
   "outputs": [],
   "source": [
    "# _generate_next_value_(name, start, count, last_values)"
   ]
  },
  {
   "cell_type": "markdown",
   "id": "4e248ef8-1009-49c8-b9fd-36a801fc6324",
   "metadata": {},
   "source": [
    "The _generate_next_value_() has the following parameters:\n",
    "\n",
    "- name is the member’s name\n",
    "- start is the starting value of the enum members.\n",
    "- count is the number of enum members, including aliases, that have been created.\n",
    "- last_values is a list of all preceding values used for the enum members."
   ]
  },
  {
   "cell_type": "code",
   "execution_count": 7,
   "id": "6ed990b7-5265-4603-9489-7b36e05b7eed",
   "metadata": {},
   "outputs": [
    {
     "name": "stdout",
     "output_type": "stream",
     "text": [
      "PENDING pending\n",
      "FULFILLED fulfilled\n",
      "REJECTED rejected\n"
     ]
    }
   ],
   "source": [
    "from enum import Enum, auto\n",
    "\n",
    "\n",
    "class State(Enum):\n",
    "    def _generate_next_value_(name, start, count, last_values):\n",
    "        return name.lower()\n",
    "\n",
    "    PENDING = auto()\n",
    "    FULFILLED = auto()\n",
    "    REJECTED = auto()\n",
    "\n",
    "\n",
    "for state in State:\n",
    "    print(state.name, state.value)"
   ]
  },
  {
   "cell_type": "code",
   "execution_count": null,
   "id": "97aad24d-8bc8-40c0-b092-a4727c9faf3d",
   "metadata": {},
   "outputs": [],
   "source": []
  }
 ],
 "metadata": {
  "kernelspec": {
   "display_name": "Python 3 (ipykernel)",
   "language": "python",
   "name": "python3"
  },
  "language_info": {
   "codemirror_mode": {
    "name": "ipython",
    "version": 3
   },
   "file_extension": ".py",
   "mimetype": "text/x-python",
   "name": "python",
   "nbconvert_exporter": "python",
   "pygments_lexer": "ipython3",
   "version": "3.9.12"
  }
 },
 "nbformat": 4,
 "nbformat_minor": 5
}
