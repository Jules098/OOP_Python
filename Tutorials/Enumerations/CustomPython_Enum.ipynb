{
 "cells": [
  {
   "cell_type": "markdown",
   "id": "ca227ddc-5e71-40e5-a71a-65b7dd7ff9bd",
   "metadata": {},
   "source": [
    "### Introduction to Customize and Extend the Python Enum Class"
   ]
  },
  {
   "cell_type": "code",
   "execution_count": 1,
   "id": "261dff50-91bd-4e4d-8a68-25b8a1f6aa89",
   "metadata": {},
   "outputs": [],
   "source": [
    "from enum import Enum\n",
    "\n",
    "class PaymentStatus(Enum):\n",
    "    \n",
    "    PENDING = 1\n",
    "    COMPLETED = 2\n",
    "    REFUNDED = 3"
   ]
  },
  {
   "cell_type": "code",
   "execution_count": 2,
   "id": "f56d97a3-7baf-48dc-8cf5-21a5ad879977",
   "metadata": {},
   "outputs": [
    {
     "name": "stdout",
     "output_type": "stream",
     "text": [
      "PaymentStatus.PENDING\n"
     ]
    }
   ],
   "source": [
    "print(PaymentStatus.PENDING)"
   ]
  },
  {
   "cell_type": "code",
   "execution_count": 3,
   "id": "bf2a5003-10e3-4aeb-8cda-360ab8c118c4",
   "metadata": {},
   "outputs": [
    {
     "name": "stdout",
     "output_type": "stream",
     "text": [
      "pending(1)\n"
     ]
    }
   ],
   "source": [
    "from enum import Enum\n",
    "\n",
    "class PaymentStatus(Enum):\n",
    "    \n",
    "    PENDING = 1\n",
    "    COMPLETED = 2\n",
    "    REFUNDED = 3\n",
    "    \n",
    "    def __str__(self):\n",
    "        return f'{self.name.lower()}({self.value})'\n",
    "    \n",
    "print(PaymentStatus.PENDING)"
   ]
  },
  {
   "cell_type": "markdown",
   "id": "bc149e19-07c0-4867-8f23-5c11bfd1ac35",
   "metadata": {},
   "source": [
    "### Implementing __eq__ method"
   ]
  },
  {
   "cell_type": "code",
   "execution_count": 4,
   "id": "4c764ed5-2bf7-45db-a131-a60698ad51ea",
   "metadata": {},
   "outputs": [],
   "source": [
    "if PaymentStatus.PENDING == 1:\n",
    "    print('The payment is pending')"
   ]
  },
  {
   "cell_type": "code",
   "execution_count": 5,
   "id": "e2ff7ddf-f21d-4d63-8b9c-6ba81268176c",
   "metadata": {},
   "outputs": [
    {
     "name": "stdout",
     "output_type": "stream",
     "text": [
      "The payment is pending.\n"
     ]
    }
   ],
   "source": [
    "from enum import Enum\n",
    "\n",
    "\n",
    "class PaymentStatus(Enum):\n",
    "    PENDING = 1\n",
    "    COMPLETED = 2\n",
    "    REFUNDED = 3\n",
    "\n",
    "    def __str__(self):\n",
    "        return f'{self.name.lower()}({self.value})'\n",
    "    \n",
    "    def __eq__(self, other):\n",
    "        if isinstance(other, int):\n",
    "            return self.value == other\n",
    "        \n",
    "        if isinstance(other, PaymentStatus):\n",
    "            return self is other\n",
    "        \n",
    "        return False\n",
    "    \n",
    "if PaymentStatus.PENDING == 1:\n",
    "    print('The payment is pending.')"
   ]
  },
  {
   "cell_type": "markdown",
   "id": "4fc33921-9217-4d31-a8e5-cdbbc083983e",
   "metadata": {},
   "source": [
    "In the __eq__ method:\n",
    "\n",
    "- If the value to compare is an integer, it compares the value of the member with the integer.\n",
    "- If the value to compare is an instance of the PaymentStatus enumeration, it compares the value with the member of the PaymentStatus member using the is operator.\n",
    "- Otherwise, it returns False."
   ]
  },
  {
   "cell_type": "markdown",
   "id": "f5186792-2e7a-42c8-afff-bcf5a65ed6a4",
   "metadata": {},
   "source": [
    "### Implementing __lt__ method"
   ]
  },
  {
   "cell_type": "code",
   "execution_count": 6,
   "id": "a1fb7d97-7294-4459-912c-13038f4f3d24",
   "metadata": {},
   "outputs": [
    {
     "name": "stdout",
     "output_type": "stream",
     "text": [
      "The payment has not completed.\n"
     ]
    }
   ],
   "source": [
    "from enum import Enum\n",
    "from functools import total_ordering\n",
    "\n",
    "@total_ordering\n",
    "class PaymentStatus(Enum):\n",
    "    \n",
    "    PENDING = 1\n",
    "    COMPLETED = 2\n",
    "    REFUNDED = 3\n",
    "    \n",
    "    def __str__(self):\n",
    "        return f'{self.name.lower()} ({self.value})'\n",
    "    \n",
    "    def __eq__(self, other):\n",
    "        \n",
    "        if isinstance(other, int):\n",
    "            return self.value == other\n",
    "        \n",
    "        if isinstance(other, PaymentStatus):\n",
    "            return self is other\n",
    "        \n",
    "        return False\n",
    "    \n",
    "    def __lt__(self, other):\n",
    "        if isinstance(other, int):\n",
    "            return self.value < other\n",
    "        \n",
    "        if isinstance(other, PaymentStatus):\n",
    "            return self.value < other.value\n",
    "        \n",
    "        return False\n",
    "    \n",
    "\n",
    "# Compare with an Integer\n",
    "\n",
    "status = 1\n",
    "\n",
    "if status < PaymentStatus.COMPLETED:\n",
    "    print('The payment has not completed.')\n",
    "    \n",
    "# Compare with another member\n",
    "\n",
    "status = PaymentStatus.PENDING\n",
    "\n",
    "if status >= PaymentStatus.COMPLETED:\n",
    "    print('The payment is not pending.')"
   ]
  },
  {
   "cell_type": "markdown",
   "id": "387d82d0-6256-43e4-b3b2-45093a0627fc",
   "metadata": {},
   "source": [
    "### Implementing the __bool__ method"
   ]
  },
  {
   "cell_type": "code",
   "execution_count": 7,
   "id": "b7298cec-b832-4008-b986-d9e96b66b79c",
   "metadata": {},
   "outputs": [
    {
     "name": "stdout",
     "output_type": "stream",
     "text": [
      "pending (1) True\n",
      "completed (2) True\n",
      "refunded (3) True\n"
     ]
    }
   ],
   "source": [
    "for member in PaymentStatus:\n",
    "    print(member, bool(member))"
   ]
  },
  {
   "cell_type": "code",
   "execution_count": 8,
   "id": "cc713fe1-5477-47e2-915b-674ada97b3ec",
   "metadata": {},
   "outputs": [
    {
     "name": "stdout",
     "output_type": "stream",
     "text": [
      "pending(1) False\n",
      "completed(2) True\n",
      "refunded(3) False\n"
     ]
    }
   ],
   "source": [
    "from enum import Enum\n",
    "from functools import total_ordering\n",
    "\n",
    "\n",
    "@total_ordering\n",
    "class PaymentStatus(Enum):\n",
    "    PENDING = 1\n",
    "    COMPLETED = 2\n",
    "    REFUNDED = 3\n",
    "\n",
    "    def __str__(self):\n",
    "        return f'{self.name.lower()}({self.value})'\n",
    "\n",
    "    def __eq__(self, other):\n",
    "        if isinstance(other, int):\n",
    "            return self.value == other\n",
    "\n",
    "        if isinstance(other, PaymentStatus):\n",
    "            return self is other\n",
    "\n",
    "        return False\n",
    "\n",
    "    def __lt__(self, other):\n",
    "        if isinstance(other, int):\n",
    "            return self.value < other\n",
    "\n",
    "        if isinstance(other, PaymentStatus):\n",
    "            return self.value < other.value\n",
    "\n",
    "        return False\n",
    "    \n",
    "    def __bool__(self):\n",
    "        if self is self.COMPLETED:\n",
    "            return True\n",
    "        return False\n",
    "\n",
    "for member in PaymentStatus:\n",
    "    print(member, bool(member))"
   ]
  },
  {
   "cell_type": "markdown",
   "id": "b9ab1423-62c4-4b9a-8059-b5db251ab1d6",
   "metadata": {},
   "source": [
    "### Extend Python Enum Classes"
   ]
  },
  {
   "cell_type": "markdown",
   "id": "4b31efa2-5f87-42d1-b806-73590d6438ed",
   "metadata": {},
   "source": [
    "First, define the OrderedEnum base class that orders the members by their values:"
   ]
  },
  {
   "cell_type": "code",
   "execution_count": 9,
   "id": "94a584a7-1c4f-4b6e-8d2b-88715c310a2e",
   "metadata": {},
   "outputs": [],
   "source": [
    "from enum import Enum\n",
    "from functools import total_ordering\n",
    "\n",
    "@total_ordering\n",
    "class OrderedEnum(Enum):\n",
    "    \n",
    "    def __lt__(self, other):\n",
    "        if isinstance(other, OrderedEnum):\n",
    "            return self.value < other.value\n",
    "        return NotImplemented"
   ]
  },
  {
   "cell_type": "markdown",
   "id": "3bd32e60-9f6c-47ae-83ef-fd0b74ae1c71",
   "metadata": {},
   "source": [
    "Second, define the ApprovalStatus that extends the OrderedEnum class:"
   ]
  },
  {
   "cell_type": "code",
   "execution_count": 10,
   "id": "a92676bd-cec4-4342-be51-b8211b55090a",
   "metadata": {},
   "outputs": [],
   "source": [
    "class ApprovalStatus(OrderedEnum):\n",
    "    \n",
    "    PENDING = 1\n",
    "    IN_PROGRESS = 2\n",
    "    APPROVED = 3"
   ]
  },
  {
   "cell_type": "markdown",
   "id": "2dc696e7-0fad-44e6-b7de-7a48e6b53e94",
   "metadata": {},
   "source": [
    "Third, compare the members of the ApprovalStatus enum class:"
   ]
  },
  {
   "cell_type": "code",
   "execution_count": 11,
   "id": "d11a2b78-6047-4f51-acbb-62853b61b129",
   "metadata": {},
   "outputs": [
    {
     "name": "stdout",
     "output_type": "stream",
     "text": [
      "The request has not been approved.\n"
     ]
    }
   ],
   "source": [
    "status = ApprovalStatus(2)\n",
    "if status < ApprovalStatus.APPROVED:\n",
    "    print('The request has not been approved.')"
   ]
  },
  {
   "cell_type": "code",
   "execution_count": 12,
   "id": "20484b48-46f0-4658-8f3c-6c6445340a68",
   "metadata": {},
   "outputs": [
    {
     "name": "stdout",
     "output_type": "stream",
     "text": [
      "The request has not been approved.\n"
     ]
    }
   ],
   "source": [
    "from enum import Enum\n",
    "from functools import total_ordering\n",
    "\n",
    "\n",
    "@total_ordering\n",
    "class OrderedEnum(Enum):\n",
    "    def __lt__(self, other):\n",
    "        if isinstance(other, OrderedEnum):\n",
    "            return self.value < other.value\n",
    "        return NotImplemented\n",
    "\n",
    "\n",
    "class ApprovalStatus(OrderedEnum):\n",
    "    PENDING = 1\n",
    "    IN_PROGRESS = 2\n",
    "    APPROVED = 3\n",
    "\n",
    "\n",
    "status = ApprovalStatus(2)\n",
    "if status < ApprovalStatus.APPROVED:\n",
    "    print('The request has not been approved.')"
   ]
  },
  {
   "cell_type": "markdown",
   "id": "592909fc-7be1-4bd7-b9ff-0a1f29bd453c",
   "metadata": {},
   "source": [
    "### Summary\n",
    "- Implement dunder methods to customize the behavior of Python enum classes.\n",
    "- Define an emum class with no members and methods and extends this base class."
   ]
  },
  {
   "cell_type": "code",
   "execution_count": null,
   "id": "47dde62e-5f95-4947-beed-fe9ee9f7afab",
   "metadata": {},
   "outputs": [],
   "source": []
  }
 ],
 "metadata": {
  "kernelspec": {
   "display_name": "Python 3 (ipykernel)",
   "language": "python",
   "name": "python3"
  },
  "language_info": {
   "codemirror_mode": {
    "name": "ipython",
    "version": 3
   },
   "file_extension": ".py",
   "mimetype": "text/x-python",
   "name": "python",
   "nbconvert_exporter": "python",
   "pygments_lexer": "ipython3",
   "version": "3.9.12"
  }
 },
 "nbformat": 4,
 "nbformat_minor": 5
}
