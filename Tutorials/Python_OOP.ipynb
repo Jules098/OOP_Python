{
 "cells": [
  {
   "cell_type": "markdown",
   "id": "2e420387-3d9f-4278-a3c7-b99a898cf09c",
   "metadata": {},
   "source": [
    "### Define a Class"
   ]
  },
  {
   "cell_type": "code",
   "execution_count": 1,
   "id": "bc763ac0-3707-4d9d-b3e2-dc1784254864",
   "metadata": {},
   "outputs": [],
   "source": [
    "class Person:\n",
    "    pass"
   ]
  },
  {
   "cell_type": "markdown",
   "id": "d7986398-e24d-4813-9d9a-9358db35248e",
   "metadata": {},
   "source": [
    "To create an object from the Person class, you use the class name followed by parentheses (), like calling a function:"
   ]
  },
  {
   "cell_type": "code",
   "execution_count": 2,
   "id": "d487a4ec-4115-4e5e-96c0-cf2d2dac6517",
   "metadata": {},
   "outputs": [],
   "source": [
    "person = Person()"
   ]
  },
  {
   "cell_type": "markdown",
   "id": "eca3df92-c0d3-4f99-92b8-1c762a72937a",
   "metadata": {},
   "source": [
    "In this example, the person is an instance of the Person class. Classes are callable."
   ]
  },
  {
   "cell_type": "markdown",
   "id": "50f8e89d-c792-4e61-8cd8-4d256ec9efb3",
   "metadata": {},
   "source": [
    "### Define Instance Attributes"
   ]
  },
  {
   "cell_type": "code",
   "execution_count": 3,
   "id": "75b97b98-9d7b-4eee-9cce-cfd34529692d",
   "metadata": {},
   "outputs": [],
   "source": [
    "person.name = 'John'"
   ]
  },
  {
   "cell_type": "markdown",
   "id": "72346f0c-460a-4639-871c-8d865d2b0aae",
   "metadata": {},
   "source": [
    "To define and initialize an attribute for all instances of a class, you use the __init__ method. The following defines the Person class with two instance attributes name and age:"
   ]
  },
  {
   "cell_type": "code",
   "execution_count": 4,
   "id": "f85c60cf-beb5-48c5-9827-8bc6fe7d99d1",
   "metadata": {},
   "outputs": [],
   "source": [
    "class Person:\n",
    "    def __init__(self, name, age):\n",
    "        self.name = name\n",
    "        self.age = age"
   ]
  },
  {
   "cell_type": "code",
   "execution_count": 5,
   "id": "ccf62b99-a084-411e-88af-5334073720a7",
   "metadata": {},
   "outputs": [],
   "source": [
    "person = Person('John', 25)"
   ]
  },
  {
   "cell_type": "code",
   "execution_count": 6,
   "id": "85b40fa9-8660-471a-9821-24d492885958",
   "metadata": {},
   "outputs": [
    {
     "data": {
      "text/plain": [
       "'John'"
      ]
     },
     "execution_count": 6,
     "metadata": {},
     "output_type": "execute_result"
    }
   ],
   "source": [
    "person.name"
   ]
  },
  {
   "cell_type": "markdown",
   "id": "f0083280-113f-49eb-b003-615d3a964a94",
   "metadata": {},
   "source": [
    "### Define Instance Methods"
   ]
  },
  {
   "cell_type": "code",
   "execution_count": 7,
   "id": "f7e2b1f1-1499-4b56-be1e-a00852f4e1d0",
   "metadata": {},
   "outputs": [],
   "source": [
    "class Person:\n",
    "    def __init__(self, name, age):\n",
    "        self.name = name\n",
    "        self.age = age\n",
    "    \n",
    "    def greet(self):\n",
    "        return f\"Hi it's {self.name}!\""
   ]
  },
  {
   "cell_type": "code",
   "execution_count": 8,
   "id": "3d787bf0-e7ba-4ac1-86d4-7eeb7dca2d03",
   "metadata": {},
   "outputs": [
    {
     "name": "stdout",
     "output_type": "stream",
     "text": [
      "Hi it's John!\n"
     ]
    }
   ],
   "source": [
    "person = Person('John', 25)\n",
    "print(person.greet())"
   ]
  },
  {
   "cell_type": "markdown",
   "id": "2bea47a3-6732-4933-afad-436d795fb870",
   "metadata": {},
   "source": [
    "### Define Class attributes"
   ]
  },
  {
   "cell_type": "code",
   "execution_count": 10,
   "id": "e96a9778-32e4-4ad6-9db1-36c80b1192cb",
   "metadata": {},
   "outputs": [],
   "source": [
    "class Person:\n",
    "    counter = 0\n",
    "    \n",
    "    def __init__(self, name, age):\n",
    "        person.name = name\n",
    "        person.age = age\n",
    "        \n",
    "    def greet(self):\n",
    "        return f\"Hi it's {self.name}!\""
   ]
  },
  {
   "cell_type": "markdown",
   "id": "f550e926-dc6b-4e01-8069-0d8fb0befdb5",
   "metadata": {},
   "source": [
    "You can access the counter attribute from the Person class:"
   ]
  },
  {
   "cell_type": "code",
   "execution_count": 11,
   "id": "a7d5dfbf-20b6-4a88-99fb-9c7294075da7",
   "metadata": {},
   "outputs": [
    {
     "data": {
      "text/plain": [
       "0"
      ]
     },
     "execution_count": 11,
     "metadata": {},
     "output_type": "execute_result"
    }
   ],
   "source": [
    "Person.counter"
   ]
  },
  {
   "cell_type": "code",
   "execution_count": 12,
   "id": "27121745-360d-40bb-9b5d-0e10897f19f1",
   "metadata": {},
   "outputs": [
    {
     "data": {
      "text/plain": [
       "0"
      ]
     },
     "execution_count": 12,
     "metadata": {},
     "output_type": "execute_result"
    }
   ],
   "source": [
    "person = Person('John',25)\n",
    "person.counter"
   ]
  },
  {
   "cell_type": "markdown",
   "id": "8d24b73d-e49b-42a7-9d55-a4c914500103",
   "metadata": {},
   "source": [
    "To make the counter variable more useful, you can increase its value by one once an object is created. To do it, you increase the counter class attribute in the __init__ method:"
   ]
  },
  {
   "cell_type": "code",
   "execution_count": 13,
   "id": "46dfb1a8-8b3e-4ecd-b84b-af625406a076",
   "metadata": {},
   "outputs": [],
   "source": [
    "class Person:\n",
    "    counter = 0\n",
    "\n",
    "    def __init__(self, name, age):\n",
    "        self.name = name\n",
    "        self.age = age\n",
    "        Person.counter += 1\n",
    "\n",
    "    def greet(self):\n",
    "        return f\"Hi, it's {self.name}.\""
   ]
  },
  {
   "cell_type": "code",
   "execution_count": 14,
   "id": "8bd75dae-d1fc-4e34-85d7-517fe6618912",
   "metadata": {},
   "outputs": [
    {
     "name": "stdout",
     "output_type": "stream",
     "text": [
      "2\n"
     ]
    }
   ],
   "source": [
    "p1 = Person('John', 25)\n",
    "p2 = Person('Jane', 22)\n",
    "print(Person.counter)"
   ]
  },
  {
   "cell_type": "markdown",
   "id": "a48e671f-e02f-46ee-86ab-dd8a1ce44347",
   "metadata": {},
   "source": [
    "### Define Class Method"
   ]
  },
  {
   "cell_type": "markdown",
   "id": "a60bfcd8-46c2-4e05-bc17-1e552eaeba9f",
   "metadata": {},
   "source": [
    "The following example defines a class method that returns an anonymous Person object:"
   ]
  },
  {
   "cell_type": "code",
   "execution_count": 15,
   "id": "9b4f910b-fc56-40c3-b7eb-cf1a23d86c53",
   "metadata": {},
   "outputs": [],
   "source": [
    "class Person:\n",
    "    counter = 0\n",
    "\n",
    "    def __init__(self, name, age):\n",
    "        self.name = name\n",
    "        self.age = age\n",
    "        Person.counter += 1\n",
    "\n",
    "    def greet(self):\n",
    "        return f\"Hi, it's {self.name}.\"\n",
    "\n",
    "    @classmethod\n",
    "    def create_anonymous(cls):\n",
    "        return Person('Anonymous', 22)"
   ]
  },
  {
   "cell_type": "code",
   "execution_count": 16,
   "id": "1ca97f8b-2e7a-4b7b-8c40-528b39bc5c0e",
   "metadata": {},
   "outputs": [
    {
     "name": "stdout",
     "output_type": "stream",
     "text": [
      "Anonymous\n"
     ]
    }
   ],
   "source": [
    "anonymous = Person.create_anonymous()\n",
    "print(anonymous.name)"
   ]
  },
  {
   "cell_type": "markdown",
   "id": "3682b41f-61f1-4a9c-9807-5ef035d47fb9",
   "metadata": {},
   "source": [
    "### Define Static Method"
   ]
  },
  {
   "cell_type": "markdown",
   "id": "f763fd3b-e1bc-4b57-92c9-b7899f07eac6",
   "metadata": {},
   "source": [
    "A static method is not bound to a class or any instances of the class. In Python, you use static methods to group logically related functions in a class. To define a static method, you use the @staticmethod decorator."
   ]
  },
  {
   "cell_type": "code",
   "execution_count": 17,
   "id": "aaf40321-d37d-4ab8-aa5d-b69021a601bf",
   "metadata": {},
   "outputs": [],
   "source": [
    "class TemperatureConverter:\n",
    "    \n",
    "    @staticmethod\n",
    "    def celsius_to_fahrenheit(c):\n",
    "        return 9 * c / 5 + 32\n",
    "    \n",
    "    @staticmethod\n",
    "    def fahrenheit_to_celsius(f):\n",
    "        return 5 * (f - 32) / 9"
   ]
  },
  {
   "cell_type": "markdown",
   "id": "0d50bffa-8249-46db-9900-ac4319d3c224",
   "metadata": {},
   "source": [
    "To call a static method, you use the ClassName.static_method_name() syntax. For example:"
   ]
  },
  {
   "cell_type": "code",
   "execution_count": 19,
   "id": "8f93653a-c945-4d68-9687-932c1f07ada0",
   "metadata": {},
   "outputs": [
    {
     "name": "stdout",
     "output_type": "stream",
     "text": [
      "86.0\n"
     ]
    }
   ],
   "source": [
    "f = TemperatureConverter.celsius_to_fahrenheit(30)\n",
    "print(f)"
   ]
  },
  {
   "cell_type": "markdown",
   "id": "ac73b217-ed7a-4c89-b509-5521dd393366",
   "metadata": {},
   "source": [
    "### Single Inheritance"
   ]
  },
  {
   "cell_type": "markdown",
   "id": "51d75c33-f2d7-4a10-a527-91cd3836b6f6",
   "metadata": {},
   "source": [
    "A class can reuse another class by inheriting it. When a child class inherits from a parent class, the child class can access the attributes and methods of the parent class.\n",
    "\n",
    "For example, you can define an Employee class that inherits from the Person class:"
   ]
  },
  {
   "cell_type": "code",
   "execution_count": 20,
   "id": "b93166bb-612b-44ed-90ac-68fedd46b61d",
   "metadata": {},
   "outputs": [],
   "source": [
    "class Employee(Person):\n",
    "    def __init__(self, name, age, job_title):\n",
    "        super().init(name, age)\n",
    "        self.job_title = job_title"
   ]
  },
  {
   "cell_type": "code",
   "execution_count": 25,
   "id": "386daac0-abab-48a6-93ff-4ca776af363c",
   "metadata": {},
   "outputs": [],
   "source": [
    "class Employee(Person):\n",
    "    def __init__(self, name, age, job_title):\n",
    "        super().__init__(name, age)\n",
    "        self.job_title = job_title\n",
    "        \n",
    "    def greet(self):\n",
    "        return super().greet() + f\" I'm a {self.job_title}.\""
   ]
  },
  {
   "cell_type": "code",
   "execution_count": 26,
   "id": "0d0b47a1-6986-4853-a14c-3d88e9401a60",
   "metadata": {},
   "outputs": [
    {
     "name": "stdout",
     "output_type": "stream",
     "text": [
      "Hi, it's John. I'm a Python Developer.\n"
     ]
    }
   ],
   "source": [
    "employee = Employee('John', 25, 'Python Developer')\n",
    "print(employee.greet())"
   ]
  },
  {
   "cell_type": "code",
   "execution_count": null,
   "id": "b62b8bef-4831-4eb2-aaa9-5da15bdb4c76",
   "metadata": {},
   "outputs": [],
   "source": []
  }
 ],
 "metadata": {
  "kernelspec": {
   "display_name": "Python 3 (ipykernel)",
   "language": "python",
   "name": "python3"
  },
  "language_info": {
   "codemirror_mode": {
    "name": "ipython",
    "version": 3
   },
   "file_extension": ".py",
   "mimetype": "text/x-python",
   "name": "python",
   "nbconvert_exporter": "python",
   "pygments_lexer": "ipython3",
   "version": "3.9.12"
  }
 },
 "nbformat": 4,
 "nbformat_minor": 5
}
