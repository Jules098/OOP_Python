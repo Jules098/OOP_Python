{
 "cells": [
  {
   "cell_type": "markdown",
   "id": "e1321e37-cab0-46cc-acee-20d5d0314460",
   "metadata": {},
   "source": [
    "### Introduction to encapsulation in Python"
   ]
  },
  {
   "cell_type": "markdown",
   "id": "53e93f0e-bd93-470e-b718-7569cd07d0f5",
   "metadata": {},
   "source": [
    "Encapsulation is the packing of data and functions that work on that data within a single object. By doing so, you can hide the internal state of the object from the outside. This is known as __information hiding__."
   ]
  },
  {
   "cell_type": "markdown",
   "id": "945f72ee-c3de-480d-8347-52fff716f6a5",
   "metadata": {},
   "source": [
    "### Python Encapsulation Example"
   ]
  },
  {
   "cell_type": "code",
   "execution_count": 1,
   "id": "81e24834-67d4-45ca-baee-caacd0487f22",
   "metadata": {},
   "outputs": [],
   "source": [
    "class Counter:\n",
    "    \n",
    "    def __init__(self):\n",
    "        self.current = 0\n",
    "        \n",
    "    def increment(self):\n",
    "        self.current += 1\n",
    "        \n",
    "    def value(self):\n",
    "        return self.current\n",
    "    \n",
    "    def reset(self):\n",
    "        self.current = 0"
   ]
  },
  {
   "cell_type": "markdown",
   "id": "530f9bd8-5801-4c16-a390-6b6acffcbed0",
   "metadata": {},
   "source": [
    "The Counter class has one attribute called current which defaults to zero. And it has three methods:\n",
    "\n",
    "- increment() increases the value of the current attribute by one.\n",
    "- value() returns the current value of the current attribute\n",
    "- reset() sets the value of the current attribute to zero."
   ]
  },
  {
   "cell_type": "code",
   "execution_count": 2,
   "id": "aef6a897-d398-4596-b439-6b9dffa23d38",
   "metadata": {},
   "outputs": [
    {
     "name": "stdout",
     "output_type": "stream",
     "text": [
      "3\n"
     ]
    }
   ],
   "source": [
    "counter = Counter()\n",
    "\n",
    "counter.increment()\n",
    "counter.increment()\n",
    "counter.increment()\n",
    "\n",
    "print(counter.value())"
   ]
  },
  {
   "cell_type": "markdown",
   "id": "6cec9f97-5f2a-40c9-b7cf-d3715a142884",
   "metadata": {},
   "source": [
    "### Private Attributes"
   ]
  },
  {
   "cell_type": "code",
   "execution_count": 3,
   "id": "b9dcc5f8-9c9e-4c53-90b2-b04b88bf0bb9",
   "metadata": {},
   "outputs": [],
   "source": [
    "class Counter:\n",
    "    def __init__(self):\n",
    "        self._current = 0\n",
    "\n",
    "    def increment(self):\n",
    "        self._current += 1\n",
    "\n",
    "    def value(self):\n",
    "        return self._current\n",
    "\n",
    "    def reset(self):\n",
    "        self._current = 0"
   ]
  },
  {
   "cell_type": "markdown",
   "id": "2acd740c-9f2f-41f0-904a-3a38231c6480",
   "metadata": {},
   "source": [
    "### Name Mangling with Double Underscores"
   ]
  },
  {
   "cell_type": "code",
   "execution_count": 4,
   "id": "e2cddaf1-c8be-4644-9e3f-623125001e2f",
   "metadata": {},
   "outputs": [],
   "source": [
    "class Counter:\n",
    "    def __init__(self):\n",
    "        self.__current = 0\n",
    "\n",
    "    def increment(self):\n",
    "        self.__current += 1\n",
    "\n",
    "    def value(self):\n",
    "        return self.__current\n",
    "\n",
    "    def reset(self):\n",
    "        self.__current = 0"
   ]
  },
  {
   "cell_type": "code",
   "execution_count": 5,
   "id": "11fecdb5-c7b0-4019-8eb0-31065ef05cfe",
   "metadata": {},
   "outputs": [
    {
     "ename": "AttributeError",
     "evalue": "'Counter' object has no attribute '__current'",
     "output_type": "error",
     "traceback": [
      "\u001b[0;31m---------------------------------------------------------------------------\u001b[0m",
      "\u001b[0;31mAttributeError\u001b[0m                            Traceback (most recent call last)",
      "Input \u001b[0;32mIn [5]\u001b[0m, in \u001b[0;36m<cell line: 2>\u001b[0;34m()\u001b[0m\n\u001b[1;32m      1\u001b[0m counter \u001b[38;5;241m=\u001b[39m Counter()\n\u001b[0;32m----> 2\u001b[0m \u001b[38;5;28mprint\u001b[39m(\u001b[43mcounter\u001b[49m\u001b[38;5;241;43m.\u001b[39;49m\u001b[43m__current\u001b[49m)\n",
      "\u001b[0;31mAttributeError\u001b[0m: 'Counter' object has no attribute '__current'"
     ]
    }
   ],
   "source": [
    "counter = Counter()\n",
    "print(counter.__current)"
   ]
  },
  {
   "cell_type": "code",
   "execution_count": null,
   "id": "f54e6f1f-9207-4dc0-9f7f-cb30e253c5ec",
   "metadata": {},
   "outputs": [],
   "source": [
    "counter = Counter()\n",
    "print(counter.-Cou"
   ]
  }
 ],
 "metadata": {
  "kernelspec": {
   "display_name": "Python 3 (ipykernel)",
   "language": "python",
   "name": "python3"
  },
  "language_info": {
   "codemirror_mode": {
    "name": "ipython",
    "version": 3
   },
   "file_extension": ".py",
   "mimetype": "text/x-python",
   "name": "python",
   "nbconvert_exporter": "python",
   "pygments_lexer": "ipython3",
   "version": "3.9.12"
  }
 },
 "nbformat": 4,
 "nbformat_minor": 5
}
