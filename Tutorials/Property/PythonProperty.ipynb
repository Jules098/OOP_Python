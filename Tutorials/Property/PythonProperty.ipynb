{
 "cells": [
  {
   "cell_type": "markdown",
   "id": "a668db3c-f80f-4d17-a1ab-6b6daee727e4",
   "metadata": {},
   "source": [
    "### Introduction to Class Properties"
   ]
  },
  {
   "cell_type": "code",
   "execution_count": 1,
   "id": "2b5cd115-60d4-4487-9472-038f80175806",
   "metadata": {},
   "outputs": [],
   "source": [
    "class Person:\n",
    "    \n",
    "    def __init__(self, name, age):\n",
    "        self.name = name\n",
    "        self.age = age\n",
    "        \n",
    "john = Person('John', 18)"
   ]
  },
  {
   "cell_type": "markdown",
   "id": "1d32026c-c9d6-400e-80df-2929c0a06afb",
   "metadata": {},
   "source": [
    "Since age is the instance attribute of the Person class, you can assign it a new value like this:"
   ]
  },
  {
   "cell_type": "code",
   "execution_count": 2,
   "id": "f136c29d-22d6-4e92-aac9-678cd799fa37",
   "metadata": {},
   "outputs": [],
   "source": [
    "john.age = 19"
   ]
  },
  {
   "cell_type": "code",
   "execution_count": 3,
   "id": "45ab5378-7870-4763-b96e-08e75b4437b6",
   "metadata": {},
   "outputs": [],
   "source": [
    "john.age = -1"
   ]
  },
  {
   "cell_type": "code",
   "execution_count": 4,
   "id": "ed69b9bc-a44e-4ec9-9c31-f5cc4e53806a",
   "metadata": {},
   "outputs": [
    {
     "ename": "ValueError",
     "evalue": "The age must be positive",
     "output_type": "error",
     "traceback": [
      "\u001b[0;31m---------------------------------------------------------------------------\u001b[0m",
      "\u001b[0;31mValueError\u001b[0m                                Traceback (most recent call last)",
      "Input \u001b[0;32mIn [4]\u001b[0m, in \u001b[0;36m<cell line: 3>\u001b[0;34m()\u001b[0m\n\u001b[1;32m      1\u001b[0m age \u001b[38;5;241m=\u001b[39m \u001b[38;5;241m-\u001b[39m\u001b[38;5;241m1\u001b[39m\n\u001b[1;32m      3\u001b[0m \u001b[38;5;28;01mif\u001b[39;00m age \u001b[38;5;241m<\u001b[39m\u001b[38;5;241m=\u001b[39m \u001b[38;5;241m0\u001b[39m:\n\u001b[0;32m----> 4\u001b[0m     \u001b[38;5;28;01mraise\u001b[39;00m \u001b[38;5;167;01mValueError\u001b[39;00m(\u001b[38;5;124m'\u001b[39m\u001b[38;5;124mThe age must be positive\u001b[39m\u001b[38;5;124m'\u001b[39m)\n\u001b[1;32m      5\u001b[0m \u001b[38;5;28;01melse\u001b[39;00m:\n\u001b[1;32m      6\u001b[0m     john\u001b[38;5;241m.\u001b[39mage \u001b[38;5;241m=\u001b[39m age\n",
      "\u001b[0;31mValueError\u001b[0m: The age must be positive"
     ]
    }
   ],
   "source": [
    "age = -1\n",
    "\n",
    "if age <= 0:\n",
    "    raise ValueError('The age must be positive')\n",
    "else:\n",
    "    john.age = age"
   ]
  },
  {
   "cell_type": "markdown",
   "id": "8bf40915-da61-41eb-8e3a-7d1c2c78d29e",
   "metadata": {},
   "source": [
    "### Getter and Setter"
   ]
  },
  {
   "cell_type": "markdown",
   "id": "496582ca-f3f8-4ad1-a873-37f807254d78",
   "metadata": {},
   "source": [
    "The getter and setter methods provide an interface for accessing an instance attribute:\n",
    "\n",
    "- The getter returns the value of an attribute\n",
    "- The setter sets a new value for an attribute"
   ]
  },
  {
   "cell_type": "code",
   "execution_count": 8,
   "id": "27723a6f-f058-409f-96eb-88ee56079423",
   "metadata": {},
   "outputs": [],
   "source": [
    "class Person:\n",
    "    \n",
    "    def __init__(self, name, age):\n",
    "        self.name = name\n",
    "        self.set_age(age)\n",
    "        \n",
    "    def set_age(self, age):\n",
    "        if age <= 0:\n",
    "            raise ValueError('The age must be positive')\n",
    "        else:\n",
    "            self._age = age\n",
    "    \n",
    "    def get_age(self):\n",
    "        return self._age"
   ]
  },
  {
   "cell_type": "markdown",
   "id": "f665a0ca-db1c-4bff-a13a-cfdc0cf5a0e0",
   "metadata": {},
   "source": [
    "In the Person class, the set_age() is the setter and the get_age() is the getter. By convention the getter and setter have the following name: get_<attribute>() and set_<attribute>()."
   ]
  },
  {
   "cell_type": "code",
   "execution_count": 9,
   "id": "0d5fd536-2c2c-4292-b384-81c89387d659",
   "metadata": {},
   "outputs": [
    {
     "ename": "ValueError",
     "evalue": "The age must be positive",
     "output_type": "error",
     "traceback": [
      "\u001b[0;31m---------------------------------------------------------------------------\u001b[0m",
      "\u001b[0;31mValueError\u001b[0m                                Traceback (most recent call last)",
      "Input \u001b[0;32mIn [9]\u001b[0m, in \u001b[0;36m<cell line: 2>\u001b[0;34m()\u001b[0m\n\u001b[1;32m      1\u001b[0m john \u001b[38;5;241m=\u001b[39m Person(\u001b[38;5;124m'\u001b[39m\u001b[38;5;124mJohn\u001b[39m\u001b[38;5;124m'\u001b[39m, \u001b[38;5;241m18\u001b[39m)\n\u001b[0;32m----> 2\u001b[0m \u001b[43mjohn\u001b[49m\u001b[38;5;241;43m.\u001b[39;49m\u001b[43mset_age\u001b[49m\u001b[43m(\u001b[49m\u001b[38;5;241;43m-\u001b[39;49m\u001b[38;5;241;43m19\u001b[39;49m\u001b[43m)\u001b[49m\n",
      "Input \u001b[0;32mIn [8]\u001b[0m, in \u001b[0;36mPerson.set_age\u001b[0;34m(self, age)\u001b[0m\n\u001b[1;32m      7\u001b[0m \u001b[38;5;28;01mdef\u001b[39;00m \u001b[38;5;21mset_age\u001b[39m(\u001b[38;5;28mself\u001b[39m, age):\n\u001b[1;32m      8\u001b[0m     \u001b[38;5;28;01mif\u001b[39;00m age \u001b[38;5;241m<\u001b[39m\u001b[38;5;241m=\u001b[39m \u001b[38;5;241m0\u001b[39m:\n\u001b[0;32m----> 9\u001b[0m         \u001b[38;5;28;01mraise\u001b[39;00m \u001b[38;5;167;01mValueError\u001b[39;00m(\u001b[38;5;124m'\u001b[39m\u001b[38;5;124mThe age must be positive\u001b[39m\u001b[38;5;124m'\u001b[39m)\n\u001b[1;32m     10\u001b[0m     \u001b[38;5;28;01melse\u001b[39;00m:\n\u001b[1;32m     11\u001b[0m         \u001b[38;5;28mself\u001b[39m\u001b[38;5;241m.\u001b[39m_age \u001b[38;5;241m=\u001b[39m age\n",
      "\u001b[0;31mValueError\u001b[0m: The age must be positive"
     ]
    }
   ],
   "source": [
    "john = Person('John', 18)\n",
    "john.set_age(-19)"
   ]
  },
  {
   "cell_type": "markdown",
   "id": "2aebb969-0357-4810-b408-567bcb9dbdd1",
   "metadata": {},
   "source": [
    "### The Python Property Class"
   ]
  },
  {
   "cell_type": "markdown",
   "id": "b2618ca4-4da1-4b2f-a716-f9a06bdf7a43",
   "metadata": {},
   "source": [
    "The property class returns a property object. The property() class has the following syntax:"
   ]
  },
  {
   "cell_type": "code",
   "execution_count": 10,
   "id": "ba501f4d-2714-4d05-b4ad-67779618bd61",
   "metadata": {},
   "outputs": [],
   "source": [
    "# property(fget=None, fset=None, fdel=None, doc=None)"
   ]
  },
  {
   "cell_type": "markdown",
   "id": "dad9c6e6-f897-477d-a87f-8249b3744094",
   "metadata": {},
   "source": [
    "The property() has the following parameters:\n",
    "\n",
    "- fget is a function to get the value of the attribute, or the getter method.\n",
    "- fset is a function to set the value of the attribute, or the setter method.\n",
    "- fdel is a function to delete the attribute.\n",
    "- doc is a docstring i.e., a comment."
   ]
  },
  {
   "cell_type": "code",
   "execution_count": 11,
   "id": "607c8e6c-833e-4e22-ac1a-98f60bb3aaee",
   "metadata": {},
   "outputs": [],
   "source": [
    "class Person:\n",
    "    \n",
    "    def __init__(self, name, age):\n",
    "        self.name = name\n",
    "        self.age = age\n",
    "        \n",
    "    def set_age(self, age):\n",
    "        if age <= 0:\n",
    "            raise ValueError('The age must be positive')\n",
    "        else:\n",
    "            self._age = age\n",
    "            \n",
    "    def get_age(self):\n",
    "        return self._age\n",
    "    \n",
    "    age = property(fget = get_age, fset = set_age)"
   ]
  },
  {
   "cell_type": "code",
   "execution_count": 12,
   "id": "5e01e696-0a33-4073-9f71-b7398efae71b",
   "metadata": {},
   "outputs": [
    {
     "name": "stdout",
     "output_type": "stream",
     "text": [
      "<property object at 0x7fc4d911ae50>\n"
     ]
    }
   ],
   "source": [
    "print(Person.age)"
   ]
  },
  {
   "cell_type": "code",
   "execution_count": 13,
   "id": "5e0e13d4-622a-4024-a910-bc24f7342395",
   "metadata": {},
   "outputs": [],
   "source": [
    "john = Person('John', 18)"
   ]
  },
  {
   "cell_type": "code",
   "execution_count": 14,
   "id": "025d1a8d-e0e9-4d5d-8ace-a61eca11f41f",
   "metadata": {},
   "outputs": [
    {
     "name": "stdout",
     "output_type": "stream",
     "text": [
      "{'name': 'John', '_age': 18}\n"
     ]
    }
   ],
   "source": [
    "print(john.__dict__)"
   ]
  },
  {
   "cell_type": "code",
   "execution_count": 15,
   "id": "489fc160-8915-43de-a21a-c426c96e1120",
   "metadata": {},
   "outputs": [],
   "source": [
    "john.age = 19"
   ]
  },
  {
   "cell_type": "code",
   "execution_count": 17,
   "id": "89d296c7-6a9f-4472-aa92-855bd7f36fc5",
   "metadata": {},
   "outputs": [
    {
     "name": "stdout",
     "output_type": "stream",
     "text": [
      "mappingproxy({'__dict__': <attribute '__dict__' of 'Person' objects>,\n",
      "              '__doc__': None,\n",
      "              '__init__': <function Person.__init__ at 0x7fc4d8360d30>,\n",
      "              '__module__': '__main__',\n",
      "              '__weakref__': <attribute '__weakref__' of 'Person' objects>,\n",
      "              'age': <property object at 0x7fc4d911ae50>,\n",
      "              'get_age': <function Person.get_age at 0x7fc4d91bd280>,\n",
      "              'set_age': <function Person.set_age at 0x7fc4d9179f70>})\n"
     ]
    }
   ],
   "source": [
    "from pprint import pprint\n",
    "\n",
    "pprint(Person.__dict__)"
   ]
  },
  {
   "cell_type": "code",
   "execution_count": 18,
   "id": "8212e7a6-200f-450d-816e-6eda123ff99b",
   "metadata": {},
   "outputs": [
    {
     "name": "stdout",
     "output_type": "stream",
     "text": [
      "<property object at 0x7fc4d91ca130>\n",
      "{'_age': 18, 'name': 'John'}\n",
      "mappingproxy({'__dict__': <attribute '__dict__' of 'Person' objects>,\n",
      "              '__doc__': None,\n",
      "              '__init__': <function Person.__init__ at 0x7fc4d91bdc10>,\n",
      "              '__module__': '__main__',\n",
      "              '__weakref__': <attribute '__weakref__' of 'Person' objects>,\n",
      "              'age': <property object at 0x7fc4d91ca130>,\n",
      "              'get_age': <function Person.get_age at 0x7fc4d91bd4c0>,\n",
      "              'set_age': <function Person.set_age at 0x7fc4d91bddc0>})\n"
     ]
    }
   ],
   "source": [
    "class Person:\n",
    "    def __init__(self, name, age):\n",
    "        self.name = name\n",
    "        self.age = age\n",
    "\n",
    "    def set_age(self, age):\n",
    "        if age <= 0:\n",
    "            raise ValueError('The age must be positive')\n",
    "        self._age = age\n",
    "\n",
    "    def get_age(self):\n",
    "        return self._age\n",
    "\n",
    "    age = property(fget=get_age, fset=set_age)\n",
    "    \n",
    "print(Person.age)\n",
    "\n",
    "john = Person('John', 18)\n",
    "pprint(john.__dict__)\n",
    "\n",
    "john.age = 19\n",
    "pprint(Person.__dict__)"
   ]
  },
  {
   "cell_type": "code",
   "execution_count": null,
   "id": "7570da28-aa48-40a3-92b0-c376b572cd5c",
   "metadata": {},
   "outputs": [],
   "source": []
  }
 ],
 "metadata": {
  "kernelspec": {
   "display_name": "Python 3 (ipykernel)",
   "language": "python",
   "name": "python3"
  },
  "language_info": {
   "codemirror_mode": {
    "name": "ipython",
    "version": 3
   },
   "file_extension": ".py",
   "mimetype": "text/x-python",
   "name": "python",
   "nbconvert_exporter": "python",
   "pygments_lexer": "ipython3",
   "version": "3.9.12"
  }
 },
 "nbformat": 4,
 "nbformat_minor": 5
}
