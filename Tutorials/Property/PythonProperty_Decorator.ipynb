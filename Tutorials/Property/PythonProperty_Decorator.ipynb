{
 "cells": [
  {
   "cell_type": "markdown",
   "id": "c50578b5-5cd5-458a-9c04-38bbd2a74f84",
   "metadata": {},
   "source": [
    "### Introduction to the Python Property Decorator"
   ]
  },
  {
   "cell_type": "code",
   "execution_count": 3,
   "id": "a50c20ad-3c9d-4017-988b-2b8fbdfe4f82",
   "metadata": {},
   "outputs": [],
   "source": [
    "# class property(fget=None, fset=None, fdel=None, doc=None)"
   ]
  },
  {
   "cell_type": "code",
   "execution_count": 9,
   "id": "b951d809-b1d1-42f3-828e-16279b889615",
   "metadata": {},
   "outputs": [],
   "source": [
    "class Person:\n",
    "    \n",
    "    def __init__(self, name, age):\n",
    "        self.name = name\n",
    "        self.age = age"
   ]
  },
  {
   "cell_type": "code",
   "execution_count": 12,
   "id": "fd4303aa-9e20-46e0-874f-da2689f04184",
   "metadata": {},
   "outputs": [],
   "source": [
    "class Person:\n",
    "    def __init__(self, name, age):\n",
    "        self.name = name\n",
    "        self._age = age\n",
    "\n",
    "    def get_age(self):\n",
    "        return self._age\n",
    "\n",
    "    age = property(fget=get_age)"
   ]
  },
  {
   "cell_type": "code",
   "execution_count": 13,
   "id": "760a38d4-7934-419c-8f3e-56a779605d58",
   "metadata": {},
   "outputs": [
    {
     "name": "stdout",
     "output_type": "stream",
     "text": [
      "25\n"
     ]
    }
   ],
   "source": [
    "john = Person('John', 25)\n",
    "print(john.age)"
   ]
  },
  {
   "cell_type": "code",
   "execution_count": 14,
   "id": "6d4b2a8c-b5ce-440d-a5e3-ca1484f6ebc4",
   "metadata": {},
   "outputs": [
    {
     "name": "stdout",
     "output_type": "stream",
     "text": [
      "25\n"
     ]
    }
   ],
   "source": [
    "print(john.get_age())"
   ]
  },
  {
   "cell_type": "code",
   "execution_count": 15,
   "id": "7d2ee36d-df8b-4dc0-bb44-2a614218be7d",
   "metadata": {},
   "outputs": [],
   "source": [
    "class Person:\n",
    "    def __init__(self, name, age):\n",
    "        self.name = name\n",
    "        self._age = age\n",
    "\n",
    "    def age(self):\n",
    "        return self._age\n",
    "\n",
    "    age = property(fget=age)"
   ]
  },
  {
   "cell_type": "code",
   "execution_count": 16,
   "id": "3bf4d1f8-2887-452c-aa5c-9a6afc612b1b",
   "metadata": {},
   "outputs": [],
   "source": [
    "class Person:\n",
    "    \n",
    "    def __init__(self, name, age):\n",
    "        self.name = name\n",
    "        self._age = age\n",
    "        \n",
    "    @property\n",
    "    def age(self):\n",
    "        return self._age"
   ]
  },
  {
   "cell_type": "markdown",
   "id": "023a9691-405f-462f-b624-e47eb36e269a",
   "metadata": {},
   "source": [
    "### Setter Decorators"
   ]
  },
  {
   "cell_type": "code",
   "execution_count": 17,
   "id": "718549ca-5af1-4bd4-b79d-e3b177c9f002",
   "metadata": {},
   "outputs": [],
   "source": [
    "class Person:\n",
    "    \n",
    "    def __init__(self, name, age):\n",
    "        self.name = name\n",
    "        self._age = age\n",
    "        \n",
    "    @property\n",
    "    def age(self):\n",
    "        return self._age\n",
    "    \n",
    "    def set_age(self, value):\n",
    "        if value <= 0:\n",
    "            raise ValueError('The age must be positive')\n",
    "        self._age = value"
   ]
  },
  {
   "cell_type": "code",
   "execution_count": 18,
   "id": "9cc43ad9-b499-40ae-9c3d-2a1324b85b79",
   "metadata": {},
   "outputs": [],
   "source": [
    "class Person:\n",
    "    def __init__(self, name, age):\n",
    "        self.name = name\n",
    "        self._age = age\n",
    "\n",
    "    @property\n",
    "    def age(self):\n",
    "        return self._age\n",
    "\n",
    "    def set_age(self, value):\n",
    "        if value <= 0:\n",
    "            raise ValueError('The age must be positive')\n",
    "        self._age = value\n",
    "\n",
    "    age = age.setter(set_age)"
   ]
  },
  {
   "cell_type": "code",
   "execution_count": 19,
   "id": "4b24875c-c7a6-45c0-8060-85d018ee1019",
   "metadata": {},
   "outputs": [],
   "source": [
    "class Person:\n",
    "    \n",
    "    def __init__(self, name, age):\n",
    "        self.name = name\n",
    "        self._age = age\n",
    "        \n",
    "    @property\n",
    "    def age(self):\n",
    "        return self._age\n",
    "    \n",
    "    @age.setter\n",
    "    def set_age(self, value):\n",
    "        if age <= 0:\n",
    "            raise ValueError('The age must be positive')\n",
    "        self._age = value"
   ]
  },
  {
   "cell_type": "markdown",
   "id": "75719bea-91c6-4955-8864-7d578d0f0d0f",
   "metadata": {},
   "source": [
    "Now, you can change the set_age() method to the age() method and use the age property in the __init__() method:"
   ]
  },
  {
   "cell_type": "code",
   "execution_count": 20,
   "id": "fd01089e-7a6b-4546-8665-cfd203f55826",
   "metadata": {},
   "outputs": [],
   "source": [
    "class Person:\n",
    "    \n",
    "    def __init__(self, name, age):\n",
    "        self.name = name\n",
    "        self.age = age\n",
    "\n",
    "    @property\n",
    "    def age(self):\n",
    "        return self._age\n",
    "\n",
    "    @age.setter\n",
    "    def age(self, value):\n",
    "        if value <= 0:\n",
    "            raise ValueError('The age must be positive')\n",
    "        self._age = value"
   ]
  },
  {
   "cell_type": "code",
   "execution_count": 22,
   "id": "89b8a087-ac34-4f5c-a798-dcde524827b3",
   "metadata": {},
   "outputs": [],
   "source": [
    "class MyClass:\n",
    "    \n",
    "    def __init__(self, attr):\n",
    "        self.prop = attr\n",
    "\n",
    "    @property\n",
    "    def prop(self):\n",
    "        return self.__attr\n",
    "\n",
    "    @prop.setter\n",
    "    def prop(self, value):\n",
    "        self.__attr = value"
   ]
  },
  {
   "cell_type": "code",
   "execution_count": 23,
   "id": "84f47e1f-c2bd-48f0-a6b6-9e93b7ed9bd6",
   "metadata": {},
   "outputs": [],
   "source": [
    "class Person:\n",
    "    \n",
    "    def __init__(self, name, age):\n",
    "        self.name = name\n",
    "        self.age = age\n",
    "        \n",
    "    @property\n",
    "    def age(self):\n",
    "        return self._age\n",
    "    \n",
    "    @age.setter\n",
    "    def age(self, value):\n",
    "        if age <= 0:\n",
    "            raise ValueError('The age must be positive')\n",
    "        self._age = value\n",
    "        \n",
    "    @property\n",
    "    def name(self):\n",
    "        return self._name\n",
    "    \n",
    "    @name.setter\n",
    "    def name(self, value):\n",
    "        if value.strip() == '':\n",
    "            raise ValueError('The name cannot be empty')\n",
    "        self._name = value"
   ]
  },
  {
   "cell_type": "markdown",
   "id": "a608564a-644e-49c5-9a4d-479ec9026d35",
   "metadata": {},
   "source": [
    "### Summary\n",
    "- Use the @property decorator to create a property for a class."
   ]
  },
  {
   "cell_type": "code",
   "execution_count": null,
   "id": "a6f9fe07-7c45-4877-aeac-f8774776755b",
   "metadata": {},
   "outputs": [],
   "source": []
  }
 ],
 "metadata": {
  "kernelspec": {
   "display_name": "Python 3 (ipykernel)",
   "language": "python",
   "name": "python3"
  },
  "language_info": {
   "codemirror_mode": {
    "name": "ipython",
    "version": 3
   },
   "file_extension": ".py",
   "mimetype": "text/x-python",
   "name": "python",
   "nbconvert_exporter": "python",
   "pygments_lexer": "ipython3",
   "version": "3.9.12"
  }
 },
 "nbformat": 4,
 "nbformat_minor": 5
}
