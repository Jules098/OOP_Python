{
 "cells": [
  {
   "cell_type": "markdown",
   "id": "52c681a2-ffc5-4ab4-966c-34e825c78460",
   "metadata": {},
   "source": [
    "### Introduction to Python Delete Property"
   ]
  },
  {
   "cell_type": "markdown",
   "id": "ea193d68-84eb-41b8-a976-7786a8c6db08",
   "metadata": {},
   "source": [
    "To create a property of a class, you use the @property decorator. Underhood, the @property decorator uses the property class that has three methods: setter, getter, and deleter."
   ]
  },
  {
   "cell_type": "code",
   "execution_count": 1,
   "id": "60d04359-0a13-4a93-b499-a6e103171f34",
   "metadata": {},
   "outputs": [],
   "source": [
    "from pprint import pprint\n",
    "\n",
    "class Person:\n",
    "    \n",
    "    def __init__(self, name):\n",
    "        self._name = name\n",
    "        \n",
    "    @property\n",
    "    def name(self):\n",
    "        return self._name\n",
    "    \n",
    "    @name.setter\n",
    "    def name(self, value):\n",
    "        if value.strip() == '':\n",
    "            raise ValueError('Name cannot be empty')\n",
    "        self._name = value\n",
    "        \n",
    "    @name.deleter\n",
    "    def name(self):\n",
    "        del self._name"
   ]
  },
  {
   "cell_type": "code",
   "execution_count": 2,
   "id": "b7f152d1-b6ad-45c2-b0c9-4c1198d3f51d",
   "metadata": {},
   "outputs": [
    {
     "name": "stdout",
     "output_type": "stream",
     "text": [
      "mappingproxy({'__dict__': <attribute '__dict__' of 'Person' objects>,\n",
      "              '__doc__': None,\n",
      "              '__init__': <function Person.__init__ at 0x7fceb8ca1280>,\n",
      "              '__module__': '__main__',\n",
      "              '__weakref__': <attribute '__weakref__' of 'Person' objects>,\n",
      "              'name': <property object at 0x7fceb8ca9090>})\n"
     ]
    }
   ],
   "source": [
    "pprint(Person.__dict__)"
   ]
  },
  {
   "cell_type": "code",
   "execution_count": 3,
   "id": "50d5540e-51fd-4aa6-9365-e6338e696b2f",
   "metadata": {},
   "outputs": [],
   "source": [
    "person = Person('John')"
   ]
  },
  {
   "cell_type": "code",
   "execution_count": 4,
   "id": "6a461559-ad1e-431c-9590-8ee44abfd61c",
   "metadata": {},
   "outputs": [
    {
     "name": "stdout",
     "output_type": "stream",
     "text": [
      "{'_name': 'John'}\n"
     ]
    }
   ],
   "source": [
    "pprint(person.__dict__)"
   ]
  },
  {
   "cell_type": "code",
   "execution_count": 5,
   "id": "75d1b6b1-184e-40b0-8197-0ff336f74f7c",
   "metadata": {},
   "outputs": [],
   "source": [
    "del person.name"
   ]
  },
  {
   "cell_type": "code",
   "execution_count": null,
   "id": "08c3abe6-667b-4dbc-aec8-d24269da0da9",
   "metadata": {},
   "outputs": [],
   "source": []
  }
 ],
 "metadata": {
  "kernelspec": {
   "display_name": "Python 3 (ipykernel)",
   "language": "python",
   "name": "python3"
  },
  "language_info": {
   "codemirror_mode": {
    "name": "ipython",
    "version": 3
   },
   "file_extension": ".py",
   "mimetype": "text/x-python",
   "name": "python",
   "nbconvert_exporter": "python",
   "pygments_lexer": "ipython3",
   "version": "3.9.12"
  }
 },
 "nbformat": 4,
 "nbformat_minor": 5
}
