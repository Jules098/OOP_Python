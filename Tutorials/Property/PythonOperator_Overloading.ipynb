{
 "cells": [
  {
   "cell_type": "markdown",
   "id": "5efd2e36-41cc-4a77-8d38-434bad8191ad",
   "metadata": {},
   "source": [
    "### Introduction to Python Operator Overloading"
   ]
  },
  {
   "cell_type": "code",
   "execution_count": 1,
   "id": "bd775899-a4fb-4eb0-961d-ba6ca6e9ba0c",
   "metadata": {},
   "outputs": [],
   "source": [
    "class Point2D:\n",
    "    \n",
    "    def __init__(self, x, y):\n",
    "        self.x = x\n",
    "        self.y = y\n",
    "        \n",
    "    def __str__(self):\n",
    "        return f'({self.x}, {self.y})'\n",
    "    "
   ]
  },
  {
   "cell_type": "code",
   "execution_count": 2,
   "id": "d8eddb45-cbb5-432a-a011-320dbf8cce83",
   "metadata": {},
   "outputs": [],
   "source": [
    "class Point2D:\n",
    "    \n",
    "    def __init__(self, x, y):\n",
    "        self.x = x\n",
    "        self.y = y\n",
    "        \n",
    "    def __str__(self):\n",
    "        return f'({self.x}, {self.y})'\n",
    "    \n",
    "    def add(self, point):\n",
    "        if not isinstance(point, Point2D):\n",
    "            raise ValueError('The other must be an instance of the Point2D.')\n",
    "            \n",
    "        return Point2D(self.x + point.x, self.y + point.y)"
   ]
  },
  {
   "cell_type": "markdown",
   "id": "ef7c6c42-01a4-49f7-8c06-3ffb27f73d3a",
   "metadata": {},
   "source": [
    "The add() method raises an error if the point is not an instance of the Point2D class. Otherwise, it returns a new Point2D object whose x and y coordinates are the sums of x and y coordinates of two points."
   ]
  },
  {
   "cell_type": "code",
   "execution_count": 3,
   "id": "b470946c-a905-42dc-8de0-7775e0fe5942",
   "metadata": {},
   "outputs": [
    {
     "name": "stdout",
     "output_type": "stream",
     "text": [
      "(25, 45)\n"
     ]
    }
   ],
   "source": [
    "a = Point2D(10, 20)\n",
    "b = Point2D(15, 25)\n",
    "c = a.add(b)\n",
    "\n",
    "print(c)"
   ]
  },
  {
   "cell_type": "code",
   "execution_count": 4,
   "id": "76aaf215-0302-408f-a2a1-6c7fb56fa11b",
   "metadata": {},
   "outputs": [
    {
     "ename": "TypeError",
     "evalue": "unsupported operand type(s) for +: 'Point2D' and 'Point2D'",
     "output_type": "error",
     "traceback": [
      "\u001b[0;31m---------------------------------------------------------------------------\u001b[0m",
      "\u001b[0;31mTypeError\u001b[0m                                 Traceback (most recent call last)",
      "Input \u001b[0;32mIn [4]\u001b[0m, in \u001b[0;36m<cell line: 1>\u001b[0;34m()\u001b[0m\n\u001b[0;32m----> 1\u001b[0m c \u001b[38;5;241m=\u001b[39m \u001b[43ma\u001b[49m\u001b[43m \u001b[49m\u001b[38;5;241;43m+\u001b[39;49m\u001b[43m \u001b[49m\u001b[43mb\u001b[49m\n",
      "\u001b[0;31mTypeError\u001b[0m: unsupported operand type(s) for +: 'Point2D' and 'Point2D'"
     ]
    }
   ],
   "source": [
    "c = a + b"
   ]
  },
  {
   "cell_type": "code",
   "execution_count": 5,
   "id": "ff825e7d-9272-4787-b9d9-b6fd3ddae428",
   "metadata": {},
   "outputs": [
    {
     "ename": "AttributeError",
     "evalue": "'Point2D' object has no attribute '__add__'",
     "output_type": "error",
     "traceback": [
      "\u001b[0;31m---------------------------------------------------------------------------\u001b[0m",
      "\u001b[0;31mAttributeError\u001b[0m                            Traceback (most recent call last)",
      "Input \u001b[0;32mIn [5]\u001b[0m, in \u001b[0;36m<cell line: 1>\u001b[0;34m()\u001b[0m\n\u001b[0;32m----> 1\u001b[0m c \u001b[38;5;241m=\u001b[39m \u001b[43ma\u001b[49m\u001b[38;5;241;43m.\u001b[39;49m\u001b[38;5;21;43m__add__\u001b[39;49m(b)\n",
      "\u001b[0;31mAttributeError\u001b[0m: 'Point2D' object has no attribute '__add__'"
     ]
    }
   ],
   "source": [
    "c = a.__add__(b)"
   ]
  },
  {
   "cell_type": "code",
   "execution_count": 6,
   "id": "f4de0be3-0fe2-4bbb-bbba-c4f00149452e",
   "metadata": {},
   "outputs": [
    {
     "name": "stdout",
     "output_type": "stream",
     "text": [
      "(25,45)\n"
     ]
    }
   ],
   "source": [
    "class Point2D:\n",
    "    def __init__(self, x, y):\n",
    "        self.x = x\n",
    "        self.y = y\n",
    "\n",
    "    def __str__(self):\n",
    "        return f'({self.x},{self.y})'\n",
    "\n",
    "    def __add__(self, point):\n",
    "        if not isinstance(point, Point2D):\n",
    "            raise ValueError('The other must be an instance of the Point2D')\n",
    "\n",
    "        return Point2D(self.x + point.x, self.y + point.y)\n",
    "    \n",
    "if __name__ == '__main__':\n",
    "    a = Point2D(10,20)\n",
    "    b = Point2D(15, 25)\n",
    "    c = a + b\n",
    "    print(c)"
   ]
  },
  {
   "cell_type": "code",
   "execution_count": 7,
   "id": "74ac737b-9417-44b1-ac94-77763cc0fd9e",
   "metadata": {},
   "outputs": [
    {
     "name": "stdout",
     "output_type": "stream",
     "text": [
      "(-5,-5)\n"
     ]
    }
   ],
   "source": [
    "class Point2D:\n",
    "    def __init__(self, x, y):\n",
    "        self.x = x\n",
    "        self.y = y\n",
    "\n",
    "    def __str__(self):\n",
    "        return f'({self.x},{self.y})'\n",
    "\n",
    "    def __add__(self, point):\n",
    "        if not isinstance(point, Point2D):\n",
    "            raise ValueError('The other must be an instance of the Point2D')\n",
    "\n",
    "        return Point2D(self.x + point.x, self.y + point.y)\n",
    "    \n",
    "    def __sub__(self, other):\n",
    "        if not isinstance(other, Point2D):\n",
    "            raise ValueError('The other must be an instance of the Point2D.')\n",
    "        \n",
    "        return Point2D(self.x - other.x, self.y - other.y)\n",
    "    \n",
    "if __name__ == '__main__':\n",
    "    a = Point2D(10,20)\n",
    "    b = Point2D(15,25)\n",
    "    c = a - b\n",
    "    print(c)"
   ]
  },
  {
   "cell_type": "markdown",
   "id": "f381cfa8-33cd-40db-a19a-c7b866058c6a",
   "metadata": {},
   "source": [
    "### Overloading Inplace Operators"
   ]
  },
  {
   "cell_type": "markdown",
   "id": "fa6b34a3-d54d-45d0-a6ee-92f82f687c2d",
   "metadata": {},
   "source": [
    "First, define the Item class that has three attributes name, quantity, and price. Also, it has an amount property that returns the subtotal of the item:"
   ]
  },
  {
   "cell_type": "code",
   "execution_count": 8,
   "id": "71563569-700a-47f6-909e-14dceb4a2e2f",
   "metadata": {},
   "outputs": [],
   "source": [
    "class Item:\n",
    "    \n",
    "    def __init__(self, name, qty, price):\n",
    "        self.name = name\n",
    "        self.qty = qty\n",
    "        self.price = price\n",
    "        \n",
    "    @property\n",
    "    def amount(self):\n",
    "        return self.qty * self.price\n",
    "    \n",
    "    def __str__(self):\n",
    "        return f'{self.name} {self.qty} ${self.price} ${self.amount}'"
   ]
  },
  {
   "cell_type": "markdown",
   "id": "6f0edccd-45a7-40e4-8b7f-d8d067db93a3",
   "metadata": {},
   "source": [
    "Second, define the Cart class that implements the __iadd__ method:"
   ]
  },
  {
   "cell_type": "code",
   "execution_count": 9,
   "id": "30454241-bfc6-41dc-a120-e83d861bba47",
   "metadata": {},
   "outputs": [],
   "source": [
    "class Cart:\n",
    "    \n",
    "    def __init__(self):\n",
    "        self.items = []\n",
    "    \n",
    "    def __iadd__(self, item):\n",
    "        if not isinstance(item, Item):\n",
    "            raise ValueError('The item must be an instance of Item.')\n",
    "        \n",
    "        self.items.append(item)\n",
    "        return self\n",
    "    \n",
    "    @property\n",
    "    def total(self):\n",
    "        return sum([item.amount for item in self.items])\n",
    "    \n",
    "    def __str__(self):\n",
    "        if not self.items:\n",
    "            return 'The cart is empty.'\n",
    "        \n",
    "        return '\\n'.join([str(item) for item in self.items])"
   ]
  },
  {
   "cell_type": "markdown",
   "id": "0d06d7ce-239d-47d8-b884-769731fd72d5",
   "metadata": {},
   "source": [
    "In the __iadd__ method, we raise a ValueError if the item is not an instance of the Item class. Otherwise, we add the item to the items list attribute.\n",
    "\n",
    "The total property returns the sum of all items."
   ]
  },
  {
   "cell_type": "markdown",
   "id": "f53950da-1c94-4c15-97c8-8a80bc3aa19b",
   "metadata": {},
   "source": [
    "The __str__ method returns the string 'The cart is empty' if the cart has no item. Otherwise, it returns a string that contains all items separated by a newline."
   ]
  },
  {
   "cell_type": "markdown",
   "id": "954d9518-5436-4a16-87cd-cb45dfb35d66",
   "metadata": {},
   "source": [
    "Third, use the += operator to add an item to the cart:"
   ]
  },
  {
   "cell_type": "code",
   "execution_count": 11,
   "id": "b47fa358-03b9-4a43-bb3d-88bb76477d82",
   "metadata": {},
   "outputs": [
    {
     "name": "stdout",
     "output_type": "stream",
     "text": [
      "Apple 5 $2 $10\n",
      "Banana 20 $1 $20\n",
      "Orange 10 $1.5 $15.0\n",
      "------------------------------\n",
      "Total: $ 45.0\n"
     ]
    }
   ],
   "source": [
    "if __name__ == '__main__':\n",
    "    cart = Cart()\n",
    "\n",
    "    cart += Item('Apple', 5, 2)\n",
    "    cart += Item('Banana', 20, 1)\n",
    "    cart += Item('Orange', 10, 1.5)\n",
    "\n",
    "    print(cart)\n",
    "    # print the total line\n",
    "    print('-' * 30)\n",
    "    print('Total: $', cart.total)"
   ]
  },
  {
   "cell_type": "markdown",
   "id": "d7cdc28f-1121-4d37-bfd0-c811daa82c1d",
   "metadata": {},
   "source": [
    "### Summary\n",
    "- Opeartor overloading allows a class to use built-in operators."
   ]
  },
  {
   "cell_type": "code",
   "execution_count": null,
   "id": "0a037eb7-924e-4171-8d73-86e23d3be6b6",
   "metadata": {},
   "outputs": [],
   "source": []
  }
 ],
 "metadata": {
  "kernelspec": {
   "display_name": "Python 3 (ipykernel)",
   "language": "python",
   "name": "python3"
  },
  "language_info": {
   "codemirror_mode": {
    "name": "ipython",
    "version": 3
   },
   "file_extension": ".py",
   "mimetype": "text/x-python",
   "name": "python",
   "nbconvert_exporter": "python",
   "pygments_lexer": "ipython3",
   "version": "3.9.12"
  }
 },
 "nbformat": 4,
 "nbformat_minor": 5
}
