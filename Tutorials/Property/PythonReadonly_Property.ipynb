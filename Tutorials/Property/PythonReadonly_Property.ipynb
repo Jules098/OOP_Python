{
 "cells": [
  {
   "cell_type": "markdown",
   "id": "f73c23f9-71d9-4b21-ab80-b7dc968246e1",
   "metadata": {},
   "source": [
    "### Introduction to the Python Readonly Property"
   ]
  },
  {
   "cell_type": "code",
   "execution_count": 1,
   "id": "18087ead-0e1b-4e14-a2bb-58976086e3e3",
   "metadata": {},
   "outputs": [],
   "source": [
    "import math\n",
    "\n",
    "class Circle:\n",
    "    \n",
    "    def __init__(self, radius):\n",
    "        self.radius = radius\n",
    "        \n",
    "    def area(self):\n",
    "        return math.pi * self.radius ** 2"
   ]
  },
  {
   "cell_type": "code",
   "execution_count": 2,
   "id": "347946d6-b725-414a-ada4-2c832d8977f8",
   "metadata": {},
   "outputs": [
    {
     "name": "stdout",
     "output_type": "stream",
     "text": [
      "314.1592653589793\n"
     ]
    }
   ],
   "source": [
    "c = Circle(10)\n",
    "print(c.area())"
   ]
  },
  {
   "cell_type": "markdown",
   "id": "83c871e2-3807-407f-b8f8-77840033775e",
   "metadata": {},
   "source": [
    "This code works perfectly fine.\n",
    "\n",
    "But it would be more natural that the area is a property of the Circle object, not a method. To make the area() method as a property of the Circle class, you can use the @property decorator as follows:"
   ]
  },
  {
   "cell_type": "code",
   "execution_count": 4,
   "id": "e34b4f58-ea79-44d6-a69d-3b69834054b4",
   "metadata": {},
   "outputs": [
    {
     "name": "stdout",
     "output_type": "stream",
     "text": [
      "314.1592653589793\n"
     ]
    }
   ],
   "source": [
    "import math\n",
    "\n",
    "\n",
    "class Circle:\n",
    "    def __init__(self, radius):\n",
    "        self.radius = radius\n",
    "\n",
    "    @property\n",
    "    def area(self):\n",
    "        return math.pi * self.radius ** 2\n",
    "\n",
    "\n",
    "c = Circle(10)\n",
    "print(c.area)"
   ]
  },
  {
   "cell_type": "markdown",
   "id": "0f815b9c-f4f4-48d3-923f-ab873b8548e0",
   "metadata": {},
   "source": [
    "### Cache Calculated Properties"
   ]
  },
  {
   "cell_type": "markdown",
   "id": "8cbdc3b7-9d65-4b54-bdaf-7094e8a9aeeb",
   "metadata": {},
   "source": [
    "To make it more performant, you need to recalculate the area of the circle only when the radius changes. If the radius doesn’t change, you can reuse the previously calculated area.\n",
    "\n",
    "To do it, you can use the caching technique:\n",
    "\n",
    "- First, calculate the area and save it in a cache.\n",
    "- Second, if the radius changes, reset the area. Otherwise, return the area directly from the cache without recalcuation.\n",
    "\n",
    "The following defines the new Circle class with cached area property:"
   ]
  },
  {
   "cell_type": "code",
   "execution_count": 7,
   "id": "082f4b69-0826-42d3-a395-d00ca316e5fc",
   "metadata": {},
   "outputs": [],
   "source": [
    "import math\n",
    "\n",
    "class Circle:\n",
    "    \n",
    "    def __init__(self, radius):\n",
    "        self._radius = radius\n",
    "        self._area = None\n",
    "        \n",
    "    @property\n",
    "    def radius(self):\n",
    "        return self._radius\n",
    "    \n",
    "    @radius.setter\n",
    "    def radius(radius, value):\n",
    "        if value < 0:\n",
    "            raise ValueError('Radius must be positive')\n",
    "        \n",
    "        if value != self._radius:\n",
    "            self._radius = value\n",
    "            self._area = None\n",
    "            \n",
    "    @property\n",
    "    def area(self):\n",
    "        if self._area is None:\n",
    "            self._area = math.pi * self.radius ** 2\n",
    "        \n",
    "        return self._area"
   ]
  },
  {
   "cell_type": "markdown",
   "id": "24e2d707-091b-4839-9112-52f2190b51e4",
   "metadata": {},
   "source": [
    "First, set the _area to None in the __init__ method. The _area attribute is the cache that stores the calculated area.\n",
    "\n",
    "Second, if the radius changes (in the setter), reset the _area to None.\n",
    "\n",
    "Third, define the area computed property. The area property returns _area if it is not None. Otherwise, calculate the area, save it into the _area, and return it."
   ]
  },
  {
   "cell_type": "code",
   "execution_count": null,
   "id": "56b32c9f-a605-4e44-8e7a-2931737d0a7a",
   "metadata": {},
   "outputs": [],
   "source": []
  }
 ],
 "metadata": {
  "kernelspec": {
   "display_name": "Python 3 (ipykernel)",
   "language": "python",
   "name": "python3"
  },
  "language_info": {
   "codemirror_mode": {
    "name": "ipython",
    "version": 3
   },
   "file_extension": ".py",
   "mimetype": "text/x-python",
   "name": "python",
   "nbconvert_exporter": "python",
   "pygments_lexer": "ipython3",
   "version": "3.9.12"
  }
 },
 "nbformat": 4,
 "nbformat_minor": 5
}
