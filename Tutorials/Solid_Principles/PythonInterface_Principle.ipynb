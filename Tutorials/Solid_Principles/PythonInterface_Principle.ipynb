{
 "cells": [
  {
   "cell_type": "markdown",
   "id": "e7e10fcc-9c3a-4094-a1d4-868f7a631802",
   "metadata": {},
   "source": [
    "### Introduction to the Python Interface Segregation Principle"
   ]
  },
  {
   "cell_type": "markdown",
   "id": "b2708444-7d24-464f-a025-97431624b5f3",
   "metadata": {},
   "source": [
    "First, define a Vehicle abstract class that has two abstract methods, go() and fly():"
   ]
  },
  {
   "cell_type": "code",
   "execution_count": 1,
   "id": "ba398a12-1e38-4d11-a227-736d52b9b9d4",
   "metadata": {},
   "outputs": [],
   "source": [
    "from abc import ABC, abstractmethod\n",
    "\n",
    "class Vehicle:\n",
    "    \n",
    "    @abstractmethod\n",
    "    def go(self):\n",
    "        pass\n",
    "    \n",
    "    @abstractmethod\n",
    "    def fly(self):\n",
    "        pass"
   ]
  },
  {
   "cell_type": "markdown",
   "id": "5cd1b1ec-a61d-4203-86c6-f6fc35a54913",
   "metadata": {},
   "source": [
    "Second, define the Aircraft class that inherits from the Vehicle class and implement both go() and fly() methods:"
   ]
  },
  {
   "cell_type": "code",
   "execution_count": 2,
   "id": "997bd85a-c84e-49a5-8973-5715043aeb99",
   "metadata": {},
   "outputs": [],
   "source": [
    "class Aircraft(Vehicle):\n",
    "    \n",
    "    def go(self):\n",
    "        print('Taxiing')\n",
    "        \n",
    "    def fly(self):\n",
    "        print('Flying')"
   ]
  },
  {
   "cell_type": "markdown",
   "id": "de4ba795-2b11-4d3c-a56f-02c208a2af3c",
   "metadata": {},
   "source": [
    "Third, define the Car class that inherits from the Vehicle class. Since a car cannot fly, we raise an exception in the fly() method:"
   ]
  },
  {
   "cell_type": "code",
   "execution_count": 3,
   "id": "f0ea1b90-1e0f-4027-8ba5-48dd69907b48",
   "metadata": {},
   "outputs": [],
   "source": [
    "class Car(Vehicle):\n",
    "    \n",
    "    def go(self):\n",
    "        print('Going')\n",
    "        \n",
    "    def fly(self):\n",
    "        raise Exception('The car cannot fly')"
   ]
  },
  {
   "cell_type": "markdown",
   "id": "f103d1b3-e643-4128-9fc1-6c6f2207fad1",
   "metadata": {},
   "source": [
    "In this design the Car class must implement the fly() method from the Vehicle class that the Car class doesn’t use. Therefore, this design violates the interface segregation principle."
   ]
  },
  {
   "cell_type": "markdown",
   "id": "e0777227-0e91-4c35-9d7b-01449f95a1b3",
   "metadata": {},
   "source": [
    "First, split the Vehicle interface into two smaller interfaces: Movable and Flyable, and inherits the Movable class from the Flyable class:"
   ]
  },
  {
   "cell_type": "code",
   "execution_count": 5,
   "id": "df565bd6-6349-4f99-8bf5-60d07476fc13",
   "metadata": {},
   "outputs": [],
   "source": [
    "class Movable(ABC):\n",
    "    \n",
    "    @abstractmethod\n",
    "    def go(self):\n",
    "        pass\n",
    "    \n",
    "class Flyable(Movable):\n",
    "    \n",
    "    @abstractmethod\n",
    "    def fly(self):\n",
    "        pass"
   ]
  },
  {
   "cell_type": "markdown",
   "id": "a8358bba-e1de-46a6-952f-c6f94241558b",
   "metadata": {},
   "source": [
    "Second, inherits from the Flyable class from the Aircraft class:"
   ]
  },
  {
   "cell_type": "code",
   "execution_count": 6,
   "id": "2a455a33-d603-4069-b710-ce3774012bff",
   "metadata": {},
   "outputs": [],
   "source": [
    "class Aircraft(Flyable):\n",
    "    \n",
    "    def go(self):\n",
    "        print('Taxiing')\n",
    "    \n",
    "    def fly(self):\n",
    "        print('Flying')"
   ]
  },
  {
   "cell_type": "markdown",
   "id": "fa18a6b5-e90c-4209-98c8-c4111c1e1eed",
   "metadata": {},
   "source": [
    "Third, inherit the Movable class from the Car class:"
   ]
  },
  {
   "cell_type": "code",
   "execution_count": null,
   "id": "d5d2bb1a-de79-4c13-9bbb-95cddfb9a9b9",
   "metadata": {},
   "outputs": [],
   "source": [
    "class Car(Movable):\n",
    "    \n",
    "    def go(self):\n",
    "        print('"
   ]
  }
 ],
 "metadata": {
  "kernelspec": {
   "display_name": "Python 3 (ipykernel)",
   "language": "python",
   "name": "python3"
  },
  "language_info": {
   "codemirror_mode": {
    "name": "ipython",
    "version": 3
   },
   "file_extension": ".py",
   "mimetype": "text/x-python",
   "name": "python",
   "nbconvert_exporter": "python",
   "pygments_lexer": "ipython3",
   "version": "3.9.12"
  }
 },
 "nbformat": 4,
 "nbformat_minor": 5
}
