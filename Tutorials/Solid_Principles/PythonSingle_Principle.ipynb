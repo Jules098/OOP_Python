{
 "cells": [
  {
   "cell_type": "markdown",
   "id": "693eedcc-790e-4d0f-8fe1-3b2b60496849",
   "metadata": {},
   "source": [
    "### Introduction to Python Single Responsibility Principle"
   ]
  },
  {
   "cell_type": "markdown",
   "id": "7bce498d-ae71-4d41-9f82-79eba1d1f7b3",
   "metadata": {},
   "source": [
    "What is SOLID\n",
    "SOLID is an abbreviation that stands for five software design principles compiled by Uncle Bob:\n",
    "\n",
    "- S – Single responsibility Principle\n",
    "- O – Open-closed Principle\n",
    "- L – Liskov Substitution Principle\n",
    "- I – Interface Segregation Principle\n",
    "- D – Dependency Inversion Principle"
   ]
  },
  {
   "cell_type": "code",
   "execution_count": 1,
   "id": "716f2876-c512-400f-b7ed-74e8b977179c",
   "metadata": {},
   "outputs": [
    {
     "name": "stdout",
     "output_type": "stream",
     "text": [
      "Save the Person(name=John Doe) to the database.\n"
     ]
    }
   ],
   "source": [
    "class Person:\n",
    "    \n",
    "    def __init__(self, name):\n",
    "        self.name = name\n",
    "        \n",
    "    def __repr__(self):\n",
    "        return f\"Person(name={self.name})\"\n",
    "    \n",
    "    @classmethod\n",
    "    def save(cls, person):\n",
    "        print(f'Save the {person} to the database.')\n",
    "        \n",
    "if __name__ == '__main__':\n",
    "    p = Person('John Doe')\n",
    "    Person.save(p)"
   ]
  },
  {
   "cell_type": "markdown",
   "id": "18636591-d0c0-4d39-a026-6a8cdf41bea0",
   "metadata": {},
   "source": [
    "This Person class has two jobs:\n",
    "\n",
    "- Manage the person’s property.\n",
    "- Store the person in the database."
   ]
  },
  {
   "cell_type": "code",
   "execution_count": 2,
   "id": "7f1fa632-b7e1-4547-aa86-88aedc7be98a",
   "metadata": {},
   "outputs": [
    {
     "name": "stdout",
     "output_type": "stream",
     "text": [
      "Save the Person(name=John Doe) to the database.\n"
     ]
    }
   ],
   "source": [
    "class Person:\n",
    "    \n",
    "    def __init__(self, name):\n",
    "        self.name = name\n",
    "        \n",
    "    def __repr__(self):\n",
    "        return f'Person(name={self.name})'\n",
    "    \n",
    "class PersonDB:\n",
    "    \n",
    "    def save(self, person):\n",
    "        print(f'Save the {person} to the database.')\n",
    "    \n",
    "if __name__ == '__main__':\n",
    "    p = Person('John Doe')\n",
    "    \n",
    "    db = PersonDB()\n",
    "    db.save(p)"
   ]
  },
  {
   "cell_type": "code",
   "execution_count": 3,
   "id": "91d8353a-297a-44b8-be29-9494495b60dc",
   "metadata": {},
   "outputs": [
    {
     "name": "stdout",
     "output_type": "stream",
     "text": [
      "Save the Person(name=John Doe) to the database.\n"
     ]
    }
   ],
   "source": [
    "class PersonDB:\n",
    "    \n",
    "    def save(self, person):\n",
    "        print(f'Save the {person} to the database.')\n",
    "        \n",
    "class Person:\n",
    "    \n",
    "    def __init__(self, name):\n",
    "        self.name = name\n",
    "        self.db = PersonDB()\n",
    "        \n",
    "    def __repr__(self):\n",
    "        return f'Person(name={self.name})'\n",
    "    \n",
    "    def save(self):\n",
    "        self.db.save(person=self)\n",
    "        \n",
    "if __name__ == '__main__':\n",
    "    p = Person('John Doe')\n",
    "    p.save()"
   ]
  },
  {
   "cell_type": "markdown",
   "id": "adda0b35-1a23-431b-b835-1247e48e5999",
   "metadata": {},
   "source": [
    "### Summary\n",
    "- The single responsibility principle (SRP) states that every class, method, or function should have only one job or one reason to change.\n",
    "- Use the single responsibility principle to separate classes, methods, and functions with the same reason for changes."
   ]
  },
  {
   "cell_type": "code",
   "execution_count": null,
   "id": "b737c06a-e4ad-4388-abe0-83d75d080cfa",
   "metadata": {},
   "outputs": [],
   "source": []
  }
 ],
 "metadata": {
  "kernelspec": {
   "display_name": "Python 3 (ipykernel)",
   "language": "python",
   "name": "python3"
  },
  "language_info": {
   "codemirror_mode": {
    "name": "ipython",
    "version": 3
   },
   "file_extension": ".py",
   "mimetype": "text/x-python",
   "name": "python",
   "nbconvert_exporter": "python",
   "pygments_lexer": "ipython3",
   "version": "3.9.12"
  }
 },
 "nbformat": 4,
 "nbformat_minor": 5
}
