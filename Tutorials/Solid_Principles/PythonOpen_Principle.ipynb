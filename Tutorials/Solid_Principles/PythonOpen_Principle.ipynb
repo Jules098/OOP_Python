{
 "cells": [
  {
   "cell_type": "markdown",
   "id": "8604712b-3166-46b1-a7cc-d39fd41ddf65",
   "metadata": {},
   "source": [
    "### Introduction to the Open-Closed Principle"
   ]
  },
  {
   "cell_type": "markdown",
   "id": "dc0dbed8-141a-45a6-83a0-168b774a5147",
   "metadata": {},
   "source": [
    "The open-closed principle states that a class, method, and function should be open for extension but closed for modification."
   ]
  },
  {
   "cell_type": "code",
   "execution_count": 1,
   "id": "d8025930-ac4a-4308-972b-9473f10f16af",
   "metadata": {},
   "outputs": [
    {
     "name": "stdout",
     "output_type": "stream",
     "text": [
      "Save the Person(name=John Doe) to the database.\n"
     ]
    }
   ],
   "source": [
    "class Person:\n",
    "    \n",
    "    def __init__(self, name):\n",
    "        self.name = name\n",
    "        \n",
    "    def __repr__(self):\n",
    "        return f'Person(name={self.name})'\n",
    "    \n",
    "class PersonStorage:\n",
    "    \n",
    "    def save_to_database(self, person):\n",
    "        print(f'Save the {person} to the database.')\n",
    "        \n",
    "    def save_to_json(self, person):\n",
    "        print(f'Save the {person} to a JSON file.')\n",
    "        \n",
    "if __name__ == '__main__':\n",
    "    person = Person('John Doe')\n",
    "    storage = PersonStorage()\n",
    "    storage.save_to_database(person)"
   ]
  },
  {
   "cell_type": "markdown",
   "id": "d3f41666-e67b-47ed-bb96-8764aa9277f2",
   "metadata": {},
   "source": [
    "First, define the PersonStorage abstract class that contains the save() abstract method:"
   ]
  },
  {
   "cell_type": "markdown",
   "id": "451d0768-c388-4b8e-9e0a-d8c71aa2e323",
   "metadata": {},
   "source": [
    "from abc import ABC, abstractmethod\n",
    "\n",
    "class PersonStorage(ABC):\n",
    "    @abstractmethod\n",
    "    def save(self, person):\n",
    "        pass"
   ]
  },
  {
   "cell_type": "markdown",
   "id": "751f93c5-904a-4cc7-9c50-095777d3db23",
   "metadata": {},
   "source": [
    "Second, create two classes PersonDB and PersonJSON that save the Person object into the database and JSON file. These classes inherit from the PersonStorage class:"
   ]
  },
  {
   "cell_type": "code",
   "execution_count": 4,
   "id": "102913b6-ebe1-4ebf-a1a2-c8f463050b1d",
   "metadata": {},
   "outputs": [],
   "source": [
    "class PersonDB(PersonStorage):\n",
    "    \n",
    "    def save(self, person):\n",
    "        print(f'Save the {person} to the database.')\n",
    "        \n",
    "class PersonJSON(PersonStorage):\n",
    "    \n",
    "    def save(self, person):\n",
    "        print(f'Save the {person} to a JSON file.')"
   ]
  },
  {
   "cell_type": "markdown",
   "id": "1a2a3dad-d457-4850-aa41-86de2b87a532",
   "metadata": {},
   "source": [
    "To save the Person object into an XML file, you can define a new class PersonXML that inherits from the PersonStorage class like this:"
   ]
  },
  {
   "cell_type": "code",
   "execution_count": 5,
   "id": "a749c596-2c7c-41dd-8352-fac089eba968",
   "metadata": {},
   "outputs": [],
   "source": [
    "class PersonXML(PersonStorage):\n",
    "    \n",
    "    def save(self, person):\n",
    "        print(f'Save the {person} to a XML file.')"
   ]
  },
  {
   "cell_type": "code",
   "execution_count": 6,
   "id": "f314b482-aefb-4549-af10-2ba40bc7efeb",
   "metadata": {},
   "outputs": [
    {
     "name": "stdout",
     "output_type": "stream",
     "text": [
      "Save the Person(name=John Doe) to a XML file.\n"
     ]
    }
   ],
   "source": [
    "if __name__ == '__main__':\n",
    "    person = Person('John Doe')\n",
    "    storage = PersonXML()\n",
    "    storage.save(person)"
   ]
  },
  {
   "cell_type": "code",
   "execution_count": 7,
   "id": "23ddb69e-6957-463f-b374-4b72ba45bd96",
   "metadata": {},
   "outputs": [
    {
     "name": "stdout",
     "output_type": "stream",
     "text": [
      "Save the Person(name=John Doe) to a XML file.\n"
     ]
    }
   ],
   "source": [
    "from abc import ABC, abstractmethod\n",
    "\n",
    "class Person:\n",
    "    \n",
    "    def __init__(self, name):\n",
    "        self.name = name\n",
    "        \n",
    "    def __repr__(self):\n",
    "        return f'Person(name={person.name})'\n",
    "    \n",
    "class PersonStorage(ABC):\n",
    "    \n",
    "    @abstractmethod\n",
    "    def save(self, person):\n",
    "        pass\n",
    "    \n",
    "class PersonDB(PersonStorage):\n",
    "    \n",
    "    def save(self, person):\n",
    "        print(f'Save the {person} to the database.')\n",
    "        \n",
    "class PersonJSON(PersonStorage):\n",
    "    \n",
    "    def save(self, person):\n",
    "        print(f'Save the {person} to a JSON file.')\n",
    "        \n",
    "class PersonXML(PersonStorage):\n",
    "    \n",
    "    def save(self, person):\n",
    "        print(f'Save the {person} to a XML file.')\n",
    "        \n",
    "if __name__ == '__main__':\n",
    "    person = Person('John Doe')\n",
    "    storage = PersonXML()\n",
    "    storage.save(person)"
   ]
  },
  {
   "cell_type": "markdown",
   "id": "d99d42d0-cf76-4b39-88c0-ab8502dc2beb",
   "metadata": {},
   "source": [
    "### Summary\n",
    "- The open-closed principle allows you to design the system so that it is open for extension but closed for modification."
   ]
  },
  {
   "cell_type": "code",
   "execution_count": null,
   "id": "933d4506-2404-49cc-8e14-1430d8868290",
   "metadata": {},
   "outputs": [],
   "source": []
  }
 ],
 "metadata": {
  "kernelspec": {
   "display_name": "Python 3 (ipykernel)",
   "language": "python",
   "name": "python3"
  },
  "language_info": {
   "codemirror_mode": {
    "name": "ipython",
    "version": 3
   },
   "file_extension": ".py",
   "mimetype": "text/x-python",
   "name": "python",
   "nbconvert_exporter": "python",
   "pygments_lexer": "ipython3",
   "version": "3.9.12"
  }
 },
 "nbformat": 4,
 "nbformat_minor": 5
}
