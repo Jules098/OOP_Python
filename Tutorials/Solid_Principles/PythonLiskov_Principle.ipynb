{
 "cells": [
  {
   "cell_type": "markdown",
   "id": "8c58a1a1-f0d5-435c-949f-97dffc34ce0b",
   "metadata": {},
   "source": [
    "### Introduction to the Python Liskov Substitution Principle"
   ]
  },
  {
   "cell_type": "markdown",
   "id": "641353c3-7839-4772-8b60-9582c64cd9fe",
   "metadata": {},
   "source": [
    "The Liskov substitution principle states that a child class must be substitutable for its parent class. Liskov substitution principle aims to ensure that the child class can assume the place of its parent class without causing any errors."
   ]
  },
  {
   "cell_type": "code",
   "execution_count": 3,
   "id": "0ff20496-b1cf-494e-a0fa-9f1dbd713c7f",
   "metadata": {},
   "outputs": [
    {
     "name": "stdout",
     "output_type": "stream",
     "text": [
      "Send Hello to john@test.com\n"
     ]
    }
   ],
   "source": [
    "from abc import ABC, abstractmethod\n",
    "\n",
    "\n",
    "class Notification(ABC):\n",
    "    \n",
    "    @abstractmethod\n",
    "    def notify(self, message, email):\n",
    "        pass\n",
    "\n",
    "\n",
    "class Email(Notification):\n",
    "    \n",
    "    def notify(self, message, email):\n",
    "        print(f'Send {message} to {email}')\n",
    "\n",
    "\n",
    "class SMS(Notification):\n",
    "    \n",
    "    def notify(self, message, phone):\n",
    "        print(f'Send {message} to {phone}')\n",
    "\n",
    "\n",
    "if __name__ == '__main__':\n",
    "    notification = SMS()\n",
    "    notification.notify('Hello', 'john@test.com')"
   ]
  },
  {
   "cell_type": "code",
   "execution_count": 5,
   "id": "0ad648e4-b5d5-458a-94c3-d2a042dcf145",
   "metadata": {},
   "outputs": [
    {
     "name": "stdout",
     "output_type": "stream",
     "text": [
      "Send Hello John to (408)-888-9999\n"
     ]
    }
   ],
   "source": [
    "class Contact:\n",
    "    \n",
    "    def __init__(self, name, email, phone):\n",
    "        self.name = name\n",
    "        self.email = email\n",
    "        self.phone = phone\n",
    "\n",
    "\n",
    "class NotificationManager:\n",
    "    \n",
    "    def __init__(self, notification, contact):\n",
    "        self.contact = contact\n",
    "        self.notification = notification\n",
    "\n",
    "    def send(self, message):\n",
    "        \n",
    "        if isinstance(self.notification, Email):\n",
    "            self.notification.notify(message, contact.email)\n",
    "        elif isinstance(self.notification, SMS):\n",
    "            self.notification.notify(message, contact.phone)\n",
    "        else:\n",
    "            raise Exception('The notification is not supported')\n",
    "\n",
    "\n",
    "if __name__ == '__main__':\n",
    "    contact = Contact('John Doe', 'john@test.com', '(408)-888-9999')\n",
    "    notification_manager = NotificationManager(SMS(), contact)\n",
    "    notification_manager.send('Hello John')"
   ]
  },
  {
   "cell_type": "markdown",
   "id": "43c40fb1-64b9-43bf-a6a6-64d6a11610d5",
   "metadata": {},
   "source": [
    "### Conform with the Liskov Substitution Principle"
   ]
  },
  {
   "cell_type": "markdown",
   "id": "1051ee0c-fe65-4b4f-9b25-a2e6c2799ccf",
   "metadata": {},
   "source": [
    "First, redefine the notify() method of the Notification class so that it doesn’t include the email parameter:"
   ]
  },
  {
   "cell_type": "code",
   "execution_count": 6,
   "id": "099fde39-6b97-4d85-b26e-28b906e9947a",
   "metadata": {},
   "outputs": [],
   "source": [
    "class Notification(ABC):\n",
    "    \n",
    "    @abstractmethod\n",
    "    def notify(self, message):\n",
    "        pass"
   ]
  },
  {
   "cell_type": "markdown",
   "id": "67b7010b-2143-41ac-bbcd-00506ed9011b",
   "metadata": {},
   "source": [
    "Second, add the email parameter to the __init__ method of the Email class:"
   ]
  },
  {
   "cell_type": "code",
   "execution_count": 7,
   "id": "31308631-b95a-492c-8a8b-0b3bd7e6a722",
   "metadata": {},
   "outputs": [],
   "source": [
    "class Email(Notification):\n",
    "    \n",
    "    def __init__(self, email):\n",
    "        self.email = email\n",
    "    \n",
    "    def notify(self, message):\n",
    "        print(f'Send \"{message}\" to {self.email}.')"
   ]
  },
  {
   "cell_type": "markdown",
   "id": "2f6cdfa9-7730-496f-8d2c-3b51cf8b7426",
   "metadata": {},
   "source": [
    "Third, add the phone parameter to the __init__ method of the SMS class:"
   ]
  },
  {
   "cell_type": "code",
   "execution_count": 8,
   "id": "a58fec38-3e02-4b18-b98e-f923b47fefa3",
   "metadata": {},
   "outputs": [],
   "source": [
    "class SMS(Notification):\n",
    "    \n",
    "    def __init__(self, phone):\n",
    "        self.phone = phone\n",
    "        \n",
    "    def notify(self, message):\n",
    "        print(f'Send \"{message}\" to {self.phone}.')"
   ]
  },
  {
   "cell_type": "markdown",
   "id": "1a57091f-792c-46e5-a2b3-7f5b37e9057d",
   "metadata": {},
   "source": [
    "Fourth, change the NotificationManager class:"
   ]
  },
  {
   "cell_type": "code",
   "execution_count": 9,
   "id": "1e850ec3-3681-49d1-a0f9-7f06892d27ae",
   "metadata": {},
   "outputs": [],
   "source": [
    "class NotificationManager:\n",
    "    \n",
    "    def __init__(self, notification):\n",
    "        self.notification = notification\n",
    "        \n",
    "    def send(self):\n",
    "        self.notification.notify(message)"
   ]
  },
  {
   "cell_type": "markdown",
   "id": "8b5e8ce9-0aaa-40c9-8bf2-64a59697047a",
   "metadata": {},
   "source": [
    "Put it all together:"
   ]
  },
  {
   "cell_type": "code",
   "execution_count": 10,
   "id": "1c71f29a-0b3d-4dd4-8fcf-128324fd2140",
   "metadata": {},
   "outputs": [
    {
     "name": "stdout",
     "output_type": "stream",
     "text": [
      "Send \"Hello John\" to (408)-888-9999\n",
      "Send \"Hi John\" to john@test.com\n"
     ]
    }
   ],
   "source": [
    "from abc import ABC, abstractmethod\n",
    "\n",
    "\n",
    "class Notification(ABC):\n",
    "    \n",
    "    @abstractmethod\n",
    "    def notify(self, message):\n",
    "        pass\n",
    "\n",
    "\n",
    "class Email(Notification):\n",
    "    \n",
    "    def __init__(self, email):\n",
    "        self.email = email\n",
    "\n",
    "    def notify(self, message):\n",
    "        print(f'Send \"{message}\" to {self.email}')\n",
    "\n",
    "\n",
    "class SMS(Notification):\n",
    "    def __init__(self, phone):\n",
    "        self.phone = phone\n",
    "\n",
    "    def notify(self, message):\n",
    "        print(f'Send \"{message}\" to {self.phone}')\n",
    "\n",
    "\n",
    "class Contact:\n",
    "    def __init__(self, name, email, phone):\n",
    "        self.name = name\n",
    "        self.email = email\n",
    "        self.phone = phone\n",
    "\n",
    "\n",
    "class NotificationManager:\n",
    "    def __init__(self, notification):\n",
    "        self.notification = notification\n",
    "\n",
    "    def send(self, message):\n",
    "        self.notification.notify(message)\n",
    "\n",
    "\n",
    "if __name__ == '__main__':\n",
    "    contact = Contact('John Doe', 'john@test.com', '(408)-888-9999')\n",
    "\n",
    "    sms_notification = SMS(contact.phone)\n",
    "    email_notification = Email(contact.email)\n",
    "\n",
    "    notification_manager = NotificationManager(sms_notification)\n",
    "    notification_manager.send('Hello John')\n",
    "\n",
    "    notification_manager.notification = email_notification\n",
    "    notification_manager.send('Hi John')"
   ]
  },
  {
   "cell_type": "markdown",
   "id": "bf24aed4-67b7-4773-a0f0-53d5553b404f",
   "metadata": {},
   "source": [
    "### Summary\n",
    "- The Liskov substitution principle states that a child class must be substitutable for its parent class."
   ]
  },
  {
   "cell_type": "code",
   "execution_count": null,
   "id": "56aa22e9-8f06-47d1-b483-7bf7cc5145f6",
   "metadata": {},
   "outputs": [],
   "source": []
  }
 ],
 "metadata": {
  "kernelspec": {
   "display_name": "Python 3 (ipykernel)",
   "language": "python",
   "name": "python3"
  },
  "language_info": {
   "codemirror_mode": {
    "name": "ipython",
    "version": 3
   },
   "file_extension": ".py",
   "mimetype": "text/x-python",
   "name": "python",
   "nbconvert_exporter": "python",
   "pygments_lexer": "ipython3",
   "version": "3.9.12"
  }
 },
 "nbformat": 4,
 "nbformat_minor": 5
}
