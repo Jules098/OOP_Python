{
 "cells": [
  {
   "cell_type": "markdown",
   "id": "565fef5d-a042-46b7-9741-3fb563e14ca9",
   "metadata": {},
   "source": [
    "### Introduction to Python Dependency Inversion Principle"
   ]
  },
  {
   "cell_type": "markdown",
   "id": "33641683-47fb-4c2c-8867-7d798c13e97d",
   "metadata": {},
   "source": [
    "The dependency inversion principle states that:\n",
    "\n",
    "- High-level modules should not depend on low-level modules. Both should depend on abstractions.\n",
    "- Abstractions should not depend on details. Details should depend on abstractions."
   ]
  },
  {
   "cell_type": "code",
   "execution_count": 2,
   "id": "d8fa6e1a-50ea-4b4c-9439-54ce0a2ee23d",
   "metadata": {},
   "outputs": [
    {
     "name": "stdout",
     "output_type": "stream",
     "text": [
      "100 Euro = 120.0 USD\n"
     ]
    }
   ],
   "source": [
    "class FXConverter:\n",
    "    \n",
    "    def convert(self, from_currency, to_currency, amount):\n",
    "        print(f'{amount} {from_currency} = {amount * 1.2} {to_currency}')\n",
    "        return amount * 1.2\n",
    "    \n",
    "class App:\n",
    "    \n",
    "    def start(self):\n",
    "        converter = FXConverter()\n",
    "        converter.convert('Euro', 'USD', 100)\n",
    "\n",
    "if __name__ == '__main__':\n",
    "    app = App()\n",
    "    app.start()"
   ]
  },
  {
   "cell_type": "markdown",
   "id": "269d9d5a-1339-49db-8d49-124ee7313199",
   "metadata": {},
   "source": [
    "First, define an abstract class CurrencyConverter that acts as an interface. The CurrencyConverter class has the convert() method that all of its subclasses must implement:"
   ]
  },
  {
   "cell_type": "code",
   "execution_count": 11,
   "id": "950d390b-979d-4bd2-a1aa-102336a63b5c",
   "metadata": {},
   "outputs": [],
   "source": [
    "from abc import ABC\n",
    "\n",
    "class CurrencyConverter(ABC):\n",
    "    \n",
    "    def convert(self, from_currency, to_currency, amount) -> float:\n",
    "        pass"
   ]
  },
  {
   "cell_type": "markdown",
   "id": "7804ffe2-b57d-4e4c-9bce-f49adf9996a7",
   "metadata": {},
   "source": [
    "Second, redefine the FXConverter class so that it inherits from the CurrencyConverter class and implement the convert() method:"
   ]
  },
  {
   "cell_type": "code",
   "execution_count": 12,
   "id": "0dd35744-79c0-4db7-b785-98d21cdda20f",
   "metadata": {},
   "outputs": [],
   "source": [
    "class FXConverter(CurrencyConverter):\n",
    "    \n",
    "    def convert(self, from_currency, to_currency, amount) -> float:\n",
    "        print('Converting currency using FX API')\n",
    "        print(f'{amount} {from_currency} = {amount * 1.2} {to_currency}')\n",
    "        return amount * 1.2"
   ]
  },
  {
   "cell_type": "markdown",
   "id": "d6f5ff95-7ea6-4137-b1b2-1c710675c6ad",
   "metadata": {},
   "source": [
    "Third, add the __init__ method to the App class and initialize the CurrencyConverter‘s object:"
   ]
  },
  {
   "cell_type": "code",
   "execution_count": 13,
   "id": "9223693d-ebde-476d-96a6-32917e1322c4",
   "metadata": {},
   "outputs": [],
   "source": [
    "class App:\n",
    "    \n",
    "    def __init__(self, converter: CurrencyConverter):\n",
    "        self.converter = converter\n",
    "        \n",
    "    def start(self):\n",
    "        self.converter.convert('Euro', 'USD', 100)"
   ]
  },
  {
   "cell_type": "code",
   "execution_count": 6,
   "id": "2bb6d19a-9686-4e6d-ba5e-21f26bddf6d8",
   "metadata": {},
   "outputs": [
    {
     "name": "stdout",
     "output_type": "stream",
     "text": [
      "Converting currency using FX API\n",
      "100 Euro = 120.0 USD\n"
     ]
    }
   ],
   "source": [
    "if __name__ == '__main__':\n",
    "    converter = FXConverter()\n",
    "    app = App(converter)\n",
    "    app.start()"
   ]
  },
  {
   "cell_type": "code",
   "execution_count": 16,
   "id": "f5a0144a-8bcc-4799-b334-6b7fc235f3d6",
   "metadata": {},
   "outputs": [],
   "source": [
    "class AlphaConverter(CurrencyConverter):\n",
    "    \n",
    "    def convert(self, from_currency, to_currency, amount) -> float:\n",
    "        print('Converting currency using Alpha API')\n",
    "        print(f'{amount} {from_currency} = {amount * 1.2} {to_currency}')\n",
    "        return amount * 1.15"
   ]
  },
  {
   "cell_type": "markdown",
   "id": "fc2669da-142d-4197-b174-b758019ee894",
   "metadata": {},
   "source": [
    "Since the AlphaConvert class inherits from the CurrencyConverter class, you can use its object in the App class without changing the App class:"
   ]
  },
  {
   "cell_type": "code",
   "execution_count": 17,
   "id": "ea9a1d04-cd89-4f7b-9f5a-d3bfb9109bb0",
   "metadata": {},
   "outputs": [
    {
     "name": "stdout",
     "output_type": "stream",
     "text": [
      "Converting currency using Alpha API\n",
      "100 Euro = 120.0 USD\n"
     ]
    }
   ],
   "source": [
    "if __name__ == '__main__':\n",
    "    converter = AlphaConverter()\n",
    "    app = App(converter)\n",
    "    app.start()"
   ]
  },
  {
   "cell_type": "code",
   "execution_count": 18,
   "id": "65a5081a-0104-4e7c-aea4-7039ca7bac0f",
   "metadata": {},
   "outputs": [
    {
     "name": "stdout",
     "output_type": "stream",
     "text": [
      "Converting currency using Alpha API\n",
      "100 EUR = 120.0 USD\n"
     ]
    }
   ],
   "source": [
    "from abc import ABC\n",
    "\n",
    "\n",
    "class CurrencyConverter(ABC):\n",
    "    def convert(self, from_currency, to_currency, amount) -> float:\n",
    "        pass\n",
    "\n",
    "\n",
    "class FXConverter(CurrencyConverter):\n",
    "    def convert(self, from_currency, to_currency, amount) -> float:\n",
    "        print('Converting currency using FX API')\n",
    "        print(f'{amount} {from_currency} = {amount * 1.2} {to_currency}')\n",
    "        return amount * 1.15\n",
    "\n",
    "\n",
    "class AlphaConverter(CurrencyConverter):\n",
    "    def convert(self, from_currency, to_currency, amount) -> float:\n",
    "        print('Converting currency using Alpha API')\n",
    "        print(f'{amount} {from_currency} = {amount * 1.2} {to_currency}')\n",
    "        return amount * 1.2\n",
    "\n",
    "\n",
    "class App:\n",
    "    def __init__(self, converter: CurrencyConverter):\n",
    "        self.converter = converter\n",
    "\n",
    "    def start(self):\n",
    "        self.converter.convert('EUR', 'USD', 100)\n",
    "\n",
    "\n",
    "if __name__ == '__main__':\n",
    "    converter = AlphaConverter()\n",
    "    app = App(converter)\n",
    "    app.start()"
   ]
  },
  {
   "cell_type": "markdown",
   "id": "62a5ab51-18bf-4b77-81a8-a300729341fd",
   "metadata": {},
   "source": [
    "### Summary\n",
    "- Use the dependency inversion principle to make your code more robust by making the high-level module dependent on the abstraction, not the concrete implementation."
   ]
  },
  {
   "cell_type": "code",
   "execution_count": null,
   "id": "4d1f33be-03e3-478e-b103-22f640462c0c",
   "metadata": {},
   "outputs": [],
   "source": []
  }
 ],
 "metadata": {
  "kernelspec": {
   "display_name": "Python 3 (ipykernel)",
   "language": "python",
   "name": "python3"
  },
  "language_info": {
   "codemirror_mode": {
    "name": "ipython",
    "version": 3
   },
   "file_extension": ".py",
   "mimetype": "text/x-python",
   "name": "python",
   "nbconvert_exporter": "python",
   "pygments_lexer": "ipython3",
   "version": "3.9.12"
  }
 },
 "nbformat": 4,
 "nbformat_minor": 5
}
