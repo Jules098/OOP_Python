{
 "cells": [
  {
   "cell_type": "markdown",
   "id": "8b419636-4505-4024-98a5-0040eeebe507",
   "metadata": {},
   "source": [
    "### Introduction to the Python __del__ Method"
   ]
  },
  {
   "cell_type": "code",
   "execution_count": 1,
   "id": "4432ceb3-ab49-4b37-9453-14596bf89472",
   "metadata": {},
   "outputs": [
    {
     "name": "stdout",
     "output_type": "stream",
     "text": [
      "__del__ was called...\n"
     ]
    }
   ],
   "source": [
    "class Person:\n",
    "    \n",
    "    def __init__(self, name, age):\n",
    "        self.name = name\n",
    "        self.age = age\n",
    "        \n",
    "    def __del__(self):\n",
    "        print('__del__ was called...')\n",
    "        \n",
    "if __name__ == '__main__':\n",
    "    person = Person('John Doe', 23)\n",
    "    person = None"
   ]
  },
  {
   "cell_type": "code",
   "execution_count": 2,
   "id": "f2a8e409-c5ca-4603-b031-8ad90a4a4219",
   "metadata": {},
   "outputs": [
    {
     "name": "stdout",
     "output_type": "stream",
     "text": [
      "__del__ was called...\n"
     ]
    }
   ],
   "source": [
    "person = Person('John Doe', 23)\n",
    "del person"
   ]
  },
  {
   "cell_type": "markdown",
   "id": "23f54571-6ba6-40e7-9e5b-68ebd1adf283",
   "metadata": {},
   "source": [
    "### Summary\n",
    "- Python calls the __del__ method right before the garbage collector destroys the object.\n",
    "- The garbage collector destroys an object when there is no reference to the object.\n",
    "- Exception occurs inside the __del__ method is not raised but silent.\n",
    "- Avoid using __del__ for clean up resources; use the context manager instead."
   ]
  },
  {
   "cell_type": "code",
   "execution_count": null,
   "id": "7d5123fb-aaeb-4fc8-aa77-ba2ca76f803b",
   "metadata": {},
   "outputs": [],
   "source": []
  }
 ],
 "metadata": {
  "kernelspec": {
   "display_name": "Python 3 (ipykernel)",
   "language": "python",
   "name": "python3"
  },
  "language_info": {
   "codemirror_mode": {
    "name": "ipython",
    "version": 3
   },
   "file_extension": ".py",
   "mimetype": "text/x-python",
   "name": "python",
   "nbconvert_exporter": "python",
   "pygments_lexer": "ipython3",
   "version": "3.9.12"
  }
 },
 "nbformat": 4,
 "nbformat_minor": 5
}
