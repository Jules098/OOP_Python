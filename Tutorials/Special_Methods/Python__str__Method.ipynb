{
 "cells": [
  {
   "cell_type": "markdown",
   "id": "10553f8f-e165-42b9-b4b1-b375507bec3c",
   "metadata": {},
   "source": [
    "### Introduction to the __str__ Method"
   ]
  },
  {
   "cell_type": "code",
   "execution_count": 1,
   "id": "e6b4fc3a-9486-4034-88ca-8030d4b834f5",
   "metadata": {},
   "outputs": [],
   "source": [
    "class Person:\n",
    "    def __init__(self, first_name, last_name, age):\n",
    "        self.first_name = first_name\n",
    "        self.last_name = last_name\n",
    "        self.age = age"
   ]
  },
  {
   "cell_type": "code",
   "execution_count": 2,
   "id": "7e550252-5426-48c6-a2af-44cd7139951d",
   "metadata": {},
   "outputs": [
    {
     "name": "stdout",
     "output_type": "stream",
     "text": [
      "<__main__.Person object at 0x7ff862b56e50>\n"
     ]
    }
   ],
   "source": [
    "person = Person('John', 'Doe', 25)\n",
    "print(person)"
   ]
  },
  {
   "cell_type": "code",
   "execution_count": 3,
   "id": "468d4878-48ff-4824-ad07-309a511937ec",
   "metadata": {},
   "outputs": [],
   "source": [
    "class Person:\n",
    "    def __init__(self, first_name, last_name, age):\n",
    "        self.first_name = first_name\n",
    "        self.last_name = last_name\n",
    "        self.age = age\n",
    "        \n",
    "    def __str__(self):\n",
    "        return f'Person({self.first_name}, {self.last_name}, {self.age})'"
   ]
  },
  {
   "cell_type": "code",
   "execution_count": 4,
   "id": "31c43c2c-71d6-4c5d-837c-fa637dff8b75",
   "metadata": {},
   "outputs": [
    {
     "name": "stdout",
     "output_type": "stream",
     "text": [
      "Person(John, Doe, 25)\n"
     ]
    }
   ],
   "source": [
    "person = Person('John', 'Doe', 25)\n",
    "print(person)"
   ]
  },
  {
   "cell_type": "markdown",
   "id": "5829702c-3a1f-46b1-ac94-3236658ef3e1",
   "metadata": {},
   "source": [
    "### Summary\n",
    "- Implement the __str__ method to customize the string representation of an instance of a class."
   ]
  },
  {
   "cell_type": "code",
   "execution_count": null,
   "id": "b4f94130-b33e-4036-b043-da52369cc4cd",
   "metadata": {},
   "outputs": [],
   "source": []
  }
 ],
 "metadata": {
  "kernelspec": {
   "display_name": "Python 3 (ipykernel)",
   "language": "python",
   "name": "python3"
  },
  "language_info": {
   "codemirror_mode": {
    "name": "ipython",
    "version": 3
   },
   "file_extension": ".py",
   "mimetype": "text/x-python",
   "name": "python",
   "nbconvert_exporter": "python",
   "pygments_lexer": "ipython3",
   "version": "3.9.12"
  }
 },
 "nbformat": 4,
 "nbformat_minor": 5
}
