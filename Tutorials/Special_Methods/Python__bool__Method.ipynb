{
 "cells": [
  {
   "cell_type": "markdown",
   "id": "e375eadc-4d66-4530-ba67-2fc728f9cf89",
   "metadata": {},
   "source": [
    "### Introduction to Python __bool__ method"
   ]
  },
  {
   "cell_type": "code",
   "execution_count": 2,
   "id": "fb960b8b-9718-4ba6-b132-8ff4eaea897b",
   "metadata": {},
   "outputs": [],
   "source": [
    "class Person:\n",
    "    \n",
    "    def __init__(self, name, age):\n",
    "        self.name = name\n",
    "        self.age = age\n",
    "        \n",
    "if __name__ == '__main__':\n",
    "    person = Person('John', 25)"
   ]
  },
  {
   "cell_type": "code",
   "execution_count": 5,
   "id": "151ff5c9-2289-45da-9989-ced4d4000b2d",
   "metadata": {},
   "outputs": [
    {
     "name": "stdout",
     "output_type": "stream",
     "text": [
      "False\n"
     ]
    }
   ],
   "source": [
    "class Person:\n",
    "    \n",
    "    def __init__(self, name, age):\n",
    "        self.name = name\n",
    "        self.age = age\n",
    "        \n",
    "    def __bool__(self):\n",
    "        if self.age < 18 or self.age > 65:\n",
    "            return False\n",
    "        return True\n",
    "    \n",
    "if __name__ == '__main__':\n",
    "    person = Person('Jane', 16)\n",
    "    print(bool(person))"
   ]
  },
  {
   "cell_type": "markdown",
   "id": "2f6b5d87-f25b-4962-9649-c017a1beb6e2",
   "metadata": {},
   "source": [
    "### The __len__ method"
   ]
  },
  {
   "cell_type": "code",
   "execution_count": 6,
   "id": "283232dd-a116-4261-b806-2a58a91ba602",
   "metadata": {},
   "outputs": [
    {
     "name": "stdout",
     "output_type": "stream",
     "text": [
      "__len__ was called...\n",
      "False\n",
      "__len__ was called...\n",
      "True\n"
     ]
    }
   ],
   "source": [
    "class Payroll:\n",
    "    \n",
    "    def __init__(self, length):\n",
    "        self.length = length\n",
    "        \n",
    "    def __len__(self):\n",
    "        print('__len__ was called...')\n",
    "        return self.length\n",
    "    \n",
    "if __name__ == '__main__':\n",
    "    payroll = Payroll(0)\n",
    "    print(bool(payroll))\n",
    "    \n",
    "    payroll.length = 10\n",
    "    print(bool(payroll))"
   ]
  },
  {
   "cell_type": "markdown",
   "id": "ca393661-e12e-46de-a937-05609b636b8e",
   "metadata": {},
   "source": [
    "### Summary\n",
    "- All objects of custom classes return True by default.\n",
    "Implement the __bool__ method to override the default. The __bool__ method must return either True or False.\n",
    "If a class doesn’t implement the __bool__ method, Python will use the result of the __len__ method. If the class doesn’t implement both methods, the objects will be True by default."
   ]
  }
 ],
 "metadata": {
  "kernelspec": {
   "display_name": "Python 3 (ipykernel)",
   "language": "python",
   "name": "python3"
  },
  "language_info": {
   "codemirror_mode": {
    "name": "ipython",
    "version": 3
   },
   "file_extension": ".py",
   "mimetype": "text/x-python",
   "name": "python",
   "nbconvert_exporter": "python",
   "pygments_lexer": "ipython3",
   "version": "3.9.12"
  }
 },
 "nbformat": 4,
 "nbformat_minor": 5
}
