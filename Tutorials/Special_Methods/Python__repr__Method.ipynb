{
 "cells": [
  {
   "cell_type": "markdown",
   "id": "41a7dcf0-e5c9-49f4-9541-e36d8fbda738",
   "metadata": {},
   "source": [
    "### Introduction to Python __repr__ magic method"
   ]
  },
  {
   "cell_type": "markdown",
   "id": "9791960a-c6d3-437e-a6bd-92a6061717a3",
   "metadata": {},
   "source": [
    "First, define the Person class with three instance attributes first_name, last_name, and age:"
   ]
  },
  {
   "cell_type": "code",
   "execution_count": 1,
   "id": "bc1a0289-8f38-4d04-a0a7-05509f676de5",
   "metadata": {},
   "outputs": [],
   "source": [
    "class Person:\n",
    "    \n",
    "    def __init__(self, first_name, last_name, age):\n",
    "        self.first_name = first_name\n",
    "        self.last_name = last_name\n",
    "        self.age = age"
   ]
  },
  {
   "cell_type": "markdown",
   "id": "c5e6f569-9b6e-48c8-89ee-21be91122386",
   "metadata": {},
   "source": [
    "Second, create a new instance of the Person class and display its string representation:"
   ]
  },
  {
   "cell_type": "code",
   "execution_count": 3,
   "id": "56bbdc93-e648-411b-a567-472a958d9946",
   "metadata": {},
   "outputs": [
    {
     "name": "stdout",
     "output_type": "stream",
     "text": [
      "<__main__.Person object at 0x7f9373b5ad90>\n"
     ]
    }
   ],
   "source": [
    "person = Person('John', 'Doe', 25)\n",
    "print(repr(person))"
   ]
  },
  {
   "cell_type": "code",
   "execution_count": 4,
   "id": "21ab81b9-36cf-4db4-af37-33ab71ecafae",
   "metadata": {},
   "outputs": [],
   "source": [
    "class Person:\n",
    "    \n",
    "    def __init__(self, first_name, last_name, age):\n",
    "        self.first_name = first_name\n",
    "        self.last_name = last_name\n",
    "        self.age = age\n",
    "        \n",
    "    def __repr__(self):\n",
    "        return f'Person(\"{self.first_name}\", \"{self.last_name}\", {self.age})'"
   ]
  },
  {
   "cell_type": "code",
   "execution_count": 5,
   "id": "26db26e2-e584-4735-8745-86d6d203a0a3",
   "metadata": {},
   "outputs": [
    {
     "name": "stdout",
     "output_type": "stream",
     "text": [
      "Person(\"John\", \"Doe\", 25)\n"
     ]
    }
   ],
   "source": [
    "person = Person(\"John\", \"Doe\", 25)\n",
    "print(repr(person))"
   ]
  },
  {
   "cell_type": "code",
   "execution_count": 6,
   "id": "0094cd17-fbfb-49f2-8076-adf278981a4f",
   "metadata": {},
   "outputs": [
    {
     "name": "stdout",
     "output_type": "stream",
     "text": [
      "Person(\"John\", \"Doe\", 25)\n"
     ]
    }
   ],
   "source": [
    "person = Person('John', 'Doe', 25)\n",
    "print(person)"
   ]
  },
  {
   "cell_type": "code",
   "execution_count": 8,
   "id": "3c1f9338-2af9-4954-9ff0-7cbb6a557f5f",
   "metadata": {},
   "outputs": [
    {
     "name": "stdout",
     "output_type": "stream",
     "text": [
      "(John, Doe, 25)\n",
      "Person(\"John\", \"Doe\", 25)\n"
     ]
    }
   ],
   "source": [
    "class Person:\n",
    "    \n",
    "    def __init__(self, first_name, last_name, age):\n",
    "        self.first_name = first_name\n",
    "        self.last_name = last_name\n",
    "        self.age = age\n",
    "        \n",
    "    def __repr__(self):\n",
    "        return f'Person(\"{self.first_name}\", \"{self.last_name}\", {self.age})'\n",
    "    \n",
    "    def __str__(self):\n",
    "        return f'({self.first_name}, {self.last_name}, {self.age})'\n",
    "    \n",
    "person = Person('John', 'Doe', 25)\n",
    "\n",
    "print(person)\n",
    "\n",
    "print(repr(person))"
   ]
  },
  {
   "cell_type": "markdown",
   "id": "0b8ecedf-77af-458b-95b0-c2427b66ef46",
   "metadata": {},
   "source": [
    "### Summary\n",
    "- Implement the __repr__ method to customize the string representation of an object when repr() is called on it.\n",
    "- The __str__ calls __repr__ internally by default."
   ]
  },
  {
   "cell_type": "code",
   "execution_count": null,
   "id": "e31b584c-8885-4e8f-8c2e-1d251c53f671",
   "metadata": {},
   "outputs": [],
   "source": []
  }
 ],
 "metadata": {
  "kernelspec": {
   "display_name": "Python 3 (ipykernel)",
   "language": "python",
   "name": "python3"
  },
  "language_info": {
   "codemirror_mode": {
    "name": "ipython",
    "version": 3
   },
   "file_extension": ".py",
   "mimetype": "text/x-python",
   "name": "python",
   "nbconvert_exporter": "python",
   "pygments_lexer": "ipython3",
   "version": "3.9.12"
  }
 },
 "nbformat": 4,
 "nbformat_minor": 5
}
