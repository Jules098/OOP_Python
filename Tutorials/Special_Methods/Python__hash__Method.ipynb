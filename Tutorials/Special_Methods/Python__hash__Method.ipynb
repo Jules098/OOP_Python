{
 "cells": [
  {
   "cell_type": "markdown",
   "id": "d62817bb-9413-43f8-928f-e649d99e26fa",
   "metadata": {},
   "source": [
    "Introduction to Python __hash__ Function"
   ]
  },
  {
   "cell_type": "markdown",
   "id": "5d303e75-5f92-41ea-98a3-6c353be183ea",
   "metadata": {},
   "source": [
    "First, define the Person class with the name and age attributes:"
   ]
  },
  {
   "cell_type": "code",
   "execution_count": 1,
   "id": "6b8e3d45-57f5-4e84-b09a-0ec1d3fbde1d",
   "metadata": {},
   "outputs": [],
   "source": [
    "class Person:\n",
    "    \n",
    "    def __init__(self, name, age):\n",
    "        self.name = name\n",
    "        self.age = age"
   ]
  },
  {
   "cell_type": "markdown",
   "id": "5dd4e662-bce0-4ab5-9438-f6b907547eb3",
   "metadata": {},
   "source": [
    "Second, create two instances of the Person class:"
   ]
  },
  {
   "cell_type": "code",
   "execution_count": 2,
   "id": "1ca6b260-4610-4b24-a4c2-5b3e9a4c543f",
   "metadata": {},
   "outputs": [],
   "source": [
    "p1 = Person('John', 22)\n",
    "p2 = Person('Jane', 22)"
   ]
  },
  {
   "cell_type": "markdown",
   "id": "3ea83a53-fc8e-4199-b902-124b3d3fa984",
   "metadata": {},
   "source": [
    "Third, show the hashes of the p1 and p2 objects:"
   ]
  },
  {
   "cell_type": "code",
   "execution_count": 3,
   "id": "8ed259aa-691d-40b2-8341-ccf2b376b057",
   "metadata": {},
   "outputs": [
    {
     "name": "stdout",
     "output_type": "stream",
     "text": [
      "8793870266796\n",
      "8793870266802\n"
     ]
    }
   ],
   "source": [
    "print(hash(p1))\n",
    "print(hash(p2))"
   ]
  },
  {
   "cell_type": "code",
   "execution_count": 4,
   "id": "c0b992fe-46dc-4e42-8156-4271c890139d",
   "metadata": {},
   "outputs": [
    {
     "data": {
      "text/plain": [
       "8793870266796"
      ]
     },
     "execution_count": 4,
     "metadata": {},
     "output_type": "execute_result"
    }
   ],
   "source": [
    "hash(p1)"
   ]
  },
  {
   "cell_type": "code",
   "execution_count": 5,
   "id": "b18a087d-cedf-4e74-9777-8ad65a9df2ca",
   "metadata": {},
   "outputs": [
    {
     "data": {
      "text/plain": [
       "8793870266796"
      ]
     },
     "execution_count": 5,
     "metadata": {},
     "output_type": "execute_result"
    }
   ],
   "source": [
    "p1.__hash__()"
   ]
  },
  {
   "cell_type": "code",
   "execution_count": 6,
   "id": "ed5334dd-d840-4927-b997-d8991219b311",
   "metadata": {},
   "outputs": [],
   "source": [
    "class Person:\n",
    "    \n",
    "    def __init__(self, name, age):\n",
    "        self.name = name\n",
    "        self.age = age\n",
    "        \n",
    "    def __eq__(self, other):\n",
    "        return isinstance(other, Person) and self.age == other.age"
   ]
  },
  {
   "cell_type": "code",
   "execution_count": 7,
   "id": "97743b79-1af2-4cec-971b-da4c6e4461a5",
   "metadata": {},
   "outputs": [
    {
     "ename": "TypeError",
     "evalue": "unhashable type: 'Person'",
     "output_type": "error",
     "traceback": [
      "\u001b[0;31m---------------------------------------------------------------------------\u001b[0m",
      "\u001b[0;31mTypeError\u001b[0m                                 Traceback (most recent call last)",
      "Input \u001b[0;32mIn [7]\u001b[0m, in \u001b[0;36m<cell line: 2>\u001b[0;34m()\u001b[0m\n\u001b[0;32m----> 1\u001b[0m members \u001b[38;5;241m=\u001b[39m {\n\u001b[1;32m      2\u001b[0m     Person(\u001b[38;5;124m'\u001b[39m\u001b[38;5;124mJohn\u001b[39m\u001b[38;5;124m'\u001b[39m, \u001b[38;5;241m22\u001b[39m),\n\u001b[1;32m      3\u001b[0m     Person(\u001b[38;5;124m'\u001b[39m\u001b[38;5;124mJane\u001b[39m\u001b[38;5;124m'\u001b[39m, \u001b[38;5;241m22\u001b[39m)\n\u001b[1;32m      4\u001b[0m }\n",
      "\u001b[0;31mTypeError\u001b[0m: unhashable type: 'Person'"
     ]
    }
   ],
   "source": [
    "members = {\n",
    "    Person('John', 22),\n",
    "    Person('Jane', 22)\n",
    "}"
   ]
  },
  {
   "cell_type": "code",
   "execution_count": 8,
   "id": "bafca64e-4328-45e8-9289-3e538d6ee9ae",
   "metadata": {},
   "outputs": [
    {
     "ename": "TypeError",
     "evalue": "unhashable type: 'Person'",
     "output_type": "error",
     "traceback": [
      "\u001b[0;31m---------------------------------------------------------------------------\u001b[0m",
      "\u001b[0;31mTypeError\u001b[0m                                 Traceback (most recent call last)",
      "Input \u001b[0;32mIn [8]\u001b[0m, in \u001b[0;36m<cell line: 1>\u001b[0;34m()\u001b[0m\n\u001b[0;32m----> 1\u001b[0m \u001b[38;5;28;43mhash\u001b[39;49m\u001b[43m(\u001b[49m\u001b[43mPerson\u001b[49m\u001b[43m(\u001b[49m\u001b[38;5;124;43m'\u001b[39;49m\u001b[38;5;124;43mJohn\u001b[39;49m\u001b[38;5;124;43m'\u001b[39;49m\u001b[43m,\u001b[49m\u001b[43m \u001b[49m\u001b[38;5;241;43m22\u001b[39;49m\u001b[43m)\u001b[49m\u001b[43m)\u001b[49m\n",
      "\u001b[0;31mTypeError\u001b[0m: unhashable type: 'Person'"
     ]
    }
   ],
   "source": [
    "hash(Person('John', 22))"
   ]
  },
  {
   "cell_type": "code",
   "execution_count": 9,
   "id": "99735852-3ec5-444d-b6ea-8b185b361ead",
   "metadata": {},
   "outputs": [],
   "source": [
    "class Person:\n",
    "    def __init__(self, name, age):\n",
    "        self.name = name\n",
    "        self.age = age\n",
    "\n",
    "    def __eq__(self, other):\n",
    "        return isinstance(other, Person) and self.age == other.age\n",
    "\n",
    "    def __hash__(self):\n",
    "        return hash(self.age)"
   ]
  },
  {
   "cell_type": "code",
   "execution_count": 10,
   "id": "b6502bdc-786d-41b6-b67d-b1d830bb6d08",
   "metadata": {},
   "outputs": [],
   "source": [
    "class Person:\n",
    "    \n",
    "    def __init__(self, name, age):\n",
    "        self.name = name\n",
    "        self._age = age\n",
    "\n",
    "    @property\n",
    "    def age(self):\n",
    "        return self._age\n",
    "\n",
    "    def __eq__(self, other):\n",
    "        return isinstance(other, Person) and self.age == other.age\n",
    "\n",
    "    def __hash__(self):\n",
    "        return hash(self.age)"
   ]
  },
  {
   "cell_type": "markdown",
   "id": "2f29023e-4e32-4e9c-8a32-3cba7ce58cee",
   "metadata": {},
   "source": [
    "### Summary\n",
    "- By default, __hash__ uses the id of objects and __eq__ uses the is operator for comparisons.\n",
    "- If you implement __eq__, Python sets __hash__ to None unless you implement __hash__."
   ]
  },
  {
   "cell_type": "code",
   "execution_count": null,
   "id": "fbc0994d-c292-4b7f-9081-c835daa25de1",
   "metadata": {},
   "outputs": [],
   "source": []
  }
 ],
 "metadata": {
  "kernelspec": {
   "display_name": "Python 3 (ipykernel)",
   "language": "python",
   "name": "python3"
  },
  "language_info": {
   "codemirror_mode": {
    "name": "ipython",
    "version": 3
   },
   "file_extension": ".py",
   "mimetype": "text/x-python",
   "name": "python",
   "nbconvert_exporter": "python",
   "pygments_lexer": "ipython3",
   "version": "3.9.12"
  }
 },
 "nbformat": 4,
 "nbformat_minor": 5
}
