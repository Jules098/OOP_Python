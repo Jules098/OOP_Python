{
 "cells": [
  {
   "cell_type": "markdown",
   "id": "9bb3791b-13b7-4a02-8ed3-1b6b92cd6c92",
   "metadata": {},
   "source": [
    "### Introduction to the Python __eq__ Method"
   ]
  },
  {
   "cell_type": "code",
   "execution_count": 1,
   "id": "6e305848-7f8b-46c0-8de5-85b4815c2dc0",
   "metadata": {},
   "outputs": [],
   "source": [
    "class Person:\n",
    "    \n",
    "    def __init__(self, first_name, last_name, age):\n",
    "        self.first_name = first_name\n",
    "        self.last_name = last_name\n",
    "        self.age = age"
   ]
  },
  {
   "cell_type": "code",
   "execution_count": 2,
   "id": "fbcc1ab6-155c-491f-8f78-5704a585dc81",
   "metadata": {},
   "outputs": [],
   "source": [
    "john = Person('John', 'Doe', 25)\n",
    "jane = Person('Jane', 'Doe', 25)"
   ]
  },
  {
   "cell_type": "code",
   "execution_count": 3,
   "id": "e2910776-7edf-4f11-befc-291ffebf35e6",
   "metadata": {},
   "outputs": [
    {
     "name": "stdout",
     "output_type": "stream",
     "text": [
      "False\n"
     ]
    }
   ],
   "source": [
    "print(john is jane)"
   ]
  },
  {
   "cell_type": "code",
   "execution_count": 5,
   "id": "91c1776f-2b33-41cb-bed7-e241b1f3ac71",
   "metadata": {},
   "outputs": [],
   "source": [
    "class Person:\n",
    "    \n",
    "    def __init__(self, first_name, last_name, age):\n",
    "        self.first_name = first_name\n",
    "        self.last_name = last_name\n",
    "        self.age = age\n",
    "        \n",
    "    def __eq__(self, other):\n",
    "        return self.age == other.age"
   ]
  },
  {
   "cell_type": "code",
   "execution_count": 6,
   "id": "c775d4eb-90d1-4951-99c4-f39cecc666cf",
   "metadata": {},
   "outputs": [
    {
     "name": "stdout",
     "output_type": "stream",
     "text": [
      "True\n"
     ]
    }
   ],
   "source": [
    "john = Person('John', 'Doe', 25)\n",
    "jane = Person('Jane', 'Doe', 25)\n",
    "print(john == jane)"
   ]
  },
  {
   "cell_type": "code",
   "execution_count": 7,
   "id": "73fb4f9d-9848-4304-9945-483e5a69b767",
   "metadata": {},
   "outputs": [
    {
     "name": "stdout",
     "output_type": "stream",
     "text": [
      "False\n"
     ]
    }
   ],
   "source": [
    "john = Person('John', 'Doe', 25)\n",
    "mary = Person('Mary', 'Doe', 27)\n",
    "print(john == mary)"
   ]
  },
  {
   "cell_type": "code",
   "execution_count": 8,
   "id": "40764591-e9a3-4084-b705-e6a2c9ac9253",
   "metadata": {},
   "outputs": [
    {
     "ename": "AttributeError",
     "evalue": "'int' object has no attribute 'age'",
     "output_type": "error",
     "traceback": [
      "\u001b[0;31m---------------------------------------------------------------------------\u001b[0m",
      "\u001b[0;31mAttributeError\u001b[0m                            Traceback (most recent call last)",
      "Input \u001b[0;32mIn [8]\u001b[0m, in \u001b[0;36m<cell line: 2>\u001b[0;34m()\u001b[0m\n\u001b[1;32m      1\u001b[0m john \u001b[38;5;241m=\u001b[39m Person(\u001b[38;5;124m'\u001b[39m\u001b[38;5;124mJohn\u001b[39m\u001b[38;5;124m'\u001b[39m, \u001b[38;5;124m'\u001b[39m\u001b[38;5;124mDoe\u001b[39m\u001b[38;5;124m'\u001b[39m, \u001b[38;5;241m25\u001b[39m)\n\u001b[0;32m----> 2\u001b[0m \u001b[38;5;28mprint\u001b[39m(\u001b[43mjohn\u001b[49m\u001b[43m \u001b[49m\u001b[38;5;241;43m==\u001b[39;49m\u001b[43m \u001b[49m\u001b[38;5;241;43m20\u001b[39;49m)\n",
      "Input \u001b[0;32mIn [5]\u001b[0m, in \u001b[0;36mPerson.__eq__\u001b[0;34m(self, other)\u001b[0m\n\u001b[1;32m      8\u001b[0m \u001b[38;5;28;01mdef\u001b[39;00m \u001b[38;5;21m__eq__\u001b[39m(\u001b[38;5;28mself\u001b[39m, other):\n\u001b[0;32m----> 9\u001b[0m     \u001b[38;5;28;01mreturn\u001b[39;00m \u001b[38;5;28mself\u001b[39m\u001b[38;5;241m.\u001b[39mage \u001b[38;5;241m==\u001b[39m \u001b[43mother\u001b[49m\u001b[38;5;241;43m.\u001b[39;49m\u001b[43mage\u001b[49m\n",
      "\u001b[0;31mAttributeError\u001b[0m: 'int' object has no attribute 'age'"
     ]
    }
   ],
   "source": [
    "john = Person('John', 'Doe', 25)\n",
    "print(john == 20)"
   ]
  },
  {
   "cell_type": "code",
   "execution_count": 9,
   "id": "c81ce828-d2c8-4e87-b436-4ce7cbdf4ec4",
   "metadata": {},
   "outputs": [],
   "source": [
    "class Person:\n",
    "    \n",
    "    def __init__(self, first_name, last_name, age):\n",
    "        self.first_name = first_name\n",
    "        self.last_name = last_name\n",
    "        self.age = age\n",
    "        \n",
    "    def __eq__(self, other):\n",
    "        if isinstance(other, Person):\n",
    "            return self.age == other.age\n",
    "        \n",
    "        return False"
   ]
  },
  {
   "cell_type": "code",
   "execution_count": 10,
   "id": "16a20628-cf33-4e47-9b7c-c1042a166d60",
   "metadata": {},
   "outputs": [
    {
     "name": "stdout",
     "output_type": "stream",
     "text": [
      "False\n"
     ]
    }
   ],
   "source": [
    "john = Person('John', 'Doe', 25)\n",
    "print(john == 20)"
   ]
  },
  {
   "cell_type": "code",
   "execution_count": 11,
   "id": "a261d745-10ba-4428-9451-029d2974861f",
   "metadata": {},
   "outputs": [
    {
     "name": "stdout",
     "output_type": "stream",
     "text": [
      "True\n",
      "False\n",
      "False\n"
     ]
    }
   ],
   "source": [
    "class Person:\n",
    "    \n",
    "    def __init__(self, first_name, last_name, age):\n",
    "        self.first_name = first_name\n",
    "        self.last_name = last_name\n",
    "        self.age = age\n",
    "\n",
    "    def __eq__(self, other):\n",
    "        if isinstance(other, Person):\n",
    "            return self.age == other.age\n",
    "\n",
    "        return False\n",
    "\n",
    "\n",
    "john = Person('John', 'Doe', 25)\n",
    "jane = Person('Jane', 'Doe', 25)\n",
    "mary = Person('Mary', 'Doe', 27)\n",
    "\n",
    "print(john == jane)\n",
    "print(john == mary)\n",
    "\n",
    "\n",
    "john = Person('John', 'Doe', 25)\n",
    "print(john == 20)"
   ]
  },
  {
   "cell_type": "code",
   "execution_count": null,
   "id": "f265fb42-2350-4ad1-986c-8a13b0fd4713",
   "metadata": {},
   "outputs": [],
   "source": []
  }
 ],
 "metadata": {
  "kernelspec": {
   "display_name": "Python 3 (ipykernel)",
   "language": "python",
   "name": "python3"
  },
  "language_info": {
   "codemirror_mode": {
    "name": "ipython",
    "version": 3
   },
   "file_extension": ".py",
   "mimetype": "text/x-python",
   "name": "python",
   "nbconvert_exporter": "python",
   "pygments_lexer": "ipython3",
   "version": "3.9.12"
  }
 },
 "nbformat": 4,
 "nbformat_minor": 5
}
