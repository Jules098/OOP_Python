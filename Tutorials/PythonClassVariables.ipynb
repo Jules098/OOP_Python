{
 "cells": [
  {
   "cell_type": "markdown",
   "id": "b832722f-d60d-4276-898c-5301aaeee73b",
   "metadata": {},
   "source": [
    "### Introduction to the Python class variables"
   ]
  },
  {
   "cell_type": "code",
   "execution_count": 2,
   "id": "b943c033-6902-4688-89ae-2c48592cd44c",
   "metadata": {},
   "outputs": [],
   "source": [
    "class HtmlDocument:\n",
    "    pass"
   ]
  },
  {
   "cell_type": "code",
   "execution_count": 3,
   "id": "fb8eb22e-df3e-4e6e-810c-ffac973c89aa",
   "metadata": {},
   "outputs": [
    {
     "name": "stdout",
     "output_type": "stream",
     "text": [
      "HtmlDocument\n"
     ]
    }
   ],
   "source": [
    "print(HtmlDocument.__name__)"
   ]
  },
  {
   "cell_type": "code",
   "execution_count": 5,
   "id": "6e926c10-b954-45c7-ab96-c2c138069e36",
   "metadata": {},
   "outputs": [
    {
     "name": "stdout",
     "output_type": "stream",
     "text": [
      "<class 'type'>\n"
     ]
    }
   ],
   "source": [
    "print(type(HtmlDocument))"
   ]
  },
  {
   "cell_type": "code",
   "execution_count": 6,
   "id": "0bc65621-bf70-41ed-bee7-7c4a59ac4de9",
   "metadata": {},
   "outputs": [
    {
     "name": "stdout",
     "output_type": "stream",
     "text": [
      "True\n"
     ]
    }
   ],
   "source": [
    "print(isinstance(HtmlDocument, type))"
   ]
  },
  {
   "cell_type": "code",
   "execution_count": 7,
   "id": "e96b5978-5624-45ea-9abb-12f0d50dc015",
   "metadata": {},
   "outputs": [],
   "source": [
    "class HtmlDocument:\n",
    "    extension = 'html'\n",
    "    version = 5"
   ]
  },
  {
   "cell_type": "markdown",
   "id": "dc9b7e6c-bc21-48e1-ab8b-376f9f5d05e4",
   "metadata": {},
   "source": [
    "### Get the values of the class variables"
   ]
  },
  {
   "cell_type": "code",
   "execution_count": 9,
   "id": "80a01950-d0f9-4f5f-ba15-1c3969a7ec8c",
   "metadata": {},
   "outputs": [
    {
     "name": "stdout",
     "output_type": "stream",
     "text": [
      "html\n",
      "5\n"
     ]
    }
   ],
   "source": [
    "print(HtmlDocument.extension)\n",
    "print(HtmlDocument.version)"
   ]
  },
  {
   "cell_type": "code",
   "execution_count": 10,
   "id": "3988c958-7c15-44fd-8695-836c94ea5095",
   "metadata": {},
   "outputs": [
    {
     "ename": "AttributeError",
     "evalue": "type object 'HtmlDocument' has no attribute 'media_type'",
     "output_type": "error",
     "traceback": [
      "\u001b[0;31m---------------------------------------------------------------------------\u001b[0m",
      "\u001b[0;31mAttributeError\u001b[0m                            Traceback (most recent call last)",
      "Input \u001b[0;32mIn [10]\u001b[0m, in \u001b[0;36m<cell line: 1>\u001b[0;34m()\u001b[0m\n\u001b[0;32m----> 1\u001b[0m \u001b[43mHtmlDocument\u001b[49m\u001b[38;5;241;43m.\u001b[39;49m\u001b[43mmedia_type\u001b[49m\n",
      "\u001b[0;31mAttributeError\u001b[0m: type object 'HtmlDocument' has no attribute 'media_type'"
     ]
    }
   ],
   "source": [
    "HtmlDocument.media_type"
   ]
  },
  {
   "cell_type": "code",
   "execution_count": 11,
   "id": "f6e87104-69f9-4b6d-87bb-8f9c0ae3a556",
   "metadata": {},
   "outputs": [
    {
     "name": "stdout",
     "output_type": "stream",
     "text": [
      "html\n",
      "5\n"
     ]
    }
   ],
   "source": [
    "extension = getattr(HtmlDocument, 'extension')\n",
    "version = getattr(HtmlDocument, 'version')\n",
    "\n",
    "print(extension)\n",
    "print(version)"
   ]
  },
  {
   "cell_type": "markdown",
   "id": "d5625209-c181-408d-8157-5b9749ebd2aa",
   "metadata": {},
   "source": [
    "If the class variable doesn’t exist, you’ll also get an AttributeError exception. To avoid the exception, you can specify a default value if the class variable doesn’t exist like this:"
   ]
  },
  {
   "cell_type": "code",
   "execution_count": 12,
   "id": "d44c5a55-e2a9-4aab-b6ba-ac5afd8a4b35",
   "metadata": {},
   "outputs": [
    {
     "name": "stdout",
     "output_type": "stream",
     "text": [
      "text/html\n"
     ]
    }
   ],
   "source": [
    "media_type = getattr(HtmlDocument, 'media_type', 'text/html')\n",
    "print(media_type)"
   ]
  },
  {
   "cell_type": "markdown",
   "id": "b7796537-11d6-4c7c-91e3-fc90771ed9e0",
   "metadata": {},
   "source": [
    "### Set Values for Class Variables"
   ]
  },
  {
   "cell_type": "code",
   "execution_count": 13,
   "id": "c28cdbe9-83d5-4960-bf60-9bbaf4d5eebb",
   "metadata": {},
   "outputs": [],
   "source": [
    "HtmlDocument.version = 10"
   ]
  },
  {
   "cell_type": "code",
   "execution_count": 14,
   "id": "7cfef050-636e-4091-b61e-0e49fb7e937f",
   "metadata": {},
   "outputs": [],
   "source": [
    "setattr(HtmlDocument, 'version', 10)"
   ]
  },
  {
   "cell_type": "code",
   "execution_count": 15,
   "id": "e9af39bd-65ed-44d7-9298-2034e99d9276",
   "metadata": {},
   "outputs": [
    {
     "name": "stdout",
     "output_type": "stream",
     "text": [
      "text/html\n"
     ]
    }
   ],
   "source": [
    "HtmlDocument.media_type = 'text/html'\n",
    "print(HtmlDocument.media_type)"
   ]
  },
  {
   "cell_type": "markdown",
   "id": "39eacc29-1b71-4f5f-971d-c1e8f8a98101",
   "metadata": {},
   "source": [
    "### Delete Class Variables"
   ]
  },
  {
   "cell_type": "code",
   "execution_count": 16,
   "id": "e64390c1-e982-487b-82f1-898627d924d7",
   "metadata": {},
   "outputs": [],
   "source": [
    "delattr(HtmlDocument, 'version')"
   ]
  },
  {
   "cell_type": "code",
   "execution_count": null,
   "id": "e0c2cf5b-bc84-4799-82ed-1679b0d3cc30",
   "metadata": {},
   "outputs": [],
   "source": [
    "del HtmlDocument.version"
   ]
  },
  {
   "cell_type": "markdown",
   "id": "a2636c32-5895-4005-8fd3-b78415096832",
   "metadata": {},
   "source": [
    "### Class Variable Storage"
   ]
  },
  {
   "cell_type": "code",
   "execution_count": 18,
   "id": "86da4d52-c542-49f8-ab88-7acff51bf000",
   "metadata": {},
   "outputs": [],
   "source": [
    "from pprint import pprint"
   ]
  },
  {
   "cell_type": "code",
   "execution_count": 19,
   "id": "c365cd26-d5c0-4100-b320-909b178535c5",
   "metadata": {},
   "outputs": [
    {
     "name": "stdout",
     "output_type": "stream",
     "text": [
      "mappingproxy({'__dict__': <attribute '__dict__' of 'HtmlDocument' objects>,\n",
      "              '__doc__': None,\n",
      "              '__module__': '__main__',\n",
      "              '__weakref__': <attribute '__weakref__' of 'HtmlDocument' objects>,\n",
      "              'extension': 'html',\n",
      "              'media_type': 'text/html',\n",
      "              'version': '5'})\n"
     ]
    }
   ],
   "source": [
    "class HtmlDocument:\n",
    "    extension = 'html'\n",
    "    version = '5'\n",
    "    \n",
    "HtmlDocument.media_type = 'text/html'\n",
    "\n",
    "pprint(HtmlDocument.__dict__)"
   ]
  },
  {
   "cell_type": "markdown",
   "id": "508afc28-fc8f-44ae-ba42-940cbea6f240",
   "metadata": {},
   "source": [
    "### Callable Class Attributes"
   ]
  },
  {
   "cell_type": "code",
   "execution_count": 21,
   "id": "3b3c4101-4ccc-4eff-a4a4-03b7007098dc",
   "metadata": {},
   "outputs": [
    {
     "name": "stdout",
     "output_type": "stream",
     "text": [
      "mappingproxy({'__dict__': <attribute '__dict__' of 'HtmlDocument' objects>,\n",
      "              '__doc__': None,\n",
      "              '__module__': '__main__',\n",
      "              '__weakref__': <attribute '__weakref__' of 'HtmlDocument' objects>,\n",
      "              'extension': 'html',\n",
      "              'render': <function HtmlDocument.render at 0x7fcd670e4f70>,\n",
      "              'version': '5'})\n"
     ]
    }
   ],
   "source": [
    "class HtmlDocument:\n",
    "    extension = 'html'\n",
    "    version = '5'\n",
    "    \n",
    "    def render():\n",
    "        print('Rendering the html doc...')\n",
    "        \n",
    "pprint(HtmlDocument.__dict__)"
   ]
  },
  {
   "cell_type": "markdown",
   "id": "dad3885d-8e0d-4a5c-a418-17c64838d4e7",
   "metadata": {},
   "source": [
    "### Summary\n",
    "- A class is an object which is an instance of the type class.\n",
    "- Class variables are attributes of the class object.\n",
    "- Use dot notation or getattr() function to get the value of a class attribute.\n",
    "- Use dot notation or setattr() function to set the value of a class attribute.\n",
    "- Python is a dynamic language. Therefore, you can assign a class variable to a class at runtime.\n",
    "- Python stores class variables in the __dict__ attribute. The __dict__ attribute is a dictionary."
   ]
  },
  {
   "cell_type": "code",
   "execution_count": null,
   "id": "770744a3-870e-4fdc-a85e-973bf8c4e712",
   "metadata": {},
   "outputs": [],
   "source": []
  }
 ],
 "metadata": {
  "kernelspec": {
   "display_name": "Python 3 (ipykernel)",
   "language": "python",
   "name": "python3"
  },
  "language_info": {
   "codemirror_mode": {
    "name": "ipython",
    "version": 3
   },
   "file_extension": ".py",
   "mimetype": "text/x-python",
   "name": "python",
   "nbconvert_exporter": "python",
   "pygments_lexer": "ipython3",
   "version": "3.9.12"
  }
 },
 "nbformat": 4,
 "nbformat_minor": 5
}
