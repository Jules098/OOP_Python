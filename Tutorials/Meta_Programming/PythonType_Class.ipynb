{
 "cells": [
  {
   "cell_type": "markdown",
   "id": "10d30b4d-cc84-4275-b769-7bd8cf4695cc",
   "metadata": {},
   "source": [
    "### Introduction to Python Type Class"
   ]
  },
  {
   "cell_type": "code",
   "execution_count": 1,
   "id": "8ff2fc45-6e41-4f27-b35c-8fa60692fe2e",
   "metadata": {},
   "outputs": [],
   "source": [
    "class Person:\n",
    "    \n",
    "    def __init__(self, name, age):\n",
    "        self.name = name\n",
    "        self.age = age\n",
    "        \n",
    "    def greeting(self):\n",
    "        return f\"Hi, I'm {self.name}.  I'm {self.age} years old.\""
   ]
  },
  {
   "cell_type": "code",
   "execution_count": 2,
   "id": "ef1f05a2-488e-41de-8e62-3da9729cb0d7",
   "metadata": {},
   "outputs": [
    {
     "name": "stdout",
     "output_type": "stream",
     "text": [
      "<class 'type'>\n"
     ]
    }
   ],
   "source": [
    "print(type(Person))"
   ]
  },
  {
   "cell_type": "code",
   "execution_count": 3,
   "id": "9da77f77-4ec0-472a-bb18-9f787fd9153b",
   "metadata": {},
   "outputs": [
    {
     "name": "stdout",
     "output_type": "stream",
     "text": [
      "True\n"
     ]
    }
   ],
   "source": [
    "print(isinstance(Person, type))"
   ]
  },
  {
   "cell_type": "code",
   "execution_count": 6,
   "id": "acb48801-c13d-4424-a2cf-83d66ae5b6e6",
   "metadata": {},
   "outputs": [],
   "source": [
    "# type(name, bases, dict) -> a new type"
   ]
  },
  {
   "cell_type": "markdown",
   "id": "b756db46-6bf2-48a7-b4a5-6e683ebf517e",
   "metadata": {},
   "source": [
    "The constructor has three parameters for creating a new class:\n",
    "\n",
    "1. name: is the name of the class e.g., Person\n",
    "2. bases is a tuple that contains the base classes of the new class. For example, the Person inherits from the object class, so the bases contains one class (object,)\n",
    "3. dict is the class namespace"
   ]
  },
  {
   "cell_type": "markdown",
   "id": "1a2d338f-4b70-43c5-8942-da20579ec43d",
   "metadata": {},
   "source": [
    "When the Python interpreter encounters a class definition in the code, it will:\n",
    "\n",
    "- First, extract the class body as string.\n",
    "- Second, create a class dictionary for the class namespace.\n",
    "- Third, execute the class body to fill up the class dictionary.\n",
    "- Finally, create a new instance of type using the above type() constructor."
   ]
  },
  {
   "cell_type": "markdown",
   "id": "6cae2f08-d726-4109-bed2-6c4c91a49514",
   "metadata": {},
   "source": [
    "First, extract the class body:"
   ]
  },
  {
   "cell_type": "code",
   "execution_count": 8,
   "id": "2dbe813c-03e9-41c3-8519-015f6bf0311d",
   "metadata": {},
   "outputs": [],
   "source": [
    "class_body = \"\"\"\n",
    "\n",
    "def __init__(self, name, age):\n",
    "    self.name = name\n",
    "    self.age = age\n",
    "    \n",
    "def greeting(self):\n",
    "    return f\"Hi, I'm {self.name}. I'm {self.age} years old.\"\n",
    "\"\"\""
   ]
  },
  {
   "cell_type": "markdown",
   "id": "973a5ad3-394e-453f-a1ee-c461dbd54087",
   "metadata": {},
   "source": [
    "Second, create a class dictionary:"
   ]
  },
  {
   "cell_type": "code",
   "execution_count": 9,
   "id": "6123228a-bb68-4320-b3c8-a6fb9a6dca60",
   "metadata": {},
   "outputs": [],
   "source": [
    "class_dict = {}"
   ]
  },
  {
   "cell_type": "markdown",
   "id": "a0a37413-7966-4207-83ce-98073de3e738",
   "metadata": {},
   "source": [
    "Third, execute the class body and fill up the class dictionary:"
   ]
  },
  {
   "cell_type": "code",
   "execution_count": 10,
   "id": "441cf3a0-927a-401c-b478-d5a059bfc974",
   "metadata": {},
   "outputs": [],
   "source": [
    "exec(class_body, globals(), class_dict)"
   ]
  },
  {
   "cell_type": "markdown",
   "id": "5d4f8c9c-60c8-4d98-952e-9ca1423dba9f",
   "metadata": {},
   "source": [
    "The exec() function executes the class body and fills up the global and class namespaces.\n",
    "\n",
    "Finally, create a new Person class using the type constructor:"
   ]
  },
  {
   "cell_type": "code",
   "execution_count": 11,
   "id": "e6bade8f-aa7f-4595-82e1-7aabf571a603",
   "metadata": {},
   "outputs": [],
   "source": [
    "Person = type('Person', (object,), class_dict)"
   ]
  },
  {
   "cell_type": "code",
   "execution_count": 13,
   "id": "7a5baf75-9237-4065-88fe-19209f29c573",
   "metadata": {},
   "outputs": [
    {
     "name": "stdout",
     "output_type": "stream",
     "text": [
      "<class 'type'>\n"
     ]
    }
   ],
   "source": [
    "print(type(Person))"
   ]
  },
  {
   "cell_type": "code",
   "execution_count": 14,
   "id": "de5c9554-da10-4025-85e6-b9f374f6f5ff",
   "metadata": {},
   "outputs": [
    {
     "name": "stdout",
     "output_type": "stream",
     "text": [
      "True\n"
     ]
    }
   ],
   "source": [
    "print(isinstance(Person, type))"
   ]
  },
  {
   "cell_type": "code",
   "execution_count": 17,
   "id": "a4073d91-b3a1-4eee-9041-4a031a7ddc1e",
   "metadata": {},
   "outputs": [
    {
     "name": "stdout",
     "output_type": "stream",
     "text": [
      "{'__init__': <function __init__ at 0x7f82f193a4c0>, 'greeting': <function greeting at 0x7f82f193a430>}\n",
      "{'__init__': <function __init__ at 0x7f82f193a4c0>, 'greeting': <function greeting at 0x7f82f193a430>, '__module__': '__main__', '__dict__': <attribute '__dict__' of 'Person' objects>, '__weakref__': <attribute '__weakref__' of 'Person' objects>, '__doc__': None}\n"
     ]
    }
   ],
   "source": [
    "print(class_dict)\n",
    "print(Person.__dict__)"
   ]
  },
  {
   "cell_type": "markdown",
   "id": "26eb900a-35a2-4d4d-97c0-3e33f376c102",
   "metadata": {},
   "source": [
    "### Summary\n",
    "- In Python, a class is an instance of the type class.\n",
    "- The type class creates other classs, therefore, it is called a metaclass."
   ]
  },
  {
   "cell_type": "code",
   "execution_count": null,
   "id": "a35ab9a7-0fc2-4073-be07-b491c8bb4995",
   "metadata": {},
   "outputs": [],
   "source": []
  }
 ],
 "metadata": {
  "kernelspec": {
   "display_name": "Python 3 (ipykernel)",
   "language": "python",
   "name": "python3"
  },
  "language_info": {
   "codemirror_mode": {
    "name": "ipython",
    "version": 3
   },
   "file_extension": ".py",
   "mimetype": "text/x-python",
   "name": "python",
   "nbconvert_exporter": "python",
   "pygments_lexer": "ipython3",
   "version": "3.9.12"
  }
 },
 "nbformat": 4,
 "nbformat_minor": 5
}
