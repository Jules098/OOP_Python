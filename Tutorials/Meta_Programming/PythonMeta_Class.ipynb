{
 "cells": [
  {
   "cell_type": "markdown",
   "id": "d33a9ac1-7cef-461f-9f1e-74a00d2626f7",
   "metadata": {},
   "source": [
    "### Introduction to Python Meta Class"
   ]
  },
  {
   "cell_type": "code",
   "execution_count": 1,
   "id": "40ba9ae2-db8d-4636-bb44-cd567ab4f960",
   "metadata": {},
   "outputs": [],
   "source": [
    "class Person:\n",
    "    \n",
    "    def __init__(self, name, age):\n",
    "        self.name = name\n",
    "        self.age = age"
   ]
  },
  {
   "cell_type": "code",
   "execution_count": 3,
   "id": "161e4eb8-41eb-4ef1-b152-5ca7a57fad27",
   "metadata": {},
   "outputs": [],
   "source": [
    "class Person(object, metaclass=type):\n",
    "    \n",
    "    def __init__(self, name, age):\n",
    "        self.name = name\n",
    "        self.age = age"
   ]
  },
  {
   "cell_type": "markdown",
   "id": "ba234069-5eb1-40af-a033-80335f47ca13",
   "metadata": {},
   "source": [
    "### Python MetaClass Example"
   ]
  },
  {
   "cell_type": "markdown",
   "id": "f7155ff7-a1e2-4aa2-930a-865604aca516",
   "metadata": {},
   "source": [
    "First, define a custom metaclass called Human that has the freedom attribute sets to True by default:"
   ]
  },
  {
   "cell_type": "code",
   "execution_count": 4,
   "id": "b1131148-24ed-40ca-9d2d-f6077e69ef81",
   "metadata": {},
   "outputs": [],
   "source": [
    "class Human(type):\n",
    "    \n",
    "    def __new__(mcs, name, bases, class_dict):\n",
    "        class_ = super().__new__(mcs, name, bases, class_dict)\n",
    "        class_.freedom = True\n",
    "        return class_"
   ]
  },
  {
   "cell_type": "markdown",
   "id": "ac2c2625-bf79-472e-8790-08a48fccbc2b",
   "metadata": {},
   "source": [
    "Second, define the Person class that uses the Human metaclass:"
   ]
  },
  {
   "cell_type": "code",
   "execution_count": 5,
   "id": "b8d0e0c0-c2f6-4ca0-84c5-29bec18451f6",
   "metadata": {},
   "outputs": [],
   "source": [
    "class Person(object, metaclass=Human):\n",
    "    \n",
    "    def __init__(self, name, age):\n",
    "        self.name = name\n",
    "        self.age = age"
   ]
  },
  {
   "cell_type": "code",
   "execution_count": 6,
   "id": "111a84e8-ef81-4441-9fc9-33f26b3bf31e",
   "metadata": {},
   "outputs": [
    {
     "name": "stdout",
     "output_type": "stream",
     "text": [
      "mappingproxy({'__dict__': <attribute '__dict__' of 'Person' objects>,\n",
      "              '__doc__': None,\n",
      "              '__init__': <function Person.__init__ at 0x7fa58f95e940>,\n",
      "              '__module__': '__main__',\n",
      "              '__weakref__': <attribute '__weakref__' of 'Person' objects>,\n",
      "              'freedom': True})\n"
     ]
    }
   ],
   "source": [
    "from pprint import pprint\n",
    "\n",
    "pprint(Person.__dict__)"
   ]
  },
  {
   "cell_type": "code",
   "execution_count": 7,
   "id": "2b11fb32-ff55-4adf-9107-2bff93668094",
   "metadata": {},
   "outputs": [
    {
     "name": "stdout",
     "output_type": "stream",
     "text": [
      "mappingproxy({'__dict__': <attribute '__dict__' of 'Person' objects>,\n",
      "              '__doc__': None,\n",
      "              '__init__': <function Person.__init__ at 0x7fa58f973dc0>,\n",
      "              '__module__': '__main__',\n",
      "              '__weakref__': <attribute '__weakref__' of 'Person' objects>,\n",
      "              'freedom': True})\n"
     ]
    }
   ],
   "source": [
    "from pprint import pprint\n",
    "\n",
    "\n",
    "class Human(type):\n",
    "    def __new__(mcs, name, bases, class_dict):\n",
    "        class_ = super().__new__(mcs, name, bases, class_dict)\n",
    "        class_.freedom = True\n",
    "        return class_\n",
    "\n",
    "\n",
    "class Person(object, metaclass=Human):\n",
    "    def __init__(self, name, age):\n",
    "        self.name = name\n",
    "        self.age = age\n",
    "\n",
    "\n",
    "pprint(Person.__dict__)"
   ]
  },
  {
   "cell_type": "markdown",
   "id": "c087559d-bc6b-4193-a488-73a2b3dc7320",
   "metadata": {},
   "source": [
    "### Metaclass Parameters"
   ]
  },
  {
   "cell_type": "code",
   "execution_count": 9,
   "id": "cc0f75a3-b0df-42f8-adb1-cefe6d964010",
   "metadata": {},
   "outputs": [],
   "source": [
    "class Human(type):\n",
    "    \n",
    "    def __new__(mcs, name, bases, class_dict, **kwargs):\n",
    "        class_ = super().__new__(mcs, name, bases, class_dict)\n",
    "        if kwargs:\n",
    "            for name, value in kwargs.items():\n",
    "                setattr(class_, name, value)\n",
    "            return class_"
   ]
  },
  {
   "cell_type": "code",
   "execution_count": 10,
   "id": "70c86c9c-7a86-4c67-9717-156c46ba36f1",
   "metadata": {},
   "outputs": [],
   "source": [
    "class Person(object, metaclass=Human, country='USA', freedom=True):\n",
    "    \n",
    "    def __init__(self, name, age):\n",
    "        self.name = name\n",
    "        self.age = age"
   ]
  },
  {
   "cell_type": "code",
   "execution_count": 11,
   "id": "a8b39fa0-f857-4526-9266-72737acf4c4d",
   "metadata": {},
   "outputs": [
    {
     "name": "stdout",
     "output_type": "stream",
     "text": [
      "mappingproxy({'__dict__': <attribute '__dict__' of 'Person' objects>,\n",
      "              '__doc__': None,\n",
      "              '__init__': <function Person.__init__ at 0x7fa58f973790>,\n",
      "              '__module__': '__main__',\n",
      "              '__weakref__': <attribute '__weakref__' of 'Person' objects>,\n",
      "              'country': 'USA',\n",
      "              'freedom': True})\n"
     ]
    }
   ],
   "source": [
    "pprint(Person.__dict__)"
   ]
  },
  {
   "cell_type": "code",
   "execution_count": 12,
   "id": "050ea997-218b-48c9-b3ca-53acfc97309a",
   "metadata": {},
   "outputs": [
    {
     "name": "stdout",
     "output_type": "stream",
     "text": [
      "mappingproxy({'__dict__': <attribute '__dict__' of 'Person' objects>,\n",
      "              '__doc__': None,\n",
      "              '__init__': <function Person.__init__ at 0x7fa58f973ca0>,\n",
      "              '__module__': '__main__',\n",
      "              '__weakref__': <attribute '__weakref__' of 'Person' objects>,\n",
      "              'country': 'USA',\n",
      "              'freedom': True})\n"
     ]
    }
   ],
   "source": [
    "from pprint import pprint\n",
    "\n",
    "\n",
    "class Human(type):\n",
    "    def __new__(mcs, name, bases, class_dict, **kwargs):\n",
    "        class_ = super().__new__(mcs, name, bases, class_dict)\n",
    "        if kwargs:\n",
    "            for name, value in kwargs.items():\n",
    "                setattr(class_, name, value)\n",
    "        return class_\n",
    "\n",
    "\n",
    "class Person(object, metaclass=Human, freedom=True, country='USA'):\n",
    "    def __init__(self, name, age):\n",
    "        self.name = name\n",
    "        self.age = age\n",
    "\n",
    "\n",
    "pprint(Person.__dict__)"
   ]
  },
  {
   "cell_type": "markdown",
   "id": "f842ba2f-0eba-466b-a7d1-c294588c81a9",
   "metadata": {},
   "source": [
    "### Summary\n",
    "- A metaclass is a class that creates other classes."
   ]
  },
  {
   "cell_type": "code",
   "execution_count": null,
   "id": "965d2d3c-e472-4319-a9eb-f1e0ab64d96d",
   "metadata": {},
   "outputs": [],
   "source": []
  }
 ],
 "metadata": {
  "kernelspec": {
   "display_name": "Python 3 (ipykernel)",
   "language": "python",
   "name": "python3"
  },
  "language_info": {
   "codemirror_mode": {
    "name": "ipython",
    "version": 3
   },
   "file_extension": ".py",
   "mimetype": "text/x-python",
   "name": "python",
   "nbconvert_exporter": "python",
   "pygments_lexer": "ipython3",
   "version": "3.9.12"
  }
 },
 "nbformat": 4,
 "nbformat_minor": 5
}
