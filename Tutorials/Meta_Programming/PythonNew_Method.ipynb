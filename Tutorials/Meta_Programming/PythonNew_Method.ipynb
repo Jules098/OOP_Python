{
 "cells": [
  {
   "cell_type": "markdown",
   "id": "2224685d-10c3-4d14-a2d7-7220139b0f75",
   "metadata": {},
   "source": [
    "### Introduction to the Python __New__ Method"
   ]
  },
  {
   "cell_type": "code",
   "execution_count": 1,
   "id": "278f55bb-0543-4a50-b2b0-1f2c95d67fec",
   "metadata": {},
   "outputs": [],
   "source": [
    "# object.__new__(class, *args, **kwargs)"
   ]
  },
  {
   "cell_type": "markdown",
   "id": "6cf5572c-b629-4277-8b0f-c1fd7cf315be",
   "metadata": {},
   "source": [
    "### Python __new__ method Example"
   ]
  },
  {
   "cell_type": "code",
   "execution_count": 3,
   "id": "b4dc80d7-7497-4378-8494-3c4789a12209",
   "metadata": {},
   "outputs": [],
   "source": [
    "class Person:\n",
    "    \n",
    "    def __init__(self, name):\n",
    "        self.name = name\n",
    "        \n",
    "person = Person('John')"
   ]
  },
  {
   "cell_type": "code",
   "execution_count": 4,
   "id": "4efd1d99-7a7b-4400-95ff-e5789b760b0f",
   "metadata": {},
   "outputs": [],
   "source": [
    "person = object.__new__(Person, 'John')\n",
    "person.__init__('John')"
   ]
  },
  {
   "cell_type": "code",
   "execution_count": 5,
   "id": "3d6b1d7f-5888-4b46-bbf8-95ce0de1977a",
   "metadata": {},
   "outputs": [
    {
     "name": "stdout",
     "output_type": "stream",
     "text": [
      "{}\n",
      "{'name': 'John'}\n"
     ]
    }
   ],
   "source": [
    "person = object.__new__(Person, 'John')\n",
    "print(person.__dict__)\n",
    "\n",
    "person.__init__('John')\n",
    "print(person.__dict__)"
   ]
  },
  {
   "cell_type": "code",
   "execution_count": 6,
   "id": "44c87dd6-7787-4587-86a2-1f0cb860e763",
   "metadata": {},
   "outputs": [
    {
     "name": "stdout",
     "output_type": "stream",
     "text": [
      "Creating a new Person object...\n",
      "Initializing the Person object...\n"
     ]
    }
   ],
   "source": [
    "class Person:\n",
    "    \n",
    "    def __new__(cls, name):\n",
    "        print(f'Creating a new {cls.__name__} object...')\n",
    "        obj = object.__new__(cls)\n",
    "        return obj\n",
    "        \n",
    "    def __init__(self, name):\n",
    "        print(f'Initializing the Person object...')\n",
    "        self.name = name\n",
    "        \n",
    "person = Person('John')"
   ]
  },
  {
   "cell_type": "markdown",
   "id": "a960dfa0-418d-401e-9b7b-2b06b7ccce68",
   "metadata": {},
   "source": [
    "### When using the __new__ method"
   ]
  },
  {
   "cell_type": "code",
   "execution_count": 7,
   "id": "86718fda-e327-4410-a2e3-754387f58781",
   "metadata": {},
   "outputs": [
    {
     "name": "stdout",
     "output_type": "stream",
     "text": [
      "9\n"
     ]
    }
   ],
   "source": [
    "class SquareNumber(int):\n",
    "    \n",
    "    def __new__(cls, value):\n",
    "        return super().__new__(cls, value**2)\n",
    "    \n",
    "x = SquareNumber(3)\n",
    "print(x)"
   ]
  },
  {
   "cell_type": "code",
   "execution_count": 8,
   "id": "ab9b3b2e-88fd-400e-b279-9184b068ae7a",
   "metadata": {},
   "outputs": [
    {
     "name": "stdout",
     "output_type": "stream",
     "text": [
      "True\n"
     ]
    }
   ],
   "source": [
    "print(isinstance(x, int))"
   ]
  },
  {
   "cell_type": "code",
   "execution_count": 9,
   "id": "3e445dae-2523-44fc-b217-4d3be5bc4147",
   "metadata": {},
   "outputs": [
    {
     "ename": "TypeError",
     "evalue": "object.__init__() takes exactly one argument (the instance to initialize)",
     "output_type": "error",
     "traceback": [
      "\u001b[0;31m---------------------------------------------------------------------------\u001b[0m",
      "\u001b[0;31mTypeError\u001b[0m                                 Traceback (most recent call last)",
      "Input \u001b[0;32mIn [9]\u001b[0m, in \u001b[0;36m<cell line: 6>\u001b[0;34m()\u001b[0m\n\u001b[1;32m      2\u001b[0m     \u001b[38;5;28;01mdef\u001b[39;00m \u001b[38;5;21m__init__\u001b[39m(\u001b[38;5;28mself\u001b[39m, value):\n\u001b[1;32m      3\u001b[0m         \u001b[38;5;28msuper\u001b[39m()\u001b[38;5;241m.\u001b[39m\u001b[38;5;21m__init__\u001b[39m(value \u001b[38;5;241m*\u001b[39m\u001b[38;5;241m*\u001b[39m \u001b[38;5;241m2\u001b[39m)\n\u001b[0;32m----> 6\u001b[0m x \u001b[38;5;241m=\u001b[39m \u001b[43mSquareNumber\u001b[49m\u001b[43m(\u001b[49m\u001b[38;5;241;43m3\u001b[39;49m\u001b[43m)\u001b[49m\n",
      "Input \u001b[0;32mIn [9]\u001b[0m, in \u001b[0;36mSquareNumber.__init__\u001b[0;34m(self, value)\u001b[0m\n\u001b[1;32m      2\u001b[0m \u001b[38;5;28;01mdef\u001b[39;00m \u001b[38;5;21m__init__\u001b[39m(\u001b[38;5;28mself\u001b[39m, value):\n\u001b[0;32m----> 3\u001b[0m     \u001b[38;5;28;43msuper\u001b[39;49m\u001b[43m(\u001b[49m\u001b[43m)\u001b[49m\u001b[38;5;241;43m.\u001b[39;49m\u001b[38;5;21;43m__init__\u001b[39;49m\u001b[43m(\u001b[49m\u001b[43mvalue\u001b[49m\u001b[43m \u001b[49m\u001b[38;5;241;43m*\u001b[39;49m\u001b[38;5;241;43m*\u001b[39;49m\u001b[43m \u001b[49m\u001b[38;5;241;43m2\u001b[39;49m\u001b[43m)\u001b[49m\n",
      "\u001b[0;31mTypeError\u001b[0m: object.__init__() takes exactly one argument (the instance to initialize)"
     ]
    }
   ],
   "source": [
    "class SquareNumber(int):\n",
    "    def __init__(self, value):\n",
    "        super().__init__(value ** 2)\n",
    "\n",
    "\n",
    "x = SquareNumber(3)"
   ]
  },
  {
   "cell_type": "code",
   "execution_count": 11,
   "id": "308c296c-a4f9-46c2-9e77-3045915f1ac2",
   "metadata": {},
   "outputs": [
    {
     "name": "stdout",
     "output_type": "stream",
     "text": [
      "John Doe\n",
      "{'first_name': 'John', 'last_name': 'Doe', 'full_name': 'John Doe'}\n"
     ]
    }
   ],
   "source": [
    "class Person:\n",
    "    \n",
    "    def __new__(cls, first_name, last_name):\n",
    "        # Create a new object\n",
    "        obj = super().__new__(cls)\n",
    "        \n",
    "        # Initialize attributes\n",
    "        obj.first_name = first_name\n",
    "        obj.last_name = last_name\n",
    "        \n",
    "        # Inject new attribute\n",
    "        obj.full_name = f'{first_name} {last_name}'\n",
    "        return obj\n",
    "    \n",
    "person = Person('John', 'Doe')\n",
    "print(person.full_name)\n",
    "\n",
    "print(person.__dict__)"
   ]
  },
  {
   "cell_type": "markdown",
   "id": "da035aea-ae2b-4508-973c-fdff938b5894",
   "metadata": {},
   "source": [
    "### Summary\n",
    "- The __new__() is a static method of the object class.\n",
    "- When you create a new object by calling the class, Python calls the __new__() method to create the object first and then calls the __init__() method to initialize the object’s attributes.\n",
    "- Override the __new__() method if you want to tweak the object at creation time."
   ]
  },
  {
   "cell_type": "code",
   "execution_count": null,
   "id": "ba64693e-c4aa-4bf0-a806-c5d81bc3ad1b",
   "metadata": {},
   "outputs": [],
   "source": []
  }
 ],
 "metadata": {
  "kernelspec": {
   "display_name": "Python 3 (ipykernel)",
   "language": "python",
   "name": "python3"
  },
  "language_info": {
   "codemirror_mode": {
    "name": "ipython",
    "version": 3
   },
   "file_extension": ".py",
   "mimetype": "text/x-python",
   "name": "python",
   "nbconvert_exporter": "python",
   "pygments_lexer": "ipython3",
   "version": "3.9.12"
  }
 },
 "nbformat": 4,
 "nbformat_minor": 5
}
