{
 "cells": [
  {
   "cell_type": "markdown",
   "id": "3e7d7206-9b67-4d1b-a6d1-378b8599d909",
   "metadata": {},
   "source": [
    "### Introduction to Non-Data Descriptors"
   ]
  },
  {
   "cell_type": "markdown",
   "id": "60e515e0-735e-4a85-a231-1dd0cc2349ac",
   "metadata": {},
   "source": [
    "First, define a non-data descriptor class FileCount that has the __get__ method which returns the number of files in a folder:"
   ]
  },
  {
   "cell_type": "code",
   "execution_count": 6,
   "id": "cb54288e-93a4-44c6-a87f-e68a563719ec",
   "metadata": {},
   "outputs": [],
   "source": [
    "import os\n",
    "\n",
    "class FileCount:\n",
    "    \n",
    "    def __get__(self, instance, owner):\n",
    "        print('The __get__ was called')\n",
    "        return len(os.listdir(instance.path))"
   ]
  },
  {
   "cell_type": "markdown",
   "id": "949532e5-e898-4b1a-8013-9b329034556d",
   "metadata": {},
   "source": [
    "Second, define a Folder class that uses the FileCount descriptor:"
   ]
  },
  {
   "cell_type": "code",
   "execution_count": 7,
   "id": "93a60e9e-8069-4b80-a37a-7027f72f2635",
   "metadata": {},
   "outputs": [],
   "source": [
    "class Folder:\n",
    "    \n",
    "    count = FileCount()\n",
    "    \n",
    "    def __init__(self, path):\n",
    "        self.path = path"
   ]
  },
  {
   "cell_type": "markdown",
   "id": "f2d94cb2-2ad9-4411-911a-cb4d73e8375f",
   "metadata": {},
   "source": [
    "Third, create an instance of the Folder class and access the count attribute:"
   ]
  },
  {
   "cell_type": "code",
   "execution_count": 8,
   "id": "36cd861d-d225-4ec4-9f20-e81f237eaf24",
   "metadata": {},
   "outputs": [
    {
     "name": "stdout",
     "output_type": "stream",
     "text": [
      "The __get__ was called\n",
      "file count:  19\n"
     ]
    }
   ],
   "source": [
    "folder = Folder('/')\n",
    "print('file count: ', folder.count)"
   ]
  },
  {
   "cell_type": "markdown",
   "id": "d7056c51-858b-409f-a8ad-e29d3322ca9b",
   "metadata": {},
   "source": [
    "After that, set the count attribute of the folder instance to 100 and access the count attribute:"
   ]
  },
  {
   "cell_type": "code",
   "execution_count": 9,
   "id": "7c5f9298-eaa9-4402-8b54-4461ef9e7202",
   "metadata": {},
   "outputs": [
    {
     "name": "stdout",
     "output_type": "stream",
     "text": [
      "file count:  100\n"
     ]
    }
   ],
   "source": [
    "folder.__dict__['count'] = 100\n",
    "print('file count: ', folder.count)"
   ]
  },
  {
   "cell_type": "markdown",
   "id": "6f472138-547c-4370-b841-f28a6b141383",
   "metadata": {},
   "source": [
    "### Data Descriptor"
   ]
  },
  {
   "cell_type": "code",
   "execution_count": 10,
   "id": "64b432a4-077c-42ae-935b-dea568db2522",
   "metadata": {},
   "outputs": [],
   "source": [
    "class Coordinate:\n",
    "    \n",
    "    def __get__(self, instance, owner):\n",
    "        print('The __get__ was called')\n",
    "        \n",
    "    def __set__(self, instance, value):\n",
    "        print('The __set__ was called')"
   ]
  },
  {
   "cell_type": "markdown",
   "id": "77d52b76-f6b1-4e87-8c38-de2f4bb6aa23",
   "metadata": {},
   "source": [
    "Second, define a Point class that uses the Coordinate descriptor:"
   ]
  },
  {
   "cell_type": "code",
   "execution_count": 11,
   "id": "39515834-fb0d-40f4-861b-8c708b44f4fb",
   "metadata": {},
   "outputs": [],
   "source": [
    "class Point:\n",
    "    \n",
    "    x = Coordinate()\n",
    "    y = Coordinate()"
   ]
  },
  {
   "cell_type": "markdown",
   "id": "40b2b0f6-7774-4690-9979-f724e0e67127",
   "metadata": {},
   "source": [
    "Third, create a new instance of the Point class and assign a value to the x attribute of the p instance:"
   ]
  },
  {
   "cell_type": "code",
   "execution_count": 12,
   "id": "119ab84c-e12b-4737-890a-e0f18cdca59e",
   "metadata": {},
   "outputs": [
    {
     "name": "stdout",
     "output_type": "stream",
     "text": [
      "The __set__ was called\n"
     ]
    }
   ],
   "source": [
    "p = Point()\n",
    "p.x = 10"
   ]
  },
  {
   "cell_type": "code",
   "execution_count": 13,
   "id": "4f0ec316-8bd4-4fb0-baa8-4da031a2f536",
   "metadata": {},
   "outputs": [
    {
     "name": "stdout",
     "output_type": "stream",
     "text": [
      "The __get__ was called\n"
     ]
    }
   ],
   "source": [
    "p.x"
   ]
  },
  {
   "cell_type": "markdown",
   "id": "7dab299f-0849-4b4e-a2a2-4f3054ec8cb5",
   "metadata": {},
   "source": [
    "### Summary\n",
    "- Data descriptors are objects of a class that implements __set__ method (and/or __delete__ method)\n",
    "- Non-data descriptors are objects of a class that have the __get__ method only.\n",
    "- When accessing object’s attributes, data descriptors override the instance’s attributes and instance’s attributes override non-data descriptors."
   ]
  },
  {
   "cell_type": "code",
   "execution_count": null,
   "id": "777a86c8-58cd-46c9-8d7e-002439e5a940",
   "metadata": {},
   "outputs": [],
   "source": []
  }
 ],
 "metadata": {
  "kernelspec": {
   "display_name": "Python 3 (ipykernel)",
   "language": "python",
   "name": "python3"
  },
  "language_info": {
   "codemirror_mode": {
    "name": "ipython",
    "version": 3
   },
   "file_extension": ".py",
   "mimetype": "text/x-python",
   "name": "python",
   "nbconvert_exporter": "python",
   "pygments_lexer": "ipython3",
   "version": "3.9.12"
  }
 },
 "nbformat": 4,
 "nbformat_minor": 5
}
