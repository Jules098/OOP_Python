{
 "cells": [
  {
   "cell_type": "markdown",
   "id": "d62230e0-09cf-41ba-8cf5-705441fe1820",
   "metadata": {},
   "source": [
    "### Introduction to Python Descriptors"
   ]
  },
  {
   "cell_type": "markdown",
   "id": "dae7ff8a-b550-4a40-a538-946fe7313d7e",
   "metadata": {},
   "source": [
    "Suppose you have a class Person with two instance attributes first_name and last_name:"
   ]
  },
  {
   "cell_type": "code",
   "execution_count": 1,
   "id": "ce149613-26c2-4542-9a58-c5406bc7e3b3",
   "metadata": {},
   "outputs": [],
   "source": [
    "class Person:\n",
    "    \n",
    "    def __init__(self, first_name, last_name):\n",
    "        self.first_name = first_name\n",
    "        self.last_name = last_name"
   ]
  },
  {
   "cell_type": "markdown",
   "id": "9eeb2e48-bbc4-492f-b721-ad1a45ab4ca7",
   "metadata": {},
   "source": [
    "And you want the first_name and last_name attributes to be non-empty strings. These plain attributes cannot guarantee this.\n",
    "\n",
    "To enforce the data validity, you can use property with a getter and setter methods, like this:"
   ]
  },
  {
   "cell_type": "code",
   "execution_count": 2,
   "id": "2f42b675-c091-4022-9489-2dd01d0a8265",
   "metadata": {},
   "outputs": [],
   "source": [
    "class Person:\n",
    "    \n",
    "    def __init__(self, first_name, last_name):\n",
    "        self.first_name = first_name\n",
    "        self.last_name = last_name\n",
    "        \n",
    "    @property\n",
    "    def first_name(self):\n",
    "        return self._first_name\n",
    "    \n",
    "    @first_name.setter\n",
    "    def first_name(self, value):\n",
    "        if not isinstance(value, str):\n",
    "            raise ValueError('The first name must be a string')\n",
    "        \n",
    "        if len(value) == 0:\n",
    "            raise ValueError('The first name cannot be empty')\n",
    "        \n",
    "        self._first_name = value\n",
    "    \n",
    "    @property\n",
    "    def last_name(self):\n",
    "        return self._last_name\n",
    "    \n",
    "    @last_name.setter\n",
    "    def last_name(self, value):\n",
    "        if not isinstance(value, str):\n",
    "            raise ValueError('The last name must be a string')\n",
    "            \n",
    "        if len(value) == 0:\n",
    "            raise ValueError('The last name cannot be empty')\n",
    "            \n",
    "        self._last_name = value"
   ]
  },
  {
   "cell_type": "markdown",
   "id": "43a2a2d2-2418-4dbf-a0aa-2ab49724977a",
   "metadata": {},
   "source": [
    "First, define a descriptor class that implements three methods __set_name__, __get__, and __set__:"
   ]
  },
  {
   "cell_type": "code",
   "execution_count": 3,
   "id": "4c600c5c-4450-4a35-90f4-1281a543d349",
   "metadata": {},
   "outputs": [],
   "source": [
    "class RequiredString:\n",
    "    \n",
    "    def __set_name__(self, owner, name):\n",
    "        self.property_name = name\n",
    "        \n",
    "    def __get__(self, instance, owner):\n",
    "        if instance is None:\n",
    "            return self\n",
    "        \n",
    "        return instance.__dict__[self.property_name] or None\n",
    "    \n",
    "    def __set__(self, instance, value):\n",
    "        if not isinstance(value, str):\n",
    "            raise ValueError(f'The {self.property_name} must be a string')\n",
    "            \n",
    "        if len(value) == 0:\n",
    "            raise ValueError(f'The {self.property_name} cannot be empty')\n",
    "            \n",
    "        instance.__dict__[self.property_name] = value\n",
    "    "
   ]
  },
  {
   "cell_type": "markdown",
   "id": "26b9af20-bf94-450d-b316-28e7a06a7a7c",
   "metadata": {},
   "source": [
    "Second, use the RequiredString class in the Person class:"
   ]
  },
  {
   "cell_type": "code",
   "execution_count": 4,
   "id": "39442ffc-3329-49da-8771-71b5f8e1e6bc",
   "metadata": {},
   "outputs": [],
   "source": [
    "class Person:\n",
    "    \n",
    "    first_name = RequiredString()\n",
    "    last_name = RequiredString()"
   ]
  },
  {
   "cell_type": "code",
   "execution_count": 5,
   "id": "5a156b6e-c0a8-44ee-ab9e-b292fbf97e74",
   "metadata": {},
   "outputs": [
    {
     "name": "stdout",
     "output_type": "stream",
     "text": [
      "The first_name cannot be empty\n"
     ]
    }
   ],
   "source": [
    "try:\n",
    "    person = Person()\n",
    "    person.first_name = ''\n",
    "except ValueError as e:\n",
    "    print(e)"
   ]
  },
  {
   "cell_type": "markdown",
   "id": "a6f36241-e335-45f4-aea4-6e20a803ec07",
   "metadata": {},
   "source": [
    "### Descriptor Protocol"
   ]
  },
  {
   "cell_type": "markdown",
   "id": "0af22a89-ce23-4189-b3e2-48330efe9e6a",
   "metadata": {},
   "source": [
    "In Python, the descriptor protocol consists of three methods:\n",
    "\n",
    "- __get__ gets an attribute value\n",
    "- __set__ sets an attribute value\n",
    "- __delete__ deletes an attribute"
   ]
  },
  {
   "cell_type": "markdown",
   "id": "34965f57-84ea-4bf4-ab52-477482da6dda",
   "metadata": {},
   "source": [
    "### What is a Descriptor"
   ]
  },
  {
   "cell_type": "markdown",
   "id": "ed11e165-9ec9-4488-adb7-e4d7386b720f",
   "metadata": {},
   "source": [
    "Descriptors have two types: data descriptor and non-data descriptor.\n",
    "\n",
    "1. A data descriptor is an object of a class that implements the __set__ and/or __delete__ method.\n",
    "2. A non-data descriptor is an object that implements the __get__ method only."
   ]
  },
  {
   "cell_type": "markdown",
   "id": "135419d7-0ba7-4c35-bab8-d14bbacd21e1",
   "metadata": {},
   "source": [
    "### How Descriptors Work"
   ]
  },
  {
   "cell_type": "code",
   "execution_count": 6,
   "id": "ba82ffa9-f679-49ee-8128-5b87472e5d14",
   "metadata": {},
   "outputs": [
    {
     "name": "stdout",
     "output_type": "stream",
     "text": [
      "__set_name__ was called with owner=<class '__main__.Person'> and name=first_name\n",
      "__set_name__ was called with owner=<class '__main__.Person'> and name=last_name\n"
     ]
    }
   ],
   "source": [
    "class RequiredString:\n",
    "    \n",
    "    def __set_name__(self, owner, name):\n",
    "        print(f'__set_name__ was called with owner={owner} and name={name}')\n",
    "        self.property_name = name\n",
    "\n",
    "    def __get__(self, instance, owner):\n",
    "        print(f'__get__ was called with instance={instance} and owner={owner}')\n",
    "        if instance is None:\n",
    "            return self\n",
    "\n",
    "        return instance.__dict__[self.property_name] or None\n",
    "\n",
    "    def __set__(self, instance, value):\n",
    "        print(f'__set__ was called with instance={instance} and value={value}')\n",
    "\n",
    "        if not isinstance(value, str):\n",
    "            raise ValueError(f'The {self.property_name} must a string')\n",
    "\n",
    "        if len(value) == 0:\n",
    "            raise ValueError(f'The {self.property_name} cannot be empty')\n",
    "\n",
    "        instance.__dict__[self.property_name] = value\n",
    "\n",
    "\n",
    "class Person:\n",
    "    first_name = RequiredString()\n",
    "    last_name = RequiredString()"
   ]
  },
  {
   "cell_type": "markdown",
   "id": "0f006e82-fb38-46bd-a585-a9b99fa6fcd1",
   "metadata": {},
   "source": [
    "### The __set_name__ Method"
   ]
  },
  {
   "cell_type": "code",
   "execution_count": 7,
   "id": "1161d850-c599-4ac1-873d-4ccd411a891d",
   "metadata": {},
   "outputs": [],
   "source": [
    "first_name = RequiredString()"
   ]
  },
  {
   "cell_type": "code",
   "execution_count": 8,
   "id": "95c34f24-e45d-40e1-8fd0-b44c4ac2aa96",
   "metadata": {},
   "outputs": [
    {
     "name": "stdout",
     "output_type": "stream",
     "text": [
      "__set_name__ was called with owner=<class '__main__.Person'> and name=first_name\n"
     ]
    }
   ],
   "source": [
    "first_name.__set_name__(Person, 'first_name')"
   ]
  },
  {
   "cell_type": "code",
   "execution_count": null,
   "id": "ef87c2e2-0002-431e-81f5-4258d596b64d",
   "metadata": {},
   "outputs": [],
   "source": [
    "self.property_name = name"
   ]
  },
  {
   "cell_type": "code",
   "execution_count": 10,
   "id": "93bd9648-abf8-4fd5-b588-77a4bbed5218",
   "metadata": {},
   "outputs": [
    {
     "name": "stdout",
     "output_type": "stream",
     "text": [
      "mappingproxy({'__dict__': <attribute '__dict__' of 'Person' objects>,\n",
      "              '__doc__': None,\n",
      "              '__module__': '__main__',\n",
      "              '__weakref__': <attribute '__weakref__' of 'Person' objects>,\n",
      "              'first_name': <__main__.RequiredString object at 0x7f896a7ed490>,\n",
      "              'last_name': <__main__.RequiredString object at 0x7f896a7edeb0>})\n"
     ]
    }
   ],
   "source": [
    "from pprint import pprint\n",
    "\n",
    "pprint(Person.__dict__)"
   ]
  },
  {
   "cell_type": "markdown",
   "id": "07f83caf-eb55-4ea2-a02b-8a8c04116285",
   "metadata": {},
   "source": [
    "### The __set__ Method"
   ]
  },
  {
   "cell_type": "code",
   "execution_count": 11,
   "id": "fdb9bb69-7258-4d89-ba11-bb6e81d325b7",
   "metadata": {},
   "outputs": [],
   "source": [
    "def __set__(self, instance, value):\n",
    "    \n",
    "    print(f'__set__ was called with instance={instance} and value={value}')\n",
    "\n",
    "    if not isinstance(value, str):\n",
    "        raise ValueError(f'The {self.property_name} must be a string')\n",
    "\n",
    "    if len(value) == 0:\n",
    "        raise ValueError(f'The {self.property_name} cannot be empty')\n",
    "\n",
    "    instance.__dict__[self.property_name] = value"
   ]
  },
  {
   "cell_type": "code",
   "execution_count": 12,
   "id": "776ed20c-5271-4cf4-ad84-4417612bd410",
   "metadata": {},
   "outputs": [
    {
     "name": "stdout",
     "output_type": "stream",
     "text": [
      "__set__ was called with instance=<__main__.Person object at 0x7f896a5ddb80> and value=John\n"
     ]
    }
   ],
   "source": [
    "person = Person()\n",
    "person.first_name = 'John'"
   ]
  },
  {
   "cell_type": "code",
   "execution_count": null,
   "id": "e03e065c-9791-4040-8fbe-28b77a92fac2",
   "metadata": {},
   "outputs": [],
   "source": [
    "instance.__dict__[self.property_name] = value"
   ]
  },
  {
   "cell_type": "code",
   "execution_count": 14,
   "id": "cc505a7d-3824-4545-b31d-4b209a9fdc8b",
   "metadata": {},
   "outputs": [
    {
     "name": "stdout",
     "output_type": "stream",
     "text": [
      "{}\n",
      "__set__ was called with instance=<__main__.Person object at 0x7f896aff7640> and value=John\n",
      "__set__ was called with instance=<__main__.Person object at 0x7f896aff7640> and value=Doe\n",
      "{'first_name': 'John', 'last_name': 'Doe'}\n"
     ]
    }
   ],
   "source": [
    "person = Person()\n",
    "print(person.__dict__)  # {}\n",
    "\n",
    "person.first_name = 'John'\n",
    "person.last_name = 'Doe'\n",
    "\n",
    "print(person.__dict__) # {'first_name': 'John', 'last_name': 'Doe'}"
   ]
  },
  {
   "cell_type": "markdown",
   "id": "9e44e42e-72e8-495d-b852-993e618402fc",
   "metadata": {},
   "source": [
    "### The __get__ Method"
   ]
  },
  {
   "cell_type": "code",
   "execution_count": 15,
   "id": "09523a6a-cb0a-47d1-886b-6543d26aadad",
   "metadata": {},
   "outputs": [],
   "source": [
    "def __get__(self, instance, owner):\n",
    "    \n",
    "    print(f'__get__ was called with instance={instance} and owner={owner}')\n",
    "    if instance is None:\n",
    "        return self\n",
    "\n",
    "    return instance.__dict__[self.property_name] or None"
   ]
  },
  {
   "cell_type": "code",
   "execution_count": 16,
   "id": "62efe9b4-e470-47a5-9f41-d2200b277c2d",
   "metadata": {},
   "outputs": [
    {
     "name": "stdout",
     "output_type": "stream",
     "text": [
      "__set__ was called with instance=<__main__.Person object at 0x7f896a76e220> and value=John\n",
      "__get__ was called with instance=<__main__.Person object at 0x7f896a76e220> and owner=<class '__main__.Person'>\n",
      "John\n"
     ]
    }
   ],
   "source": [
    "person = Person()\n",
    "\n",
    "person.first_name = 'John'\n",
    "print(person.first_name)"
   ]
  },
  {
   "cell_type": "code",
   "execution_count": 17,
   "id": "98166ef5-4123-4383-8fbb-3279bbdf9764",
   "metadata": {},
   "outputs": [
    {
     "name": "stdout",
     "output_type": "stream",
     "text": [
      "__get__ was called with instance=None and owner=<class '__main__.Person'>\n",
      "<__main__.RequiredString object at 0x7f896a7ed490>\n"
     ]
    }
   ],
   "source": [
    "print(Person.first_name)"
   ]
  },
  {
   "cell_type": "markdown",
   "id": "8e468ac0-5c3a-4119-b7fd-82ba6cc0d7ac",
   "metadata": {},
   "source": [
    "### Summary\n",
    "- Descriptors are objects of class that implements one of the method in the descriptor protocol including __set__, __get__, __del__"
   ]
  },
  {
   "cell_type": "code",
   "execution_count": null,
   "id": "2d7f40f5-99a2-4c64-8b5e-aac7afab172f",
   "metadata": {},
   "outputs": [],
   "source": []
  }
 ],
 "metadata": {
  "kernelspec": {
   "display_name": "Python 3 (ipykernel)",
   "language": "python",
   "name": "python3"
  },
  "language_info": {
   "codemirror_mode": {
    "name": "ipython",
    "version": 3
   },
   "file_extension": ".py",
   "mimetype": "text/x-python",
   "name": "python",
   "nbconvert_exporter": "python",
   "pygments_lexer": "ipython3",
   "version": "3.9.12"
  }
 },
 "nbformat": 4,
 "nbformat_minor": 5
}
