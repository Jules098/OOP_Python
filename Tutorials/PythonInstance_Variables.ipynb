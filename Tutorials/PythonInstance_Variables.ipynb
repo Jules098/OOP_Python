{
 "cells": [
  {
   "cell_type": "markdown",
   "id": "1988be10-131c-441a-a501-3853e1327f53",
   "metadata": {},
   "source": [
    "### Introduction to the Python instance variables"
   ]
  },
  {
   "cell_type": "code",
   "execution_count": 1,
   "id": "74e66299-c2b7-498a-a482-0ab526d9a895",
   "metadata": {},
   "outputs": [
    {
     "name": "stdout",
     "output_type": "stream",
     "text": [
      "mappingproxy({'__dict__': <attribute '__dict__' of 'HtmlDocument' objects>,\n",
      "              '__doc__': None,\n",
      "              '__module__': '__main__',\n",
      "              '__weakref__': <attribute '__weakref__' of 'HtmlDocument' objects>,\n",
      "              'extension': 'html',\n",
      "              'version': 5})\n"
     ]
    }
   ],
   "source": [
    "from pprint import pprint\n",
    "\n",
    "class HtmlDocument:\n",
    "    version = 5\n",
    "    extension = 'html'\n",
    "    \n",
    "pprint(HtmlDocument.__dict__)"
   ]
  },
  {
   "cell_type": "code",
   "execution_count": 2,
   "id": "181cbfb6-6ebb-4562-913b-2b1eee6027ed",
   "metadata": {},
   "outputs": [
    {
     "name": "stdout",
     "output_type": "stream",
     "text": [
      "5\n",
      "html\n"
     ]
    }
   ],
   "source": [
    "print(HtmlDocument.version)\n",
    "print(HtmlDocument.extension)"
   ]
  },
  {
   "cell_type": "code",
   "execution_count": 3,
   "id": "03369ef7-a596-45fe-a371-a7043c444ee1",
   "metadata": {},
   "outputs": [],
   "source": [
    "home = HtmlDocument()"
   ]
  },
  {
   "cell_type": "code",
   "execution_count": 4,
   "id": "b6a839ea-8d88-4985-8c98-4a7cfa198113",
   "metadata": {},
   "outputs": [
    {
     "name": "stdout",
     "output_type": "stream",
     "text": [
      "{}\n"
     ]
    }
   ],
   "source": [
    "pprint(home.__dict__)"
   ]
  },
  {
   "cell_type": "code",
   "execution_count": 5,
   "id": "cf68d239-687e-49b7-8248-1294876b5f0f",
   "metadata": {},
   "outputs": [
    {
     "name": "stdout",
     "output_type": "stream",
     "text": [
      "<class 'dict'>\n"
     ]
    }
   ],
   "source": [
    "print(type(home.__dict__))"
   ]
  },
  {
   "cell_type": "code",
   "execution_count": 6,
   "id": "c9c27ab3-e396-4c52-a1b3-f0bc68be0b2d",
   "metadata": {},
   "outputs": [
    {
     "name": "stdout",
     "output_type": "stream",
     "text": [
      "html\n",
      "5\n"
     ]
    }
   ],
   "source": [
    "print(home.extension)\n",
    "print(home.version)"
   ]
  },
  {
   "cell_type": "code",
   "execution_count": 7,
   "id": "690509e6-dac1-4c8e-be93-c4ed5c136cf5",
   "metadata": {},
   "outputs": [],
   "source": [
    "home.version = 6"
   ]
  },
  {
   "cell_type": "code",
   "execution_count": 8,
   "id": "6b3d5998-2c08-467e-a393-ca2c42fb969d",
   "metadata": {},
   "outputs": [
    {
     "name": "stdout",
     "output_type": "stream",
     "text": [
      "{'version': 6}\n"
     ]
    }
   ],
   "source": [
    "print(home.__dict__)"
   ]
  },
  {
   "cell_type": "code",
   "execution_count": 9,
   "id": "ea4fcdc1-eb1c-4d69-bb3a-2198685ac644",
   "metadata": {},
   "outputs": [
    {
     "name": "stdout",
     "output_type": "stream",
     "text": [
      "6\n"
     ]
    }
   ],
   "source": [
    "print(home.version)"
   ]
  },
  {
   "cell_type": "code",
   "execution_count": 10,
   "id": "99e3cdb4-0c79-41e3-b93a-2a4a5692f5b6",
   "metadata": {},
   "outputs": [
    {
     "name": "stdout",
     "output_type": "stream",
     "text": [
      "text/html\n"
     ]
    }
   ],
   "source": [
    "HtmlDocument.media_type = 'text/html'\n",
    "print(home.media_type)"
   ]
  },
  {
   "cell_type": "markdown",
   "id": "97b50333-4f07-49e0-aa37-28f912916ede",
   "metadata": {},
   "source": [
    "### Initializing Instance Variables"
   ]
  },
  {
   "cell_type": "code",
   "execution_count": 11,
   "id": "e5379fdb-b4f6-4cb4-84a7-3e81b5387bd1",
   "metadata": {},
   "outputs": [],
   "source": [
    "class HtmlDocument:\n",
    "    version = 5\n",
    "    extension = 'html'\n",
    "    \n",
    "    def __init__(self, name, contents):\n",
    "        self.name = name\n",
    "        self.contents = contents"
   ]
  },
  {
   "cell_type": "code",
   "execution_count": 12,
   "id": "6ba5421a-efdd-4ad7-8924-ae0d9118db21",
   "metadata": {},
   "outputs": [],
   "source": [
    "blank = HtmlDocument('blank', '')"
   ]
  },
  {
   "cell_type": "code",
   "execution_count": 16,
   "id": "b2b1df44-4642-4b93-8b51-ddc7ad83d751",
   "metadata": {},
   "outputs": [
    {
     "name": "stdout",
     "output_type": "stream",
     "text": [
      "{'__module__': '__main__', 'version': 5, 'extension': 'html', '__init__': <function HtmlDocument.__init__ at 0x7fcd724bf160>, '__dict__': <attribute '__dict__' of 'HtmlDocument' objects>, '__weakref__': <attribute '__weakref__' of 'HtmlDocument' objects>, '__doc__': None}\n"
     ]
    }
   ],
   "source": [
    "print(HtmlDocument.__dict__)"
   ]
  },
  {
   "cell_type": "markdown",
   "id": "3746e4fc-7b23-4baf-80bf-9fee59251369",
   "metadata": {},
   "source": [
    "### Summary\n",
    "- Instance variables are bound to a specific instance of a class.\n",
    "- Python stores instance variables in the __dict__ attribute of the instance. Each instance has its own __dict__ attribute and the keys in this __dict__ may be different.\n",
    "- When you access a variable via the instance, Python finds the variable in the __dict__ attribute of the instance. If it cannot find the variable, it goes up and look it up in the __dict__ attribute of the class."
   ]
  },
  {
   "cell_type": "code",
   "execution_count": null,
   "id": "d8eda7bf-a3f3-4f67-8f40-3a52f348c2e3",
   "metadata": {},
   "outputs": [],
   "source": []
  }
 ],
 "metadata": {
  "kernelspec": {
   "display_name": "Python 3 (ipykernel)",
   "language": "python",
   "name": "python3"
  },
  "language_info": {
   "codemirror_mode": {
    "name": "ipython",
    "version": 3
   },
   "file_extension": ".py",
   "mimetype": "text/x-python",
   "name": "python",
   "nbconvert_exporter": "python",
   "pygments_lexer": "ipython3",
   "version": "3.9.12"
  }
 },
 "nbformat": 4,
 "nbformat_minor": 5
}
