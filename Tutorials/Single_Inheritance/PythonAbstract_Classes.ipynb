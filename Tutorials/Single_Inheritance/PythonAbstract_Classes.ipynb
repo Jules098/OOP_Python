{
 "cells": [
  {
   "cell_type": "markdown",
   "id": "dcf0ecc2-5711-4e93-b43b-487bf1508ee8",
   "metadata": {},
   "source": [
    "### Introduction to Python Abstract Classes"
   ]
  },
  {
   "cell_type": "code",
   "execution_count": 1,
   "id": "afe28619-c42d-4642-86f6-b0664eebc119",
   "metadata": {},
   "outputs": [],
   "source": [
    "from abc import ABC"
   ]
  },
  {
   "cell_type": "code",
   "execution_count": 2,
   "id": "abfe53de-8089-4489-a03f-5e4b31356375",
   "metadata": {},
   "outputs": [],
   "source": [
    "class AbstractClassName(ABC):\n",
    "    pass"
   ]
  },
  {
   "cell_type": "code",
   "execution_count": 5,
   "id": "b9030b12-3053-4e51-9510-c4554fe42d10",
   "metadata": {},
   "outputs": [],
   "source": [
    "from abc import ABC, abstractmethod\n",
    "\n",
    "class AbstractClassName(ABC):\n",
    "    @abstractmethod\n",
    "    def abstract_method_name(self):\n",
    "        pass"
   ]
  },
  {
   "cell_type": "markdown",
   "id": "4313d0df-121b-496c-972a-fd276c8ce91d",
   "metadata": {},
   "source": [
    "### Python Abstract Class Example"
   ]
  },
  {
   "cell_type": "markdown",
   "id": "1522dfa2-7494-4d9a-bfef-94c7e9e55e12",
   "metadata": {},
   "source": [
    "### The Employee Class"
   ]
  },
  {
   "cell_type": "code",
   "execution_count": 6,
   "id": "2432e13b-e083-4b19-938c-1a78e617c25b",
   "metadata": {},
   "outputs": [],
   "source": [
    "from abc import ABC, abstractmethod\n",
    "\n",
    "class Employee(ABC):\n",
    "    \n",
    "    def __init__(self, first_name, last_name):\n",
    "        self.first_name = first_name\n",
    "        self.last_name = last_name\n",
    "        \n",
    "    @property\n",
    "    def full_name(self):\n",
    "        return f\"{self.first_name} {self.last_name}\"\n",
    "    \n",
    "    @abstractmethod\n",
    "    def get_salary(self):\n",
    "        pass"
   ]
  },
  {
   "cell_type": "markdown",
   "id": "443e4b4c-d5b7-493e-a1be-bf2b732ab996",
   "metadata": {},
   "source": [
    "### The Fulltime Employee Class"
   ]
  },
  {
   "cell_type": "code",
   "execution_count": 7,
   "id": "f27969b5-eb38-466a-88dd-802046986118",
   "metadata": {},
   "outputs": [],
   "source": [
    "class FulltimeEmployee(Employee):\n",
    "    \n",
    "    def __init__(self, first_name, last_name, salary):\n",
    "        super().__init__(first_name, last_name)\n",
    "        self.salary = salary\n",
    "        \n",
    "    def get_salary(self):\n",
    "        return self.salary"
   ]
  },
  {
   "cell_type": "markdown",
   "id": "00f76918-7eaf-4052-8ce9-e4507dec01ec",
   "metadata": {},
   "source": [
    "### The Hourly Employee Class"
   ]
  },
  {
   "cell_type": "code",
   "execution_count": 8,
   "id": "02616bb0-9e74-492c-9003-a2568ce4456d",
   "metadata": {},
   "outputs": [],
   "source": [
    "class HourlyEmployee(Employee):\n",
    "    \n",
    "    def __init__(self, first_name, last_name, worked_hours, rate):\n",
    "        super().__init__(first_name, last_name)\n",
    "        self.worked_hours = worked_hours\n",
    "        self.rate = rate\n",
    "        \n",
    "    def get_salary(self):\n",
    "        return self.worked_hours * self.rate"
   ]
  },
  {
   "cell_type": "markdown",
   "id": "81402869-ff83-4963-9539-8f6841dd7d5e",
   "metadata": {},
   "source": [
    "### The Payroll Class"
   ]
  },
  {
   "cell_type": "code",
   "execution_count": 9,
   "id": "28d4de48-20f0-4cd4-82a6-0627cce75035",
   "metadata": {},
   "outputs": [],
   "source": [
    "class Payroll:\n",
    "    \n",
    "    def __init__(self):\n",
    "        self.employee_list = []\n",
    "        \n",
    "    def add(self, employee):\n",
    "        self.employee_list.append(employee)\n",
    "    \n",
    "    def print(self):\n",
    "        for e in self.employee_list:\n",
    "            print(f\"{e.full_name} \\t ${e.get_salary()}\")"
   ]
  },
  {
   "cell_type": "markdown",
   "id": "045452c2-f966-4fa4-b0bc-96869bcc7e06",
   "metadata": {},
   "source": [
    "### The Main Program"
   ]
  },
  {
   "cell_type": "code",
   "execution_count": 11,
   "id": "9754977e-2c03-4bf7-9aef-3f1ff490145c",
   "metadata": {},
   "outputs": [
    {
     "name": "stdout",
     "output_type": "stream",
     "text": [
      "John Doe \t $6000\n",
      "Jane Doe \t $6500\n",
      "Jenifer Smith \t $10000\n",
      "David Wilson \t $15000\n",
      "Kevin Miller \t $15000\n"
     ]
    }
   ],
   "source": [
    "payroll = Payroll()\n",
    "\n",
    "payroll.add(FulltimeEmployee('John', 'Doe', 6000))\n",
    "payroll.add(FulltimeEmployee('Jane', 'Doe', 6500))\n",
    "payroll.add(HourlyEmployee('Jenifer', 'Smith', 200, 50))\n",
    "payroll.add(HourlyEmployee('David', 'Wilson', 150, 100))\n",
    "payroll.add(HourlyEmployee('Kevin', 'Miller', 100, 150))\n",
    "\n",
    "payroll.print()"
   ]
  },
  {
   "cell_type": "markdown",
   "id": "07983477-2e4e-4e1f-a278-ac4cf8c0ba35",
   "metadata": {},
   "source": [
    "### Summary\n",
    "- Abstract classes are classes that you cannot create instances from.\n",
    "- Use abc module to define abstract classes."
   ]
  },
  {
   "cell_type": "code",
   "execution_count": null,
   "id": "95d0bf38-dfed-45fa-a866-55c9147de0ca",
   "metadata": {},
   "outputs": [],
   "source": []
  }
 ],
 "metadata": {
  "kernelspec": {
   "display_name": "Python 3 (ipykernel)",
   "language": "python",
   "name": "python3"
  },
  "language_info": {
   "codemirror_mode": {
    "name": "ipython",
    "version": 3
   },
   "file_extension": ".py",
   "mimetype": "text/x-python",
   "name": "python",
   "nbconvert_exporter": "python",
   "pygments_lexer": "ipython3",
   "version": "3.9.12"
  }
 },
 "nbformat": 4,
 "nbformat_minor": 5
}
