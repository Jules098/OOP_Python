{
 "cells": [
  {
   "cell_type": "markdown",
   "id": "5b59dc09-3f05-4971-b7ae-ad6747454387",
   "metadata": {},
   "source": [
    "### Introduction to Python __slots__"
   ]
  },
  {
   "cell_type": "code",
   "execution_count": 3,
   "id": "0249a603-7f0a-4f8d-b533-55986a0b218b",
   "metadata": {},
   "outputs": [],
   "source": [
    "class Point2D:\n",
    "    \n",
    "    def __init__(self, x, y):\n",
    "        self.x = x\n",
    "        self.y = y\n",
    "        \n",
    "    def __repr__(self):\n",
    "        return f'Point2D({self.x}, {self.y})'"
   ]
  },
  {
   "cell_type": "code",
   "execution_count": 4,
   "id": "53cd2065-4523-4556-9dbd-145f40ebfc94",
   "metadata": {},
   "outputs": [
    {
     "name": "stdout",
     "output_type": "stream",
     "text": [
      "{'x': 0, 'y': 0}\n"
     ]
    }
   ],
   "source": [
    "point = Point2D(0, 0)\n",
    "print(point.__dict__)"
   ]
  },
  {
   "cell_type": "code",
   "execution_count": 5,
   "id": "4b14af64-ae82-45a7-9690-c44870f20d83",
   "metadata": {},
   "outputs": [],
   "source": [
    "class Point2D:\n",
    "    \n",
    "    __slots__ = ('x', 'y')\n",
    "    \n",
    "    def __init__(self, x, y):\n",
    "        self.x = x\n",
    "        self.y = y\n",
    "        \n",
    "    def __repr__(self):\n",
    "        return f'Point2D({self.x}, {self.y})'"
   ]
  },
  {
   "cell_type": "code",
   "execution_count": 6,
   "id": "edd34e07-d712-4fb4-b98d-be3e1e348a01",
   "metadata": {},
   "outputs": [
    {
     "ename": "AttributeError",
     "evalue": "'Point2D' object has no attribute '__dict__'",
     "output_type": "error",
     "traceback": [
      "\u001b[0;31m---------------------------------------------------------------------------\u001b[0m",
      "\u001b[0;31mAttributeError\u001b[0m                            Traceback (most recent call last)",
      "Input \u001b[0;32mIn [6]\u001b[0m, in \u001b[0;36m<cell line: 2>\u001b[0;34m()\u001b[0m\n\u001b[1;32m      1\u001b[0m point \u001b[38;5;241m=\u001b[39m Point2D(\u001b[38;5;241m0\u001b[39m, \u001b[38;5;241m0\u001b[39m)\n\u001b[0;32m----> 2\u001b[0m \u001b[38;5;28mprint\u001b[39m(\u001b[43mpoint\u001b[49m\u001b[38;5;241;43m.\u001b[39;49m\u001b[38;5;18;43m__dict__\u001b[39;49m)\n",
      "\u001b[0;31mAttributeError\u001b[0m: 'Point2D' object has no attribute '__dict__'"
     ]
    }
   ],
   "source": [
    "point = Point2D(0, 0)\n",
    "print(point.__dict__)"
   ]
  },
  {
   "cell_type": "code",
   "execution_count": 7,
   "id": "c05579bf-3ef4-4445-ac83-bda8bda71828",
   "metadata": {},
   "outputs": [
    {
     "name": "stdout",
     "output_type": "stream",
     "text": [
      "('x', 'y')\n"
     ]
    }
   ],
   "source": [
    "point = Point2D(0, 0)\n",
    "print(point.__slots__)"
   ]
  },
  {
   "cell_type": "code",
   "execution_count": 8,
   "id": "d47653e8-8467-434f-9fd5-34d0d596f184",
   "metadata": {},
   "outputs": [
    {
     "ename": "AttributeError",
     "evalue": "'Point2D' object has no attribute 'z'",
     "output_type": "error",
     "traceback": [
      "\u001b[0;31m---------------------------------------------------------------------------\u001b[0m",
      "\u001b[0;31mAttributeError\u001b[0m                            Traceback (most recent call last)",
      "Input \u001b[0;32mIn [8]\u001b[0m, in \u001b[0;36m<cell line: 1>\u001b[0;34m()\u001b[0m\n\u001b[0;32m----> 1\u001b[0m point\u001b[38;5;241m.\u001b[39mz \u001b[38;5;241m=\u001b[39m \u001b[38;5;241m0\u001b[39m\n",
      "\u001b[0;31mAttributeError\u001b[0m: 'Point2D' object has no attribute 'z'"
     ]
    }
   ],
   "source": [
    "point.z = 0"
   ]
  },
  {
   "cell_type": "code",
   "execution_count": 10,
   "id": "a73fb8b9-5845-4704-88dd-6a3fef91026f",
   "metadata": {},
   "outputs": [
    {
     "name": "stdout",
     "output_type": "stream",
     "text": [
      "mappingproxy({'__doc__': None,\n",
      "              '__init__': <function Point2D.__init__ at 0x7fddbb49f4c0>,\n",
      "              '__module__': '__main__',\n",
      "              '__repr__': <function Point2D.__repr__ at 0x7fddbb49f550>,\n",
      "              '__slots__': ('x', 'y'),\n",
      "              'color': 'black',\n",
      "              'x': <member 'x' of 'Point2D' objects>,\n",
      "              'y': <member 'y' of 'Point2D' objects>})\n"
     ]
    }
   ],
   "source": [
    "from pprint import pprint\n",
    "\n",
    "Point2D.color = 'black'\n",
    "pprint(Point2D.__dict__)"
   ]
  },
  {
   "cell_type": "markdown",
   "id": "18dcf841-c81e-4ec9-b4a4-36121330b98f",
   "metadata": {},
   "source": [
    "### Python __slots__ and Single Inheritance"
   ]
  },
  {
   "cell_type": "markdown",
   "id": "5f69cf11-b892-4a9e-9753-5d12f42dd5ca",
   "metadata": {},
   "source": [
    "#### The base class uses the slots but the subclass doesn't"
   ]
  },
  {
   "cell_type": "code",
   "execution_count": 12,
   "id": "afe9f6eb-5aec-4185-b51d-48f1019d0482",
   "metadata": {},
   "outputs": [
    {
     "name": "stdout",
     "output_type": "stream",
     "text": [
      "{'z': 30}\n"
     ]
    }
   ],
   "source": [
    "class Point2D:\n",
    "    \n",
    "    __slots__ = ('x', 'y')\n",
    "    \n",
    "    def __init__(self, x, y):\n",
    "        self.x = x\n",
    "        self.y = y\n",
    "        \n",
    "    def __repr__(self):\n",
    "        return f'Point2D({self.x}, {self.y})'\n",
    "    \n",
    "class Point3D(Point2D):\n",
    "    \n",
    "    def __init__(self, x, y, z):\n",
    "        super().__init__(x, y)\n",
    "        self.z = z\n",
    "        \n",
    "if __name__ == '__main__':\n",
    "    point = Point3D(10, 20, 30)\n",
    "    print(point.__dict__)"
   ]
  },
  {
   "cell_type": "markdown",
   "id": "b4192df2-5d55-4fa2-aef1-18e7f0940c7f",
   "metadata": {},
   "source": [
    "The Point3D class doesn’t have slots so its instance has the __dict__ attribute. In this case, the subclass Point3D uses slots from its base class (if available) and uses an instance dictionary."
   ]
  },
  {
   "cell_type": "code",
   "execution_count": 13,
   "id": "69aedfcc-cba7-450b-8bb9-9359b38226d3",
   "metadata": {},
   "outputs": [],
   "source": [
    "class Point3D(Point2D):\n",
    "    __slots__ = ('z',)\n",
    "\n",
    "    def __init__(self, x, y, z):\n",
    "        super().__init__(x, y)\n",
    "        self.z = z"
   ]
  },
  {
   "cell_type": "markdown",
   "id": "45eaf187-b786-40d3-b635-d6ee6f61bd89",
   "metadata": {},
   "source": [
    "#### The base class doesn't use slots nor does the subclass"
   ]
  },
  {
   "cell_type": "code",
   "execution_count": 14,
   "id": "743fcb23-becc-43d3-a9e0-3605164aac40",
   "metadata": {},
   "outputs": [
    {
     "name": "stdout",
     "output_type": "stream",
     "text": [
      "('x', 'y')\n",
      "{}\n",
      "{'color': 'black'}\n"
     ]
    }
   ],
   "source": [
    "class Shape:\n",
    "    pass\n",
    "\n",
    "class Point2D(Shape):\n",
    "    \n",
    "    __slots__ = ('x', 'y')\n",
    "    \n",
    "    def __init__(self, x, y):\n",
    "        self.x = x\n",
    "        self.y = y\n",
    "        \n",
    "if __name__ == '__main__':\n",
    "    # use both slots and dict to store instance attributes\n",
    "    point = Point2D(10, 10)\n",
    "    print(point.__slots__)\n",
    "    print(point.__dict__)\n",
    "\n",
    "    # can add the attribute at runtime\n",
    "    point.color = 'black'\n",
    "    print(point.__dict__)"
   ]
  },
  {
   "cell_type": "markdown",
   "id": "8243961f-443a-48f5-b487-5cb0de49055a",
   "metadata": {},
   "source": [
    "### Summary\n",
    "- Python uses dictionaries to store instance attributes of instances of a class. This allows you to dynamically add more attributes to instances at runtime but also create a memory overhead.\n",
    "- Define __slots__ in the class if it has predetermined instances attributes to instruct Python not to use dictionaries to store instance attributes. The __slots__ optimizes the memory if the class has many objects."
   ]
  },
  {
   "cell_type": "code",
   "execution_count": null,
   "id": "f01f740d-0ad2-4ee1-af8c-409365b0e19a",
   "metadata": {},
   "outputs": [],
   "source": []
  }
 ],
 "metadata": {
  "kernelspec": {
   "display_name": "Python 3 (ipykernel)",
   "language": "python",
   "name": "python3"
  },
  "language_info": {
   "codemirror_mode": {
    "name": "ipython",
    "version": 3
   },
   "file_extension": ".py",
   "mimetype": "text/x-python",
   "name": "python",
   "nbconvert_exporter": "python",
   "pygments_lexer": "ipython3",
   "version": "3.9.12"
  }
 },
 "nbformat": 4,
 "nbformat_minor": 5
}
