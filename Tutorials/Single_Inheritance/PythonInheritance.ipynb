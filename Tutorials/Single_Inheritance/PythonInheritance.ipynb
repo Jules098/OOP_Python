{
 "cells": [
  {
   "cell_type": "markdown",
   "id": "b7474cc9-fff2-46a4-b9ac-587b1d11ee8a",
   "metadata": {},
   "source": [
    "### Introduction to Python Inheritance"
   ]
  },
  {
   "cell_type": "code",
   "execution_count": 1,
   "id": "46c55c5a-508e-4547-825f-37b999ce8e2f",
   "metadata": {},
   "outputs": [],
   "source": [
    "class Person:\n",
    "    \n",
    "    def __init__(self, name):\n",
    "        self.name = name\n",
    "        \n",
    "    def greet(self):\n",
    "        return f\"Hi, it's {self.name}\""
   ]
  },
  {
   "cell_type": "code",
   "execution_count": 2,
   "id": "ee1a785b-d2e7-41e8-b3ad-70613a5e7e51",
   "metadata": {},
   "outputs": [],
   "source": [
    "class Employee:\n",
    "    \n",
    "    def __init__(self, name, job_title):\n",
    "        self.name = name\n",
    "        self.job_title = job_title\n",
    "        \n",
    "    def greet(self):\n",
    "        return f\"Hi, it's {self.name}\""
   ]
  },
  {
   "cell_type": "code",
   "execution_count": 4,
   "id": "6e738ea8-b1c0-40fd-b031-a4d4def71a1c",
   "metadata": {},
   "outputs": [],
   "source": [
    "class Employee(Person):\n",
    "    \n",
    "    def __init__(self, name, job_title):\n",
    "        self.name = name\n",
    "        self.job_title = job_title"
   ]
  },
  {
   "cell_type": "code",
   "execution_count": 6,
   "id": "07360c7a-72aa-4d82-8036-bda60073d028",
   "metadata": {},
   "outputs": [
    {
     "name": "stdout",
     "output_type": "stream",
     "text": [
      "Hi, it's John\n"
     ]
    }
   ],
   "source": [
    "employee = Employee('John', 'Python Developer')\n",
    "print(employee.greet())"
   ]
  },
  {
   "cell_type": "markdown",
   "id": "79c03848-c229-479d-a29f-39481bfbe46e",
   "metadata": {},
   "source": [
    "### Inheritance Terminology"
   ]
  },
  {
   "cell_type": "markdown",
   "id": "30ec914c-2be8-4dff-b868-be0a4c4db1f9",
   "metadata": {},
   "source": [
    "### Type vs Isinstance"
   ]
  },
  {
   "cell_type": "code",
   "execution_count": 8,
   "id": "ab193bcc-0638-4f4e-86a8-c7eebe767a83",
   "metadata": {},
   "outputs": [
    {
     "name": "stdout",
     "output_type": "stream",
     "text": [
      "<class '__main__.Person'>\n",
      "<class '__main__.Employee'>\n"
     ]
    }
   ],
   "source": [
    "person = Person('Jane')\n",
    "print(type(person))\n",
    "\n",
    "employee = Employee('John', 'Python Developer')\n",
    "print(type(employee))"
   ]
  },
  {
   "cell_type": "code",
   "execution_count": 9,
   "id": "450c5052-53a3-4f84-9477-dbd33bcfdf6d",
   "metadata": {},
   "outputs": [
    {
     "name": "stdout",
     "output_type": "stream",
     "text": [
      "True\n",
      "True\n",
      "True\n",
      "False\n"
     ]
    }
   ],
   "source": [
    "person = Person('Jane')\n",
    "print(isinstance(person, Person))  # True\n",
    "\n",
    "employee = Employee('John', 'Python Developer')\n",
    "print(isinstance(employee, Person))  # True\n",
    "print(isinstance(employee, Employee))  # True\n",
    "print(isinstance(person, Employee))  # False"
   ]
  },
  {
   "cell_type": "markdown",
   "id": "72515fa7-8bf3-4bb1-b5f3-318a0ea1d8de",
   "metadata": {},
   "source": [
    "### Issubclass"
   ]
  },
  {
   "cell_type": "code",
   "execution_count": 10,
   "id": "0a72da16-ea7b-4b11-8341-03ae9597124c",
   "metadata": {},
   "outputs": [
    {
     "name": "stdout",
     "output_type": "stream",
     "text": [
      "True\n"
     ]
    }
   ],
   "source": [
    "print(issubclass(Employee, Person)) # True"
   ]
  },
  {
   "cell_type": "code",
   "execution_count": 11,
   "id": "8e91289e-218e-404d-896d-19d62f7d8642",
   "metadata": {},
   "outputs": [],
   "source": [
    "class SalesEmployee(Employee):\n",
    "    pass"
   ]
  },
  {
   "cell_type": "code",
   "execution_count": 12,
   "id": "b81ca3a3-872d-4815-abac-9d6701f7df95",
   "metadata": {},
   "outputs": [
    {
     "name": "stdout",
     "output_type": "stream",
     "text": [
      "True\n",
      "True\n"
     ]
    }
   ],
   "source": [
    "print(issubclass(SalesEmployee, Employee)) # True\n",
    "print(issubclass(SalesEmployee, Person)) # True"
   ]
  },
  {
   "cell_type": "code",
   "execution_count": 13,
   "id": "3e3b2f18-132c-4380-a348-65ce0173b019",
   "metadata": {},
   "outputs": [
    {
     "name": "stdout",
     "output_type": "stream",
     "text": [
      "True\n"
     ]
    }
   ],
   "source": [
    "print(issubclass(Person, object)) # True"
   ]
  },
  {
   "cell_type": "markdown",
   "id": "4718a005-9ed1-4cb6-813c-94557e9e0d41",
   "metadata": {},
   "source": [
    "### Summary\n",
    "- Inheritance allows a class to reuse existing attributes and methods of another class.\n",
    "- The class that inherits from another class is called a child class, a subclass, or a derived class.\n",
    "- The class from which other classes inherit is call a parent class, a super class, or a base class.\n",
    "- Use isinstance() to check if an object is an instance of a class.\n",
    "- Use issubclass() to check if a class is a subclass of another class."
   ]
  },
  {
   "cell_type": "code",
   "execution_count": null,
   "id": "01e82e5f-d33b-4dc7-ad9a-4ffbab32d0a1",
   "metadata": {},
   "outputs": [],
   "source": []
  }
 ],
 "metadata": {
  "kernelspec": {
   "display_name": "Python 3 (ipykernel)",
   "language": "python",
   "name": "python3"
  },
  "language_info": {
   "codemirror_mode": {
    "name": "ipython",
    "version": 3
   },
   "file_extension": ".py",
   "mimetype": "text/x-python",
   "name": "python",
   "nbconvert_exporter": "python",
   "pygments_lexer": "ipython3",
   "version": "3.9.12"
  }
 },
 "nbformat": 4,
 "nbformat_minor": 5
}
