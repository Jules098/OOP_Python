{
 "cells": [
  {
   "cell_type": "markdown",
   "id": "efc52744-31af-4a75-987d-83ed0ec54e07",
   "metadata": {},
   "source": [
    "### Introduction to Python Overriding Methods"
   ]
  },
  {
   "cell_type": "code",
   "execution_count": 1,
   "id": "1768240a-d767-48de-a716-682a64ac95b9",
   "metadata": {},
   "outputs": [],
   "source": [
    "class Employee:\n",
    "    \n",
    "    def __init__(self, name, base_pay):\n",
    "        self.name = name\n",
    "        self.base_pay = base_pay\n",
    "        \n",
    "    def get_pay(self):\n",
    "        return self.base_pay"
   ]
  },
  {
   "cell_type": "code",
   "execution_count": 2,
   "id": "dc21de2e-10e5-4ee8-b267-890b9465c243",
   "metadata": {},
   "outputs": [],
   "source": [
    "class SalesEmployee(Employee):\n",
    "    \n",
    "    def __init__(self, name, base_pay, sales_incentive):\n",
    "        self.name = name\n",
    "        self.base_pay = base_pay\n",
    "        self.sales_incentive = sales_incentive"
   ]
  },
  {
   "cell_type": "code",
   "execution_count": 3,
   "id": "0e98997e-b1d2-4aa9-811f-63d50469d4b4",
   "metadata": {},
   "outputs": [
    {
     "name": "stdout",
     "output_type": "stream",
     "text": [
      "5000\n"
     ]
    }
   ],
   "source": [
    "john = SalesEmployee('John', 5000, 1500)\n",
    "print(john.get_pay())"
   ]
  },
  {
   "cell_type": "code",
   "execution_count": 4,
   "id": "0042c65b-46c6-4362-b999-23e67296d324",
   "metadata": {},
   "outputs": [],
   "source": [
    "class SalesEmployee(Employee):\n",
    "    \n",
    "    def __init__(self, name, base_pay, sales_incentive):\n",
    "        self.name = name\n",
    "        self.base_pay = base_pay\n",
    "        self.sales_incentive = sales_incentive\n",
    "\n",
    "    def get_pay(self):\n",
    "        return self.base_pay + self.sales_incentive"
   ]
  },
  {
   "cell_type": "code",
   "execution_count": 5,
   "id": "f1c6d163-767f-419f-8f75-522c7fb4fa42",
   "metadata": {},
   "outputs": [
    {
     "name": "stdout",
     "output_type": "stream",
     "text": [
      "6500\n"
     ]
    }
   ],
   "source": [
    "john = SalesEmployee('John', 5000, 1500)\n",
    "print(john.get_pay())"
   ]
  },
  {
   "cell_type": "code",
   "execution_count": 6,
   "id": "9cffbad3-acb9-44c4-9f0a-85601a8f4eca",
   "metadata": {},
   "outputs": [
    {
     "name": "stdout",
     "output_type": "stream",
     "text": [
      "5000\n"
     ]
    }
   ],
   "source": [
    "jane = Employee('Jane', 5000)\n",
    "print(jane.get_pay())"
   ]
  },
  {
   "cell_type": "code",
   "execution_count": 7,
   "id": "e0dea468-9c16-4812-a402-8b05aca73438",
   "metadata": {},
   "outputs": [
    {
     "name": "stdout",
     "output_type": "stream",
     "text": [
      "6500\n",
      "5000\n"
     ]
    }
   ],
   "source": [
    "class Employee:\n",
    "    \n",
    "    def __init__(self, name, base_pay):\n",
    "        self.name = name\n",
    "        self.base_pay = base_pay\n",
    "        \n",
    "    def get_pay(self):\n",
    "        return self.base_pay\n",
    "    \n",
    "class SalesEmployee(Employee):\n",
    "    \n",
    "    def __init__(self, name, base_pay, sales_incentive):\n",
    "        self.name = name\n",
    "        self.base_pay = base_pay\n",
    "        self.sales_incentive = sales_incentive\n",
    "        \n",
    "    def get_pay(self):\n",
    "        return self.base_pay + self.sales_incentive\n",
    "    \n",
    "if __name__ == '__main__':\n",
    "    john = SalesEmployee('John', 5000, 1500)\n",
    "    print(john.get_pay())\n",
    "    \n",
    "    jane = Employee('Jane', 5000)\n",
    "    print(jane.get_pay())"
   ]
  },
  {
   "cell_type": "markdown",
   "id": "b0f48c3f-94f7-48b3-adfa-6d6a543ec75d",
   "metadata": {},
   "source": [
    "### Advanced Method Overriding Example"
   ]
  },
  {
   "cell_type": "code",
   "execution_count": 8,
   "id": "6e55f2c3-66bc-43ee-9997-f9df114024e8",
   "metadata": {},
   "outputs": [],
   "source": [
    "import regex as re"
   ]
  },
  {
   "cell_type": "code",
   "execution_count": 9,
   "id": "4f9ea348-805b-42c9-957c-2ed3e53b0b41",
   "metadata": {},
   "outputs": [],
   "source": [
    "class Parser:\n",
    "    \n",
    "    def __init__(self, text):\n",
    "        self.text = text\n",
    "        \n",
    "    def email(self):\n",
    "        match = re.search(r'[a-z0-9\\.\\-+_]+@[a-z0-9\\.\\-+_]+\\.[a-z]+', self.text)\n",
    "        if match:\n",
    "            return match.group(0)\n",
    "        return None\n",
    "    \n",
    "    def phone(self):\n",
    "        match = re.search(r'\\d{3}-\\d{3}-\\d{4}', self.text)\n",
    "        if match:\n",
    "            return match.group(0)\n",
    "        return None\n",
    "\n",
    "    def parse(self):\n",
    "        return {\n",
    "            'email': self.email(),\n",
    "            'phone': self.phone()\n",
    "        }"
   ]
  },
  {
   "cell_type": "code",
   "execution_count": 10,
   "id": "83c413c4-560f-4be8-8538-a7014227336a",
   "metadata": {},
   "outputs": [
    {
     "name": "stdout",
     "output_type": "stream",
     "text": [
      "{'email': 'email@test.com', 'phone': '408-205-5663'}\n"
     ]
    }
   ],
   "source": [
    "s = 'Contact us via 408-205-5663 or email@test.com'\n",
    "parser = Parser(s)\n",
    "print(parser.parse())"
   ]
  },
  {
   "cell_type": "code",
   "execution_count": 11,
   "id": "c076a4ce-23c6-4d4e-80ab-605b3a661de1",
   "metadata": {},
   "outputs": [],
   "source": [
    "class UkParser(Parser):\n",
    "    def phone(self):\n",
    "        match = re.search(r'(\\+\\d{1}-\\d{3}-\\d{3}-\\d{4})', self.text)\n",
    "        if match:\n",
    "            return match.group(0)\n",
    "        return None"
   ]
  },
  {
   "cell_type": "code",
   "execution_count": 12,
   "id": "94a43f76-39db-4d79-9e55-eb86cc04ef9d",
   "metadata": {},
   "outputs": [
    {
     "name": "stdout",
     "output_type": "stream",
     "text": [
      "{'email': 'email@test.co.uk', 'phone': '+1-650-453-3456'}\n"
     ]
    }
   ],
   "source": [
    "s2 = 'Contact me via +1-650-453-3456 or email@test.co.uk'\n",
    "parser = UkParser(s2)\n",
    "print(parser.parse())"
   ]
  },
  {
   "cell_type": "code",
   "execution_count": 13,
   "id": "79042a90-f1e5-4402-baf5-f1062d5638fc",
   "metadata": {},
   "outputs": [
    {
     "data": {
      "text/plain": [
       "{'email': 'email@test.co.uk', 'phone': '+1-650-453-3456'}"
      ]
     },
     "execution_count": 13,
     "metadata": {},
     "output_type": "execute_result"
    }
   ],
   "source": [
    "parser.parse()"
   ]
  },
  {
   "cell_type": "code",
   "execution_count": 14,
   "id": "783bfecc-443c-46fa-b2ee-a189cf92f54f",
   "metadata": {},
   "outputs": [
    {
     "name": "stdout",
     "output_type": "stream",
     "text": [
      "{'email': 'email@test.com', 'phone': '408-205-5663'}\n",
      "{'email': 'email@test.co.uk', 'phone': '+1-650-453-3456'}\n"
     ]
    }
   ],
   "source": [
    "import re\n",
    "\n",
    "\n",
    "class Parser:\n",
    "    def __init__(self, text):\n",
    "        self.text = text\n",
    "\n",
    "    def email(self):\n",
    "        match = re.search(r'[a-z0-9\\.\\-+_]+@[a-z0-9\\.\\-+_]+\\.[a-z]+', self.text)\n",
    "        if match:\n",
    "            return match.group(0)\n",
    "        return None\n",
    "\n",
    "    def phone(self):\n",
    "        match = re.search(r'\\d{3}-\\d{3}-\\d{4}', self.text)\n",
    "        if match:\n",
    "            return match.group(0)\n",
    "        return None\n",
    "\n",
    "    def parse(self):\n",
    "        return {\n",
    "            'email': self.email(),\n",
    "            'phone': self.phone()\n",
    "        }\n",
    "\n",
    "\n",
    "class UkParser(Parser):\n",
    "    def phone(self):\n",
    "        match = re.search(r'(\\+\\d{1}-\\d{3}-\\d{3}-\\d{4})', self.text)\n",
    "        if match:\n",
    "            return match.group(0)\n",
    "        return None\n",
    "\n",
    "\n",
    "if __name__ == '__main__':\n",
    "    s = 'Contact us via 408-205-5663 or email@test.com'\n",
    "    parser = Parser(s)\n",
    "    print(parser.parse())\n",
    "\n",
    "    s2 = 'Contact me via +1-650-453-3456 or email@test.co.uk'\n",
    "    parser = UkParser(s2)\n",
    "    print(parser.parse())"
   ]
  },
  {
   "cell_type": "markdown",
   "id": "9959de42-ea50-4255-aae4-e3018bfc3d62",
   "metadata": {},
   "source": [
    "### Overriding Attributes"
   ]
  },
  {
   "cell_type": "code",
   "execution_count": 16,
   "id": "36339ea7-29f6-4ea4-9163-d28ed8b53680",
   "metadata": {},
   "outputs": [
    {
     "name": "stdout",
     "output_type": "stream",
     "text": [
      "{'email': 'email@test.com', 'phone': '408-205-5663'}\n",
      "{'email': 'email@test.co.uk', 'phone': '+1-650-453-3456'}\n"
     ]
    }
   ],
   "source": [
    "import re\n",
    "\n",
    "class Parser:\n",
    "    \n",
    "    phone_pattern = r'\\d{3}-\\d{3}-\\d{4}'\n",
    "    \n",
    "    def __init__(self, text):\n",
    "        self.text = text\n",
    "        \n",
    "    def email(self):\n",
    "        match = re.search(r'[a-z0-9\\.\\-+_]+@[a-z0-9\\.\\-+_]+\\.[a-z]+', self.text)\n",
    "        if match:\n",
    "            return match.group(0)\n",
    "        return None\n",
    "    \n",
    "    def phone(self):\n",
    "        match = re.search(self.phone_pattern, self.text)\n",
    "        if match:\n",
    "            return match.group(0)\n",
    "        return None\n",
    "\n",
    "    def parse(self):\n",
    "        return {\n",
    "            'email': self.email(),\n",
    "            'phone': self.phone()\n",
    "        }\n",
    "\n",
    "\n",
    "class UkParser(Parser):\n",
    "    phone_pattern = r'(\\+\\d{1}-\\d{3}-\\d{3}-\\d{4})'\n",
    "\n",
    "\n",
    "if __name__ == '__main__':\n",
    "    s = 'Contact us via 408-205-5663 or email@test.com'\n",
    "    parser = Parser(s)\n",
    "    print(parser.parse())\n",
    "\n",
    "    s2 = 'Contact me via +1-650-453-3456 or email@test.co.uk'\n",
    "    parser = UkParser(s2)\n",
    "    print(parser.parse())"
   ]
  },
  {
   "cell_type": "markdown",
   "id": "b9070460-0504-4979-9cc7-a17d545323f2",
   "metadata": {},
   "source": [
    "### Summary\n",
    "- Method overrding allows a child class to provide a specific implementation of a method that is already provided by one of its parent class."
   ]
  },
  {
   "cell_type": "code",
   "execution_count": null,
   "id": "f3dea5e9-2247-48ba-b725-6fc05b436217",
   "metadata": {},
   "outputs": [],
   "source": []
  }
 ],
 "metadata": {
  "kernelspec": {
   "display_name": "Python 3 (ipykernel)",
   "language": "python",
   "name": "python3"
  },
  "language_info": {
   "codemirror_mode": {
    "name": "ipython",
    "version": 3
   },
   "file_extension": ".py",
   "mimetype": "text/x-python",
   "name": "python",
   "nbconvert_exporter": "python",
   "pygments_lexer": "ipython3",
   "version": "3.9.12"
  }
 },
 "nbformat": 4,
 "nbformat_minor": 5
}
