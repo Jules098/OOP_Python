{
 "cells": [
  {
   "cell_type": "markdown",
   "id": "bb44147c-a0b6-4809-aea2-30d21873d8e3",
   "metadata": {},
   "source": [
    "### Introduction to the Python Super"
   ]
  },
  {
   "cell_type": "code",
   "execution_count": 3,
   "id": "e0023239-3c11-44b5-ae4c-c9a213cb8d09",
   "metadata": {},
   "outputs": [],
   "source": [
    "class Employee:\n",
    "    \n",
    "    def __init__(self, name, base_pay, bonus):\n",
    "        self.name = name\n",
    "        self.base_pay = base_pay\n",
    "        self.bonus = bonus\n",
    "        \n",
    "    def get_pay(self):\n",
    "        return self.base_pay + self.bonus"
   ]
  },
  {
   "cell_type": "code",
   "execution_count": 4,
   "id": "3ccabfe3-d119-4409-86aa-52ae3ff75558",
   "metadata": {},
   "outputs": [],
   "source": [
    "class SalesEmployee(Employee):\n",
    "    \n",
    "    def __init__(self, name, base_pay, bonus, sales_incentive):\n",
    "        self.name = name\n",
    "        self.base_pay = base_pay\n",
    "        self.bonus = bonus\n",
    "        self.sales_incentive = sales_incentive\n",
    "        \n",
    "    def get_pay(self):\n",
    "        return self.base_pay + self.bonus + self.sales_incentive"
   ]
  },
  {
   "cell_type": "markdown",
   "id": "3d4aa957-fd65-48d8-8142-55bca1cfdaee",
   "metadata": {},
   "source": [
    "### super().__init__()"
   ]
  },
  {
   "cell_type": "markdown",
   "id": "59b9edff-0b2d-4409-a9a8-1fca1bad8196",
   "metadata": {},
   "source": [
    "To reference the Employee class in the SalesEmployee class, you use the super(). The super() returns a reference of the parent class from a child class."
   ]
  },
  {
   "cell_type": "code",
   "execution_count": 5,
   "id": "c556f636-b5d8-4c12-8136-e1115a4c6a16",
   "metadata": {},
   "outputs": [],
   "source": [
    "class SalesEmployee(Employee):\n",
    "    \n",
    "    def __init__(self, name, base_pay, bonus, sales_incentive):\n",
    "        super().__init__(name, base_pay, bonus)\n",
    "        self.sales_incentive = sales_incentive\n",
    "        \n",
    "    def get_pay(self):\n",
    "        return self.base_pay + self.bonus + self.sales_incentive"
   ]
  },
  {
   "cell_type": "markdown",
   "id": "cd7f866e-e96e-411c-b436-0c6a53a5f341",
   "metadata": {},
   "source": [
    "### Delegating to other Methods in the Parent Class"
   ]
  },
  {
   "cell_type": "code",
   "execution_count": 6,
   "id": "c67308f9-c537-4aee-8c2c-4fe755aa7bda",
   "metadata": {},
   "outputs": [],
   "source": [
    "class SalesEmployee(Employee):\n",
    "    \n",
    "    def __init__(self, name, base_pay, bonus, sales_incentive):\n",
    "        super().__init__(name, base_pay, bonus)\n",
    "        self.sales_incentive = sales_incentive\n",
    "        \n",
    "    def get_pay(self):\n",
    "        return super().get_pay() + self.sales_incentive"
   ]
  },
  {
   "cell_type": "code",
   "execution_count": 8,
   "id": "5ba757ff-1fc3-4fdb-bee5-fffaef4ec16b",
   "metadata": {},
   "outputs": [],
   "source": [
    "# super().get_pay()"
   ]
  },
  {
   "cell_type": "markdown",
   "id": "424e897c-0572-4ead-967b-ee80a86ce289",
   "metadata": {},
   "source": [
    "### Put it all Together"
   ]
  },
  {
   "cell_type": "code",
   "execution_count": 9,
   "id": "c5048446-ea8c-407c-abf5-7fb3deb0d9af",
   "metadata": {},
   "outputs": [
    {
     "name": "stdout",
     "output_type": "stream",
     "text": [
      "8000\n"
     ]
    }
   ],
   "source": [
    "class Employee:\n",
    "    \n",
    "    def __init__(self, name, base_pay, bonus):\n",
    "        self.name = name\n",
    "        self.base_pay = base_pay\n",
    "        self.bonus = bonus\n",
    "        \n",
    "    def get_pay(self):\n",
    "        return self.base_pay + self.bonus\n",
    "    \n",
    "class SalesEmployee(Employee):\n",
    "    \n",
    "    def __init__(self, name, base_pay, bonus, sales_incentive):\n",
    "        super().__init__(name, base_pay, bonus)\n",
    "        self.sales_incentive = sales_incentive\n",
    "        \n",
    "    def get_pay(self):\n",
    "        return super().get_pay() + self.sales_incentive\n",
    "    \n",
    "if __name__ == '__main__':\n",
    "    sales_employee = SalesEmployee('John', 5000, 1000, 2000)\n",
    "    print(sales_employee.get_pay())"
   ]
  },
  {
   "cell_type": "markdown",
   "id": "918e1dcf-25b1-4f27-bb4c-4555a15b0a72",
   "metadata": {},
   "source": [
    "### Summary\n",
    "- Use super() to call the methods of a parent class from a child class."
   ]
  },
  {
   "cell_type": "code",
   "execution_count": null,
   "id": "85f56b94-c5b8-4808-8e6f-43d6431dd669",
   "metadata": {},
   "outputs": [],
   "source": []
  }
 ],
 "metadata": {
  "kernelspec": {
   "display_name": "Python 3 (ipykernel)",
   "language": "python",
   "name": "python3"
  },
  "language_info": {
   "codemirror_mode": {
    "name": "ipython",
    "version": 3
   },
   "file_extension": ".py",
   "mimetype": "text/x-python",
   "name": "python",
   "nbconvert_exporter": "python",
   "pygments_lexer": "ipython3",
   "version": "3.9.12"
  }
 },
 "nbformat": 4,
 "nbformat_minor": 5
}
