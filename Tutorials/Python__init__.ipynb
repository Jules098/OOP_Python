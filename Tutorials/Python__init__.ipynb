{
 "cells": [
  {
   "cell_type": "markdown",
   "id": "c0521c84-1102-4b68-aaf6-e6972ae5e2f2",
   "metadata": {},
   "source": [
    "### Introduction to the Python __init__() method"
   ]
  },
  {
   "cell_type": "code",
   "execution_count": 1,
   "id": "282e7cdf-01da-4d7a-a973-319820fc24c7",
   "metadata": {},
   "outputs": [
    {
     "name": "stdout",
     "output_type": "stream",
     "text": [
      "I'm John. I'm 25 years old.\n"
     ]
    }
   ],
   "source": [
    "class Person:\n",
    "    def __init__(self, name, age):\n",
    "        self.name = name\n",
    "        self.age = age\n",
    "        \n",
    "if __name__ == '__main__':\n",
    "    person = Person('John', 25)\n",
    "    print(f\"I'm {person.name}. I'm {person.age} years old.\")"
   ]
  },
  {
   "cell_type": "markdown",
   "id": "f00c1001-852a-4352-b8ab-9b1b25245009",
   "metadata": {},
   "source": [
    "### The init method with default parameters"
   ]
  },
  {
   "cell_type": "code",
   "execution_count": 2,
   "id": "604462e1-7080-4b0f-8f39-742b6c1ec45b",
   "metadata": {},
   "outputs": [
    {
     "name": "stdout",
     "output_type": "stream",
     "text": [
      "I'm John. I'm 22 years old.\n"
     ]
    }
   ],
   "source": [
    "class Person:\n",
    "    def __init__(self, name, age=22):\n",
    "        self.name = name\n",
    "        self.age = age\n",
    "\n",
    "\n",
    "if __name__ == '__main__':\n",
    "    person = Person('John')\n",
    "    print(f\"I'm {person.name}. I'm {person.age} years old.\")"
   ]
  },
  {
   "cell_type": "code",
   "execution_count": null,
   "id": "bb7bbc5c-d679-4207-8574-b3da496d1778",
   "metadata": {},
   "outputs": [],
   "source": []
  }
 ],
 "metadata": {
  "kernelspec": {
   "display_name": "Python 3 (ipykernel)",
   "language": "python",
   "name": "python3"
  },
  "language_info": {
   "codemirror_mode": {
    "name": "ipython",
    "version": 3
   },
   "file_extension": ".py",
   "mimetype": "text/x-python",
   "name": "python",
   "nbconvert_exporter": "python",
   "pygments_lexer": "ipython3",
   "version": "3.9.12"
  }
 },
 "nbformat": 4,
 "nbformat_minor": 5
}
