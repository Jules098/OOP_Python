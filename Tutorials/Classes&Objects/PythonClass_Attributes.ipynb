{
 "cells": [
  {
   "cell_type": "markdown",
   "id": "8d79d83d-809e-480f-95b8-4ec328eb1bc1",
   "metadata": {},
   "source": [
    "### Introduction to Class Attributes"
   ]
  },
  {
   "cell_type": "code",
   "execution_count": 1,
   "id": "42b148f3-44a3-4096-8f14-f10d2394a9d6",
   "metadata": {},
   "outputs": [],
   "source": [
    "class Circle:\n",
    "    \n",
    "    def __init__(self, radius):\n",
    "        self.pi = 3.14159 # instance attributes\n",
    "        self.radius = radius # instance attributes\n",
    "        \n",
    "    def area(self):\n",
    "        return self.pi * self.radius**2\n",
    "    \n",
    "    def circumference(self):\n",
    "        return 2 * self.pi * self.radius"
   ]
  },
  {
   "cell_type": "markdown",
   "id": "2d6ec126-ad6f-4496-9dec-573b60154a86",
   "metadata": {},
   "source": [
    "The class attributes don’t associate with any specific instance of the class. But they’re shared by all instances of the class."
   ]
  },
  {
   "cell_type": "markdown",
   "id": "23ff94c0-7553-44b3-bc17-7c245ad2011a",
   "metadata": {},
   "source": [
    "To define a class attribute, you place it outside of the __init__() method. For example, the following defines pi as a class attribute:"
   ]
  },
  {
   "cell_type": "code",
   "execution_count": 2,
   "id": "566c05bc-008a-4e91-85b0-e01b66ee6447",
   "metadata": {},
   "outputs": [],
   "source": [
    "class Circle:\n",
    "    \n",
    "    pi = 3.14159\n",
    "\n",
    "    def __init__(self, radius):\n",
    "        self.radius = radius\n",
    "\n",
    "    def area(self):\n",
    "        return self.pi * self.radius**2\n",
    "\n",
    "    def circumference(self):\n",
    "        return 2 * self.pi * self.radius"
   ]
  },
  {
   "cell_type": "code",
   "execution_count": 3,
   "id": "3275c646-7806-48f5-9831-97642368bbd2",
   "metadata": {},
   "outputs": [],
   "source": [
    "# object_name.class_attribute\n",
    "# class_name.class_attribute"
   ]
  },
  {
   "cell_type": "code",
   "execution_count": 4,
   "id": "c911ca57-52d6-43b1-896f-579071da4ecd",
   "metadata": {},
   "outputs": [
    {
     "name": "stdout",
     "output_type": "stream",
     "text": [
      "3.14159\n",
      "3.14159\n"
     ]
    }
   ],
   "source": [
    "c = Circle(10)\n",
    "\n",
    "print(c.pi)\n",
    "print(Circle.pi)"
   ]
  },
  {
   "cell_type": "markdown",
   "id": "093a5448-62fc-48b9-b604-60c3a7acf9e1",
   "metadata": {},
   "source": [
    "### How Python Class Attributes Work"
   ]
  },
  {
   "cell_type": "code",
   "execution_count": 5,
   "id": "b891ec4f-5131-4c25-9580-4966caa6a3c5",
   "metadata": {},
   "outputs": [
    {
     "name": "stdout",
     "output_type": "stream",
     "text": [
      "20\n",
      "10\n"
     ]
    }
   ],
   "source": [
    "class Test:\n",
    "    \n",
    "    x = 10\n",
    "    \n",
    "    def __init__(self):\n",
    "        self.x = 20\n",
    "        \n",
    "test = Test()\n",
    "\n",
    "print(test.x)\n",
    "print(Test.x)"
   ]
  },
  {
   "cell_type": "markdown",
   "id": "bb8b032a-d767-46dc-bcc1-9faaba3d3706",
   "metadata": {},
   "source": [
    "### When to use Python Class Attributes"
   ]
  },
  {
   "cell_type": "markdown",
   "id": "2c365564-9dbf-430f-9a98-090b426419c8",
   "metadata": {},
   "source": [
    "#### 1) Storing class constants\n",
    "- Since a constant doesn’t change from instance to instance of a class, it’s handy to store it as a class attribute.\n",
    "\n",
    "- For example, the Circle class has the pi constant that is the same for all instances of the class. Therefore, it’s a good candidate for the class attributes."
   ]
  },
  {
   "cell_type": "markdown",
   "id": "f9be23ca-dfc0-40f7-b1a9-132bbc1ea8a3",
   "metadata": {},
   "source": [
    "#### 2) Tracking data across of all instances\n",
    "- The following adds the circle_list class attribute to the Circle class. When you create a new instance of the Circle class, the constructor adds the instance to the list:"
   ]
  },
  {
   "cell_type": "code",
   "execution_count": 6,
   "id": "cbeb3b22-8057-492c-912b-6a2ed4f7f508",
   "metadata": {},
   "outputs": [
    {
     "name": "stdout",
     "output_type": "stream",
     "text": [
      "2\n"
     ]
    }
   ],
   "source": [
    "class Circle:\n",
    "    \n",
    "    circle_list = []\n",
    "    pi = 3.14159\n",
    "    \n",
    "    def __init__(self, radius):\n",
    "        self.radius = radius\n",
    "        self.circle_list.append(self) # add the instance to the circle_list\n",
    "        \n",
    "    def area(self):\n",
    "        return self.pi * self.radius**2\n",
    "    \n",
    "    def circumference(self):\n",
    "        return 2 * self.pi * self.radius\n",
    "    \n",
    "c1 = Circle(10)\n",
    "c2 = Circle(20)\n",
    "\n",
    "print(len(Circle.circle_list))"
   ]
  },
  {
   "cell_type": "markdown",
   "id": "dd1ff5cb-2f2f-4f83-8d29-877d0135b536",
   "metadata": {},
   "source": [
    "#### 3) Defining default values\n",
    "- Sometimes, you want to set a default value for all instances of a class. In this case, you can use a class attribute.\n",
    "\n",
    "- The following example defines a Product class. All the instances of the Product class will have a default discount specified by the default_discount class attribute:"
   ]
  },
  {
   "cell_type": "code",
   "execution_count": 11,
   "id": "2029f33f-4443-45bc-8226-9972cf507934",
   "metadata": {},
   "outputs": [
    {
     "name": "stdout",
     "output_type": "stream",
     "text": [
      "100\n",
      "190.0\n"
     ]
    }
   ],
   "source": [
    "class Product:\n",
    "    \n",
    "    default_discount = 0\n",
    "    \n",
    "    def __init__(self, price):\n",
    "        self.price = price\n",
    "        self.discount = Product.default_discount\n",
    "        \n",
    "    def set_discount(self, discount):\n",
    "        self.discount = discount\n",
    "        \n",
    "    def net_price(self):\n",
    "        return self.price * (1 - self.discount)\n",
    "    \n",
    "p1 = Product(100)\n",
    "print(p1.net_price())\n",
    "\n",
    "p2 = Product(200)\n",
    "p2.set_discount(0.05)\n",
    "print(p2.net_price())"
   ]
  },
  {
   "cell_type": "code",
   "execution_count": null,
   "id": "11ed4b4a-ac4a-4eb4-8a5d-5d1e3fedce35",
   "metadata": {},
   "outputs": [],
   "source": []
  }
 ],
 "metadata": {
  "kernelspec": {
   "display_name": "Python 3 (ipykernel)",
   "language": "python",
   "name": "python3"
  },
  "language_info": {
   "codemirror_mode": {
    "name": "ipython",
    "version": 3
   },
   "file_extension": ".py",
   "mimetype": "text/x-python",
   "name": "python",
   "nbconvert_exporter": "python",
   "pygments_lexer": "ipython3",
   "version": "3.9.12"
  }
 },
 "nbformat": 4,
 "nbformat_minor": 5
}
