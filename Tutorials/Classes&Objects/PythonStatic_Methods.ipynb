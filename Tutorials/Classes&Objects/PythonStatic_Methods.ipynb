{
 "cells": [
  {
   "cell_type": "markdown",
   "id": "5ac4c5b1-b70a-4b2e-998d-79c9d60e6e54",
   "metadata": {},
   "source": [
    "### Introduction to Static Methods"
   ]
  },
  {
   "cell_type": "code",
   "execution_count": 3,
   "id": "52202376-07b2-465a-bfe8-c197edb3fca0",
   "metadata": {},
   "outputs": [],
   "source": [
    "class className:\n",
    "    \n",
    "    @staticmethod\n",
    "    def static_method_name(param_list):\n",
    "        pass"
   ]
  },
  {
   "cell_type": "code",
   "execution_count": 4,
   "id": "798f5892-8afa-4513-88cf-82eb563b6438",
   "metadata": {},
   "outputs": [],
   "source": [
    "# className.static_method_name()"
   ]
  },
  {
   "cell_type": "markdown",
   "id": "435485e9-0d65-420b-869e-9ad0326a6e54",
   "metadata": {},
   "source": [
    "### Python Static Method Examples"
   ]
  },
  {
   "cell_type": "code",
   "execution_count": 6,
   "id": "e301e80d-a5aa-4472-90c4-4253a7d1e5d2",
   "metadata": {},
   "outputs": [],
   "source": [
    "class TemperatureConverter:\n",
    "    \n",
    "    KEVIN = 'K'\n",
    "    FAHRENHEIT = 'F'\n",
    "    CELSIUS = 'C'\n",
    "    \n",
    "    @staticmethod\n",
    "    def celsius_to_fahrenheit(c):\n",
    "        return 9 * c/5 + 32\n",
    "    \n",
    "    @staticmethod\n",
    "    def fahrenheit_to_celsius(f):\n",
    "        return 5 * (f-32)/9\n",
    "    \n",
    "    @staticmethod\n",
    "    def celsius_to_kelvin(c):\n",
    "        return c + 273.15\n",
    "    \n",
    "    @staticmethod\n",
    "    def kelvin_to_celsius(k):\n",
    "        return k - 273.15\n",
    "    \n",
    "    @staticmethod\n",
    "    def fahrenheit_to_kelvin(f):\n",
    "        return 5 * (f+459.67)/9\n",
    "    \n",
    "    @staticmethod\n",
    "    def kelvin_to_fahrenheit(k):\n",
    "        return 9 * k/5 - 459.67\n",
    "    \n",
    "    @staticmethod\n",
    "    def format(value, unit):\n",
    "        symbol = ''\n",
    "        if unit == TemperatureConverter.FAHRENHEIT:\n",
    "            symbol = '°F'\n",
    "        elif unit == TemperatureConverter.CELSIUS:\n",
    "            symbol == '°C'\n",
    "        elif unit == TermperatureConverter.KEVIN:\n",
    "            symbol == '°K'\n",
    "        \n",
    "        return f'{value}{symbol}'"
   ]
  },
  {
   "cell_type": "code",
   "execution_count": 7,
   "id": "88615117-08a6-46a9-9a62-f2ef1de73260",
   "metadata": {},
   "outputs": [
    {
     "name": "stdout",
     "output_type": "stream",
     "text": [
      "95.0°F\n"
     ]
    }
   ],
   "source": [
    "f = TemperatureConverter.celsius_to_fahrenheit(35)\n",
    "print(TemperatureConverter.format(f, TemperatureConverter.FAHRENHEIT))"
   ]
  },
  {
   "cell_type": "markdown",
   "id": "0c39730d-3f6c-4f1c-b5ee-28d8166c8f04",
   "metadata": {},
   "source": [
    "### Summary\n",
    "- Use static methods to define utility methods or group a logically related functions into a class.\n",
    "- Use the @staticmethod decorator to define a static method."
   ]
  },
  {
   "cell_type": "code",
   "execution_count": null,
   "id": "7bd927b5-5d09-4ef2-9388-123a4a7c8ef1",
   "metadata": {},
   "outputs": [],
   "source": []
  }
 ],
 "metadata": {
  "kernelspec": {
   "display_name": "Python 3 (ipykernel)",
   "language": "python",
   "name": "python3"
  },
  "language_info": {
   "codemirror_mode": {
    "name": "ipython",
    "version": 3
   },
   "file_extension": ".py",
   "mimetype": "text/x-python",
   "name": "python",
   "nbconvert_exporter": "python",
   "pygments_lexer": "ipython3",
   "version": "3.9.12"
  }
 },
 "nbformat": 4,
 "nbformat_minor": 5
}
