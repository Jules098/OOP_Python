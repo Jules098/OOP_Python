{
 "cells": [
  {
   "cell_type": "markdown",
   "id": "e7fa3f44-81c6-4b75-90d9-2738ae0eae3c",
   "metadata": {},
   "source": [
    "### Introduction to Python class methods"
   ]
  },
  {
   "cell_type": "code",
   "execution_count": 1,
   "id": "41b2f9ce-617e-4ae4-8628-a4c743f86ed3",
   "metadata": {},
   "outputs": [],
   "source": [
    "class Person:\n",
    "    \n",
    "    def __init__(self, first_name, last_name, age):\n",
    "        self.first_name = first_name\n",
    "        self.last_name = last_name\n",
    "        self.age = age\n",
    "        \n",
    "    def get_full_name(self):\n",
    "        return f\"{self.first_name} {self.last_name}\"\n",
    "    \n",
    "    def introduce(self):\n",
    "        return f\"Hi. I'm {self.first_name} {self.last_name}. I'm {self.age} years old.\""
   ]
  },
  {
   "cell_type": "markdown",
   "id": "18d2ff49-9dac-4dee-96a2-2828f1c3838c",
   "metadata": {},
   "source": [
    "The Person class has three instance methods including __init__(), get_full_name(), and introduce()."
   ]
  },
  {
   "cell_type": "code",
   "execution_count": 3,
   "id": "aac06acf-57c4-41fa-bebd-8f04f8f28803",
   "metadata": {},
   "outputs": [],
   "source": [
    "class Person:\n",
    "    \n",
    "    def __init__(self, first_name, last_name, age):\n",
    "        self.first_name = first_name\n",
    "        self.last_name = last_name\n",
    "        self.age = age\n",
    "        \n",
    "    def get_full_name(self):\n",
    "        return f\"{self.first_name} {self.last_name}\"\n",
    "    \n",
    "    def introduce(self):\n",
    "        return f\"Hi. I'm {self.first_name} {self.last_name}. I'm {self.age} years old.\"\n",
    "    \n",
    "    @classmethod\n",
    "    def create_anonymous(cls):\n",
    "        return Person('John', 'Doe', 25)"
   ]
  },
  {
   "cell_type": "markdown",
   "id": "947930f9-d729-4ef2-86b1-1ccc7ceea74a",
   "metadata": {},
   "source": [
    "### Calling Python Class Methods"
   ]
  },
  {
   "cell_type": "code",
   "execution_count": null,
   "id": "fb551b13-037b-45c5-8ddb-08d660e9c474",
   "metadata": {},
   "outputs": [],
   "source": [
    "ClassName.method_name()"
   ]
  },
  {
   "cell_type": "code",
   "execution_count": 5,
   "id": "2b4d4420-0891-45fa-8a7c-0771b30018fb",
   "metadata": {},
   "outputs": [
    {
     "name": "stdout",
     "output_type": "stream",
     "text": [
      "Hi. I'm John Doe. I'm 25 years old.\n"
     ]
    }
   ],
   "source": [
    "anonymous = Person.create_anonymous()\n",
    "print(anonymous.introduce())"
   ]
  },
  {
   "cell_type": "markdown",
   "id": "e5edb361-1f0b-413b-b4fb-63e9f4604904",
   "metadata": {},
   "source": [
    "### Class Methods vs Instance Methods"
   ]
  },
  {
   "cell_type": "code",
   "execution_count": null,
   "id": "8c0cb74e-ef74-46f7-9166-a9ae330aa51b",
   "metadata": {},
   "outputs": [],
   "source": []
  }
 ],
 "metadata": {
  "kernelspec": {
   "display_name": "Python 3 (ipykernel)",
   "language": "python",
   "name": "python3"
  },
  "language_info": {
   "codemirror_mode": {
    "name": "ipython",
    "version": 3
   },
   "file_extension": ".py",
   "mimetype": "text/x-python",
   "name": "python",
   "nbconvert_exporter": "python",
   "pygments_lexer": "ipython3",
   "version": "3.9.12"
  }
 },
 "nbformat": 4,
 "nbformat_minor": 5
}
