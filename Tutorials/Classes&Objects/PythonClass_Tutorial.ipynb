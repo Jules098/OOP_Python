{
 "cells": [
  {
   "cell_type": "markdown",
   "id": "4dc41c32-a51a-442d-82a9-6f165a429758",
   "metadata": {},
   "source": [
    "### Objects"
   ]
  },
  {
   "cell_type": "markdown",
   "id": "8ce46340-6223-40e4-aab5-b26fe7a53ff9",
   "metadata": {},
   "source": [
    "The data represents the object at a particular moment in time. Therefore, the data of an object is called the state. Python uses attributes to model the state of an object."
   ]
  },
  {
   "cell_type": "markdown",
   "id": "62b9a2d5-d885-4471-b8cd-545546687ba6",
   "metadata": {},
   "source": [
    "### Define a Class"
   ]
  },
  {
   "cell_type": "code",
   "execution_count": 1,
   "id": "fe41cb72-47f5-4939-a295-f2f2bce16312",
   "metadata": {},
   "outputs": [],
   "source": [
    "class Person:\n",
    "    pass"
   ]
  },
  {
   "cell_type": "code",
   "execution_count": 2,
   "id": "fe2cea51-12a1-47b2-b2fb-743e6084e167",
   "metadata": {},
   "outputs": [],
   "source": [
    "person = Person()"
   ]
  },
  {
   "cell_type": "code",
   "execution_count": 3,
   "id": "5d9a8a25-fd01-424f-a2d8-ef22b767e203",
   "metadata": {},
   "outputs": [
    {
     "name": "stdout",
     "output_type": "stream",
     "text": [
      "<__main__.Person object at 0x7fd066475be0>\n"
     ]
    }
   ],
   "source": [
    "class Person:\n",
    "    pass\n",
    "\n",
    "print(person)"
   ]
  },
  {
   "cell_type": "code",
   "execution_count": 6,
   "id": "6605e48f-906e-4751-a1df-1627a57a932d",
   "metadata": {},
   "outputs": [
    {
     "name": "stdout",
     "output_type": "stream",
     "text": [
      "140533045877728\n"
     ]
    }
   ],
   "source": [
    "print(id(person))"
   ]
  },
  {
   "cell_type": "code",
   "execution_count": 7,
   "id": "41225354-1769-4d5f-aabd-6837b8225349",
   "metadata": {},
   "outputs": [
    {
     "name": "stdout",
     "output_type": "stream",
     "text": [
      "0x7fd066475be0\n"
     ]
    }
   ],
   "source": [
    "print(hex(id(person)))"
   ]
  },
  {
   "cell_type": "code",
   "execution_count": 8,
   "id": "10b55ad6-deb6-49f5-b98e-99c9ffb911ba",
   "metadata": {},
   "outputs": [
    {
     "name": "stdout",
     "output_type": "stream",
     "text": [
      "False\n"
     ]
    }
   ],
   "source": [
    "print(isinstance(person, Person))"
   ]
  },
  {
   "cell_type": "markdown",
   "id": "13f167ca-d148-4b8a-a9e0-6f59a3fb5e1b",
   "metadata": {},
   "source": [
    "### A Class is also an Object"
   ]
  },
  {
   "cell_type": "code",
   "execution_count": 9,
   "id": "309dbf86-1b66-4bb3-911c-3975fbdbe04d",
   "metadata": {},
   "outputs": [
    {
     "name": "stdout",
     "output_type": "stream",
     "text": [
      "Person\n"
     ]
    }
   ],
   "source": [
    "print(Person.__name__)"
   ]
  },
  {
   "cell_type": "code",
   "execution_count": 10,
   "id": "bde86423-e48c-4777-9d6e-054259d5ec6e",
   "metadata": {},
   "outputs": [
    {
     "name": "stdout",
     "output_type": "stream",
     "text": [
      "<class 'type'>\n"
     ]
    }
   ],
   "source": [
    "print(type(Person))"
   ]
  },
  {
   "cell_type": "code",
   "execution_count": 11,
   "id": "2e445d17-3995-467c-9ea5-074b84952d84",
   "metadata": {},
   "outputs": [],
   "source": [
    "person = Person()"
   ]
  },
  {
   "cell_type": "markdown",
   "id": "8082fd00-0f2c-4a95-a72e-c5b05ffb2be8",
   "metadata": {},
   "source": [
    "Summary\n",
    "- An object is container that contains state and behavior.\n",
    "- A class is a blueprint for creating objects.\n",
    "- In Python, a class is also an object, which is an instance of the type."
   ]
  },
  {
   "cell_type": "code",
   "execution_count": null,
   "id": "581a4fd7-604e-4f6f-af21-412edcf64490",
   "metadata": {},
   "outputs": [],
   "source": []
  }
 ],
 "metadata": {
  "kernelspec": {
   "display_name": "Python 3 (ipykernel)",
   "language": "python",
   "name": "python3"
  },
  "language_info": {
   "codemirror_mode": {
    "name": "ipython",
    "version": 3
   },
   "file_extension": ".py",
   "mimetype": "text/x-python",
   "name": "python",
   "nbconvert_exporter": "python",
   "pygments_lexer": "ipython3",
   "version": "3.9.12"
  }
 },
 "nbformat": 4,
 "nbformat_minor": 5
}
