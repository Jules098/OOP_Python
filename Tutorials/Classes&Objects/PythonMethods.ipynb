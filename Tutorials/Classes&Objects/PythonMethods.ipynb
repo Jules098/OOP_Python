{
 "cells": [
  {
   "cell_type": "markdown",
   "id": "ab25882f-7c41-4af1-af13-010750da0dee",
   "metadata": {},
   "source": [
    "### Introduction to Python Methods"
   ]
  },
  {
   "cell_type": "markdown",
   "id": "424ef86c-2d81-4a20-8fcc-904190bb7f69",
   "metadata": {},
   "source": [
    "By definition, a method is a function that is bound to an instance of a class. This tutorial helps you understand how it works under the hood."
   ]
  },
  {
   "cell_type": "code",
   "execution_count": 2,
   "id": "95af6015-7166-480e-95c7-fa4edf2b63f2",
   "metadata": {},
   "outputs": [],
   "source": [
    "class Request:\n",
    "    def send():\n",
    "        print('Sent')"
   ]
  },
  {
   "cell_type": "code",
   "execution_count": 3,
   "id": "88eb21ce-15eb-43f5-b2bd-fa78faa16d40",
   "metadata": {},
   "outputs": [
    {
     "name": "stdout",
     "output_type": "stream",
     "text": [
      "Sent\n"
     ]
    }
   ],
   "source": [
    "Request.send()"
   ]
  },
  {
   "cell_type": "code",
   "execution_count": 5,
   "id": "7dc58b31-0f5c-4814-9eb0-ede21acaf329",
   "metadata": {},
   "outputs": [
    {
     "name": "stdout",
     "output_type": "stream",
     "text": [
      "<function Request.send at 0x7fc0e5cb71f0>\n"
     ]
    }
   ],
   "source": [
    "print(Request.send)"
   ]
  },
  {
   "cell_type": "code",
   "execution_count": 6,
   "id": "014be95c-1d0a-4d10-98c8-d7944a111c1a",
   "metadata": {},
   "outputs": [
    {
     "name": "stdout",
     "output_type": "stream",
     "text": [
      "<class 'function'>\n"
     ]
    }
   ],
   "source": [
    "print(type(Request.send))"
   ]
  },
  {
   "cell_type": "code",
   "execution_count": 7,
   "id": "bde641d2-279e-4903-ac45-1973320fde65",
   "metadata": {},
   "outputs": [],
   "source": [
    "http_request = Request()"
   ]
  },
  {
   "cell_type": "code",
   "execution_count": 8,
   "id": "a183b0f0-8261-42c1-bd17-5360ef977aba",
   "metadata": {},
   "outputs": [
    {
     "name": "stdout",
     "output_type": "stream",
     "text": [
      "<bound method Request.send of <__main__.Request object at 0x7fc0e5c75e50>>\n"
     ]
    }
   ],
   "source": [
    "print(http_request.send)"
   ]
  },
  {
   "cell_type": "code",
   "execution_count": 9,
   "id": "24a8eb1d-6775-42ce-a0f9-42cad69a4e6a",
   "metadata": {},
   "outputs": [
    {
     "name": "stdout",
     "output_type": "stream",
     "text": [
      "False\n"
     ]
    }
   ],
   "source": [
    "print(type(Request.send) is type(http_request.send))"
   ]
  },
  {
   "cell_type": "code",
   "execution_count": 10,
   "id": "d0465192-bbb3-44b0-859b-d6924a414ae4",
   "metadata": {},
   "outputs": [
    {
     "name": "stdout",
     "output_type": "stream",
     "text": [
      "<class 'method'>\n",
      "<class 'function'>\n"
     ]
    }
   ],
   "source": [
    "print(type(http_request.send))\n",
    "print(type(Request.send))"
   ]
  },
  {
   "cell_type": "code",
   "execution_count": 11,
   "id": "a2f83012-4a49-4b62-8625-65c3a8a17e82",
   "metadata": {},
   "outputs": [
    {
     "ename": "TypeError",
     "evalue": "send() takes 0 positional arguments but 1 was given",
     "output_type": "error",
     "traceback": [
      "\u001b[0;31m---------------------------------------------------------------------------\u001b[0m",
      "\u001b[0;31mTypeError\u001b[0m                                 Traceback (most recent call last)",
      "Input \u001b[0;32mIn [11]\u001b[0m, in \u001b[0;36m<cell line: 1>\u001b[0;34m()\u001b[0m\n\u001b[0;32m----> 1\u001b[0m \u001b[43mhttp_request\u001b[49m\u001b[38;5;241;43m.\u001b[39;49m\u001b[43msend\u001b[49m\u001b[43m(\u001b[49m\u001b[43m)\u001b[49m\n",
      "\u001b[0;31mTypeError\u001b[0m: send() takes 0 positional arguments but 1 was given"
     ]
    }
   ],
   "source": [
    "http_request.send()"
   ]
  },
  {
   "cell_type": "code",
   "execution_count": 16,
   "id": "48ccedcb-9015-42fb-930e-5738e650412c",
   "metadata": {},
   "outputs": [],
   "source": [
    "class Request:\n",
    "    def send(*args):\n",
    "        print('Sent', args)"
   ]
  },
  {
   "cell_type": "code",
   "execution_count": 17,
   "id": "2453dc3f-6ae7-4493-8674-6c46ccff9d1c",
   "metadata": {},
   "outputs": [
    {
     "name": "stdout",
     "output_type": "stream",
     "text": [
      "Sent ()\n"
     ]
    }
   ],
   "source": [
    "Request.send()"
   ]
  },
  {
   "cell_type": "code",
   "execution_count": 19,
   "id": "e1ad23b9-eadc-46c2-a109-0784e24de358",
   "metadata": {},
   "outputs": [
    {
     "name": "stdout",
     "output_type": "stream",
     "text": [
      "Sent (<__main__.Request object at 0x7fc0e5d8b8e0>,)\n"
     ]
    }
   ],
   "source": [
    "http_request = Request()\n",
    "http_request.send()"
   ]
  },
  {
   "cell_type": "code",
   "execution_count": 20,
   "id": "78e6e0ea-3b9d-41e0-8dba-b4db7e32cf0e",
   "metadata": {},
   "outputs": [
    {
     "name": "stdout",
     "output_type": "stream",
     "text": [
      "0x7fc0e5d8b8e0\n",
      "Sent (<__main__.Request object at 0x7fc0e5d8b8e0>,)\n"
     ]
    }
   ],
   "source": [
    "print(hex(id(http_request)))\n",
    "http_request.send()"
   ]
  },
  {
   "cell_type": "code",
   "execution_count": 21,
   "id": "63c2979c-d28a-4b4c-ab67-62eb8f1b1508",
   "metadata": {},
   "outputs": [
    {
     "name": "stdout",
     "output_type": "stream",
     "text": [
      "Sent (<__main__.Request object at 0x7fc0e5d8b8e0>,)\n"
     ]
    }
   ],
   "source": [
    "http_request.send()"
   ]
  },
  {
   "cell_type": "code",
   "execution_count": 22,
   "id": "e75e73f4-0ae2-4d7a-926d-05337d39a907",
   "metadata": {},
   "outputs": [
    {
     "name": "stdout",
     "output_type": "stream",
     "text": [
      "Sent (<__main__.Request object at 0x7fc0e5d8b8e0>,)\n"
     ]
    }
   ],
   "source": [
    "Request.send(http_request)"
   ]
  },
  {
   "cell_type": "code",
   "execution_count": 23,
   "id": "d9bb16b1-1d61-4ee7-aa5d-3f2002b6d19c",
   "metadata": {},
   "outputs": [],
   "source": [
    "class Request:\n",
    "    def send(self):\n",
    "        print('Sent', self)"
   ]
  },
  {
   "cell_type": "markdown",
   "id": "0327c404-45ef-4bc0-9363-264ac49daba2",
   "metadata": {},
   "source": [
    "### Summary\n",
    "- When you define a function inside a class, it’s purely a function. However, when you call the function via an instance of a class, the function becomes a method. Therefore, a method is a function that is bound to an instance of a class.\n",
    "- A method is an instance of the method class.\n",
    "- A method has the first argument (self) as the object to which it is bound.\n",
    "- Python automatically passes the bound object to the method as the first argument. By convention, its name is self."
   ]
  },
  {
   "cell_type": "code",
   "execution_count": null,
   "id": "929f6986-4ada-448b-8641-cfda9e004662",
   "metadata": {},
   "outputs": [],
   "source": []
  }
 ],
 "metadata": {
  "kernelspec": {
   "display_name": "Python 3 (ipykernel)",
   "language": "python",
   "name": "python3"
  },
  "language_info": {
   "codemirror_mode": {
    "name": "ipython",
    "version": 3
   },
   "file_extension": ".py",
   "mimetype": "text/x-python",
   "name": "python",
   "nbconvert_exporter": "python",
   "pygments_lexer": "ipython3",
   "version": "3.9.12"
  }
 },
 "nbformat": 4,
 "nbformat_minor": 5
}
