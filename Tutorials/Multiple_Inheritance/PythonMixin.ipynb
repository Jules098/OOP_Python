{
 "cells": [
  {
   "cell_type": "markdown",
   "id": "5ad33028-5718-4151-934c-026386e491ee",
   "metadata": {},
   "source": [
    "### Introduction to Python Mixin"
   ]
  },
  {
   "cell_type": "markdown",
   "id": "e9633259-871f-4d20-976b-0ddaa1da6b61",
   "metadata": {},
   "source": [
    "First, define a Person class:"
   ]
  },
  {
   "cell_type": "code",
   "execution_count": 1,
   "id": "dd122e15-384a-4a31-9e6e-c9f13225c9e5",
   "metadata": {},
   "outputs": [],
   "source": [
    "class Person:\n",
    "    \n",
    "    def __init__(self, name):\n",
    "        self.name = name"
   ]
  },
  {
   "cell_type": "markdown",
   "id": "92d44050-e0d9-4585-8fa3-2775f05abd9e",
   "metadata": {},
   "source": [
    "Second, define an Employee class that inherits from the Person class:"
   ]
  },
  {
   "cell_type": "code",
   "execution_count": 2,
   "id": "42b54004-0e3f-4a54-8b4c-b3b273385ce6",
   "metadata": {},
   "outputs": [],
   "source": [
    "class Employee(Person):\n",
    "    \n",
    "    def __init__(self, name, skills, dependents):\n",
    "        super().__init__(name)\n",
    "        self.skills = skills\n",
    "        self.dependents = dependents"
   ]
  },
  {
   "cell_type": "markdown",
   "id": "06b9db88-79ee-49b7-8a84-3d703966589f",
   "metadata": {},
   "source": [
    "Third, create a new instance of the Employee class:"
   ]
  },
  {
   "cell_type": "code",
   "execution_count": 5,
   "id": "d81ae719-0ac6-45d9-9f1c-de5d56da076b",
   "metadata": {},
   "outputs": [],
   "source": [
    "if __name__ == '__main__':\n",
    "    e = Employee(\n",
    "        name='John',\n",
    "        skills=['Python Programming''Project Management'],\n",
    "        dependents={'wife': 'Jane', 'children': ['Alice', 'Bob']}\n",
    "    )"
   ]
  },
  {
   "cell_type": "markdown",
   "id": "315ca243-6670-4b8f-a475-44760e8b3c8e",
   "metadata": {},
   "source": [
    "Suppose you want to convert the Employee object to a dictionary. To do that, you can add a new method to the Employee class, which converts the object to a dictionary."
   ]
  },
  {
   "cell_type": "code",
   "execution_count": 10,
   "id": "09b10e87-855a-4270-987f-46da157fe499",
   "metadata": {},
   "outputs": [],
   "source": [
    "class DictMixin:\n",
    "    \n",
    "    def to_dict(self):\n",
    "        return self._traverse_dict(self.__dict__)\n",
    "\n",
    "    def _traverse_dict(self, attributes: dict) -> dict:\n",
    "        result = {}\n",
    "        for key, value in attributes.items():\n",
    "            result[key] = self._traverse(key, value)\n",
    "\n",
    "        return result\n",
    "\n",
    "    def _traverse(self, key, value):\n",
    "        if isinstance(value, DictMixin):\n",
    "            return value.to_dict()\n",
    "        elif isinstance(value, dict):\n",
    "            return self._traverse_dict(value)\n",
    "        elif isinstance(value, list):\n",
    "            return [self._traverse(key, v) for v in value]\n",
    "        elif hasattr(value, '__dict__'):\n",
    "            return self._traverse_dict(value.__dict__)\n",
    "        else:\n",
    "            return value"
   ]
  },
  {
   "cell_type": "code",
   "execution_count": 11,
   "id": "9e300a87-4322-422f-9256-fff851feda80",
   "metadata": {},
   "outputs": [],
   "source": [
    "class Employee(DictMixin, Person):\n",
    "    \n",
    "    def __init__(self, name, skills, dependents):\n",
    "        super().__init__(name)\n",
    "        self.skills = skills\n",
    "        self.dependents = dependents"
   ]
  },
  {
   "cell_type": "code",
   "execution_count": 12,
   "id": "38b23a16-75da-4096-bbdb-a18c400d0b6b",
   "metadata": {},
   "outputs": [
    {
     "name": "stdout",
     "output_type": "stream",
     "text": [
      "{'dependents': {'children': ['Alice', 'Bob'], 'wife': 'Jane'},\n",
      " 'name': 'John',\n",
      " 'skills': ['Python Programming', 'Project Management']}\n"
     ]
    }
   ],
   "source": [
    "from pprint import pprint\n",
    "\n",
    "e = Employee(\n",
    "    name='John',\n",
    "    skills=['Python Programming', 'Project Management'],\n",
    "    dependents={'wife': 'Jane', 'children': ['Alice', 'Bob']}\n",
    ")\n",
    "\n",
    "pprint(e.to_dict())"
   ]
  },
  {
   "cell_type": "code",
   "execution_count": 13,
   "id": "776ba36a-9389-4dbe-b70d-d8e3aa00e829",
   "metadata": {},
   "outputs": [
    {
     "name": "stdout",
     "output_type": "stream",
     "text": [
      "{'dependents': {'children': ['Alice', 'Bob'], 'wife': 'Jane'},\n",
      " 'name': 'John',\n",
      " 'skills': ['Python Programming', 'Project Management']}\n"
     ]
    }
   ],
   "source": [
    "from pprint import pprint\n",
    "\n",
    "\n",
    "class DictMixin:\n",
    "    \n",
    "    def to_dict(self):\n",
    "        return self._traverse_dict(self.__dict__)\n",
    "\n",
    "    def _traverse_dict(self, attributes):\n",
    "        result = {}\n",
    "        for key, value in attributes.items():\n",
    "            result[key] = self._traverse(key, value)\n",
    "\n",
    "        return result\n",
    "\n",
    "    def _traverse(self, key, value):\n",
    "        if isinstance(value, DictMixin):\n",
    "            return value.to_dict()\n",
    "        elif isinstance(value, dict):\n",
    "            return self._traverse_dict(value)\n",
    "        elif isinstance(value, list):\n",
    "            return [self._traverse(key, v) for v in value]\n",
    "        elif hasattr(value, '__dict__'):\n",
    "            return self._traverse_dict(value.__dict__)\n",
    "        else:\n",
    "            return value\n",
    "\n",
    "\n",
    "class Person:\n",
    "    def __init__(self, name):\n",
    "        self.name = name\n",
    "\n",
    "\n",
    "class Employee(DictMixin, Person):\n",
    "    def __init__(self, name, skills, dependents):\n",
    "        super().__init__(name)\n",
    "        self.skills = skills\n",
    "        self.dependents = dependents\n",
    "\n",
    "\n",
    "if __name__ == '__main__':\n",
    "    e = Employee(\n",
    "        name='John',\n",
    "        skills=['Python Programming', 'Project Management'],\n",
    "        dependents={'wife': 'Jane', 'children': ['Alice', 'Bob']}\n",
    "    )\n",
    "\n",
    "    pprint(e.to_dict())"
   ]
  },
  {
   "cell_type": "markdown",
   "id": "0d6d96f4-3c37-43dc-ad61-c96ec887257a",
   "metadata": {},
   "source": [
    "### Compose Multiple Mixin Classes"
   ]
  },
  {
   "cell_type": "code",
   "execution_count": 14,
   "id": "3016e50f-83db-4189-9961-03a3bdf83b1e",
   "metadata": {},
   "outputs": [],
   "source": [
    "import json\n",
    "\n",
    "class JSONMixin:\n",
    "    def to_json(self):\n",
    "        return json.dumps(self.to_dict())"
   ]
  },
  {
   "cell_type": "code",
   "execution_count": 16,
   "id": "39cc5b81-5518-4780-9fe0-487c6fc8d72c",
   "metadata": {},
   "outputs": [],
   "source": [
    "class Employee(DictMixin, JSONMixin, Person):\n",
    "    \n",
    "    def __init__(self, name, skills, dependents):\n",
    "        super().__init__(name)\n",
    "        self.skills = skills\n",
    "        self.dependents = dependents"
   ]
  },
  {
   "cell_type": "code",
   "execution_count": 18,
   "id": "2e7c06a2-81f9-455d-9a78-05936a8bfe04",
   "metadata": {},
   "outputs": [
    {
     "name": "stdout",
     "output_type": "stream",
     "text": [
      "{'dependents': {'children': ['Alice', 'Bob'], 'wife': 'Jane'},\n",
      " 'name': 'John',\n",
      " 'skills': ['Python Programming', 'Project Management']}\n",
      "{\"name\": \"John\", \"skills\": [\"Python Programming\", \"Project Management\"], \"dependents\": {\"wife\": \"Jane\", \"children\": [\"Alice\", \"Bob\"]}}\n"
     ]
    }
   ],
   "source": [
    "if __name__ == '__main__':\n",
    "    e = Employee(\n",
    "        name='John',\n",
    "        skills=['Python Programming','Project Management'],\n",
    "        dependents={'wife': 'Jane', 'children': ['Alice', 'Bob']}\n",
    "    )\n",
    "\n",
    "    pprint(e.to_dict())\n",
    "    print(e.to_json())"
   ]
  },
  {
   "cell_type": "code",
   "execution_count": 19,
   "id": "21bde55a-79ea-4a05-a3c9-febcc6561dc3",
   "metadata": {},
   "outputs": [
    {
     "name": "stdout",
     "output_type": "stream",
     "text": [
      "{'dependents': {'children': ['Alice', 'Bob'], 'wife': 'Jane'},\n",
      " 'name': 'John',\n",
      " 'skills': ['Python ProgrammingProject Management']}\n",
      "{\"name\": \"John\", \"skills\": [\"Python ProgrammingProject Management\"], \"dependents\": {\"wife\": \"Jane\", \"children\": [\"Alice\", \"Bob\"]}}\n"
     ]
    }
   ],
   "source": [
    "import json\n",
    "from pprint import pprint\n",
    "\n",
    "\n",
    "class DictMixin:\n",
    "    def to_dict(self):\n",
    "        return self._traverse_dict(self.__dict__)\n",
    "\n",
    "    def _traverse_dict(self, attributes):\n",
    "        result = {}\n",
    "        for key, value in attributes.items():\n",
    "            result[key] = self._traverse(key, value)\n",
    "\n",
    "        return result\n",
    "\n",
    "    def _traverse(self, key, value):\n",
    "        if isinstance(value, DictMixin):\n",
    "            return value.to_dict()\n",
    "        elif isinstance(value, dict):\n",
    "            return self._traverse_dict(value)\n",
    "        elif isinstance(value, list):\n",
    "            return [self._traverse(key, v) for v in value]\n",
    "        elif hasattr(value, '__dict__'):\n",
    "            return self._traverse_dict(value.__dict__)\n",
    "        else:\n",
    "            return value\n",
    "\n",
    "\n",
    "class JSONMixin:\n",
    "    def to_json(self):\n",
    "        return json.dumps(self.to_dict())\n",
    "\n",
    "\n",
    "class Person:\n",
    "    def __init__(self, name):\n",
    "        self.name = name\n",
    "\n",
    "\n",
    "class Employee(DictMixin, JSONMixin, Person):\n",
    "    def __init__(self, name, skills, dependents):\n",
    "        super().__init__(name)\n",
    "        self.skills = skills\n",
    "        self.dependents = dependents\n",
    "\n",
    "\n",
    "if __name__ == '__main__':\n",
    "    e = Employee(\n",
    "        name='John',\n",
    "        skills=['Python Programming''Project Management'],\n",
    "        dependents={'wife': 'Jane', 'children': ['Alice', 'Bob']}\n",
    "    )\n",
    "\n",
    "    pprint(e.to_dict())\n",
    "    print(e.to_json())"
   ]
  },
  {
   "cell_type": "markdown",
   "id": "91a2cc92-8044-4713-917c-0b7c27381265",
   "metadata": {},
   "source": [
    "### Summary\n",
    "- A mixin class provides method implementions for resuse by multiple related subclasses."
   ]
  },
  {
   "cell_type": "code",
   "execution_count": null,
   "id": "7dde149c-e8c3-45c9-bb2c-81d187646710",
   "metadata": {},
   "outputs": [],
   "source": []
  }
 ],
 "metadata": {
  "kernelspec": {
   "display_name": "Python 3 (ipykernel)",
   "language": "python",
   "name": "python3"
  },
  "language_info": {
   "codemirror_mode": {
    "name": "ipython",
    "version": 3
   },
   "file_extension": ".py",
   "mimetype": "text/x-python",
   "name": "python",
   "nbconvert_exporter": "python",
   "pygments_lexer": "ipython3",
   "version": "3.9.12"
  }
 },
 "nbformat": 4,
 "nbformat_minor": 5
}
