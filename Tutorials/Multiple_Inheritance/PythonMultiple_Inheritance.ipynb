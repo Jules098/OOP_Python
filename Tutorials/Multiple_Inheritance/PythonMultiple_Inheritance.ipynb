{
 "cells": [
  {
   "cell_type": "markdown",
   "id": "df8f6dc8-1284-4211-a859-6a66e9026473",
   "metadata": {},
   "source": [
    "### Introduction to Python Multiple Inheritance"
   ]
  },
  {
   "cell_type": "code",
   "execution_count": null,
   "id": "7e28c7c0-9834-4564-8d52-5eaabca90b22",
   "metadata": {},
   "outputs": [],
   "source": [
    "class ChildClass(ParentClass1, ParentClass2, ParentClass3):\n",
    "    pass"
   ]
  },
  {
   "cell_type": "code",
   "execution_count": 2,
   "id": "2c2d84c7-a814-442c-9b4d-ccb89ed362e0",
   "metadata": {},
   "outputs": [],
   "source": [
    "class Car:\n",
    "    \n",
    "    def go(self):\n",
    "        print('Going')"
   ]
  },
  {
   "cell_type": "code",
   "execution_count": 3,
   "id": "cf34d912-7604-448e-8f1a-d5ae3972544f",
   "metadata": {},
   "outputs": [],
   "source": [
    "class Flyable:\n",
    "    \n",
    "    def fly(self):\n",
    "        print('Flying')"
   ]
  },
  {
   "cell_type": "code",
   "execution_count": 4,
   "id": "31aab351-3957-4065-8b83-3ef21a480a31",
   "metadata": {},
   "outputs": [],
   "source": [
    "class FlyingCar(Flyable, Car):\n",
    "    pass"
   ]
  },
  {
   "cell_type": "code",
   "execution_count": 5,
   "id": "b6a5b204-22c6-4a55-87d7-a551360a11ea",
   "metadata": {},
   "outputs": [
    {
     "name": "stdout",
     "output_type": "stream",
     "text": [
      "Going\n",
      "Flying\n"
     ]
    }
   ],
   "source": [
    "if __name__ == '__main__':\n",
    "    fc = FlyingCar()\n",
    "    fc.go()\n",
    "    fc.fly()"
   ]
  },
  {
   "cell_type": "markdown",
   "id": "0ef83eed-827b-422b-8cdf-18f5a1512507",
   "metadata": {},
   "source": [
    "### Method Resolution Order (MRO)"
   ]
  },
  {
   "cell_type": "markdown",
   "id": "bfa8b939-ea80-4d09-945f-a78aeb883554",
   "metadata": {},
   "source": [
    "First, add the start() method to the Car, Flyable, and FlyingCar classes. In the start() method of the FlyingCar class, call the start() method of the super():"
   ]
  },
  {
   "cell_type": "code",
   "execution_count": 6,
   "id": "4c069234-fde0-4bac-96cc-8f370032a4e3",
   "metadata": {},
   "outputs": [],
   "source": [
    "class Car:\n",
    "    \n",
    "    def start(self):\n",
    "        print('Start the Car')\n",
    "        \n",
    "    def go(self):\n",
    "        print('Going')\n",
    "        \n",
    "class Flyable:\n",
    "    \n",
    "    def start(self):\n",
    "        print('Start the Flyable object')\n",
    "        \n",
    "    def fly(self):\n",
    "        print('Flying')\n",
    "        \n",
    "class FlyingCar(Flyable, Car):\n",
    "    \n",
    "    def start(self):\n",
    "        super().start()"
   ]
  },
  {
   "cell_type": "markdown",
   "id": "67b0422f-3027-4692-8d2a-b03fb06c1b78",
   "metadata": {},
   "source": [
    "Second, create an instance of the FlyingCar class and call the start() method:"
   ]
  },
  {
   "cell_type": "code",
   "execution_count": 7,
   "id": "a978dcf8-16e6-4976-bd71-07be6a68c039",
   "metadata": {},
   "outputs": [
    {
     "name": "stdout",
     "output_type": "stream",
     "text": [
      "Start the Flyable object\n"
     ]
    }
   ],
   "source": [
    "if __name__ == '__main__':\n",
    "    car = FlyingCar()\n",
    "    car.start()"
   ]
  },
  {
   "cell_type": "code",
   "execution_count": 10,
   "id": "1c9a58d0-a0ce-4703-8bc5-729d2d1ca907",
   "metadata": {},
   "outputs": [
    {
     "name": "stdout",
     "output_type": "stream",
     "text": [
      "(<class '__main__.FlyingCar'>, <class '__main__.Flyable'>, <class '__main__.Car'>, <class 'object'>)\n"
     ]
    }
   ],
   "source": [
    "print(FlyingCar.__mro__)"
   ]
  },
  {
   "cell_type": "code",
   "execution_count": 11,
   "id": "c46277ab-3ab3-4c87-95a3-4ea4fc4be9a1",
   "metadata": {},
   "outputs": [
    {
     "name": "stdout",
     "output_type": "stream",
     "text": [
      "Start the Car\n",
      "(<class '__main__.FlyingCar'>, <class '__main__.Car'>, <class '__main__.Flyable'>, <class 'object'>)\n"
     ]
    }
   ],
   "source": [
    "# Car, Flyable classes...\n",
    "\n",
    "\n",
    "class FlyingCar(Car, Flyable):\n",
    "    def start(self):\n",
    "        super().start()\n",
    "\n",
    "\n",
    "if __name__ == '__main__':\n",
    "    car = FlyingCar()\n",
    "    car.start()\n",
    "\n",
    "    print(FlyingCar.__mro__)"
   ]
  },
  {
   "cell_type": "markdown",
   "id": "5fdb3083-95e9-475b-a588-fd42b302907f",
   "metadata": {},
   "source": [
    "### Multiple Inheritance and Super"
   ]
  },
  {
   "cell_type": "markdown",
   "id": "fdd26f2f-2576-4d8b-9cc0-f5dd95cd1d55",
   "metadata": {},
   "source": [
    "First, add the __init__ method to the Car class:"
   ]
  },
  {
   "cell_type": "code",
   "execution_count": 12,
   "id": "03d08ee6-a7e7-4673-8b93-3783710bf4f8",
   "metadata": {},
   "outputs": [],
   "source": [
    "class Car:\n",
    "    \n",
    "    def __init__(self, door, wheel):\n",
    "        self.door = door\n",
    "        self.wheel = wheel\n",
    "        \n",
    "    def start(self):\n",
    "        print('Start the Car')\n",
    "        \n",
    "    def go(self):\n",
    "        print('Going')"
   ]
  },
  {
   "cell_type": "markdown",
   "id": "20f3fb8d-09ec-41b7-a7bc-3c323d5e75b6",
   "metadata": {},
   "source": [
    "Second, add the __init__ method to the Flyable class:"
   ]
  },
  {
   "cell_type": "code",
   "execution_count": 13,
   "id": "41afae2e-4da5-4eb9-adee-cc101ad86161",
   "metadata": {},
   "outputs": [],
   "source": [
    "class Flyable:\n",
    "    \n",
    "    def __init__(self, wing):\n",
    "        self.wing = wing\n",
    "        \n",
    "    def start(self):\n",
    "        print('Start the Flyable Object')\n",
    "        \n",
    "    def fly(self):\n",
    "        print('Flying')"
   ]
  },
  {
   "cell_type": "markdown",
   "id": "702f5918-f960-4f02-b34a-20e6e8f0fc64",
   "metadata": {},
   "source": [
    "Third, add the __init__ method to the FlyingCar class:"
   ]
  },
  {
   "cell_type": "code",
   "execution_count": 14,
   "id": "c54fe45c-169e-4e71-9969-e89a26aab015",
   "metadata": {},
   "outputs": [],
   "source": [
    "class FlyingCar(Flyable, Car):\n",
    "    \n",
    "    def __init__(self, door, wheel, wing):\n",
    "        super().__init__(wing = wing)\n",
    "        self.door = door\n",
    "        self.wheel = wheel\n",
    "        \n",
    "    def start(self):\n",
    "        super().start()"
   ]
  },
  {
   "cell_type": "code",
   "execution_count": 15,
   "id": "486c113a-b8b9-430c-b888-f49ceb2f813d",
   "metadata": {},
   "outputs": [
    {
     "name": "stdout",
     "output_type": "stream",
     "text": [
      "(<class '__main__.FlyingCar'>, <class '__main__.Flyable'>, <class '__main__.Car'>, <class 'object'>)\n"
     ]
    }
   ],
   "source": [
    "print(FlyingCar.__mro__)"
   ]
  },
  {
   "cell_type": "markdown",
   "id": "559bc57d-83b1-4359-a710-390665881c4a",
   "metadata": {},
   "source": [
    "### Summary\n",
    "- Python multiple inheritance allows one class to inherit from multiple classes.\n",
    "- The method order resolution defines the class search path to find the method to call."
   ]
  },
  {
   "cell_type": "code",
   "execution_count": null,
   "id": "2cbb0af8-6c6f-4bf6-9bef-3dc1fce85206",
   "metadata": {},
   "outputs": [],
   "source": []
  }
 ],
 "metadata": {
  "kernelspec": {
   "display_name": "Python 3 (ipykernel)",
   "language": "python",
   "name": "python3"
  },
  "language_info": {
   "codemirror_mode": {
    "name": "ipython",
    "version": 3
   },
   "file_extension": ".py",
   "mimetype": "text/x-python",
   "name": "python",
   "nbconvert_exporter": "python",
   "pygments_lexer": "ipython3",
   "version": "3.9.12"
  }
 },
 "nbformat": 4,
 "nbformat_minor": 5
}
